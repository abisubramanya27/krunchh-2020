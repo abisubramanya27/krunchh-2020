{
 "cells": [
  {
   "cell_type": "code",
   "execution_count": 1,
   "metadata": {},
   "outputs": [],
   "source": [
    "import pandas as pd\n",
    "import numpy as np"
   ]
  },
  {
   "cell_type": "markdown",
   "metadata": {},
   "source": [
    "<h1>EDA question 3"
   ]
  },
  {
   "cell_type": "code",
   "execution_count": 3,
   "metadata": {},
   "outputs": [
    {
     "data": {
      "text/html": [
       "<div>\n",
       "<style scoped>\n",
       "    .dataframe tbody tr th:only-of-type {\n",
       "        vertical-align: middle;\n",
       "    }\n",
       "\n",
       "    .dataframe tbody tr th {\n",
       "        vertical-align: top;\n",
       "    }\n",
       "\n",
       "    .dataframe thead th {\n",
       "        text-align: right;\n",
       "    }\n",
       "</style>\n",
       "<table border=\"1\" class=\"dataframe\">\n",
       "  <thead>\n",
       "    <tr style=\"text-align: right;\">\n",
       "      <th></th>\n",
       "      <th>Category</th>\n",
       "      <th>City</th>\n",
       "      <th>Country</th>\n",
       "      <th>Customer ID</th>\n",
       "      <th>Customer Name</th>\n",
       "      <th>Market</th>\n",
       "      <th>Order Date</th>\n",
       "      <th>Order ID</th>\n",
       "      <th>Order Priority</th>\n",
       "      <th>Product ID</th>\n",
       "      <th>...</th>\n",
       "      <th>Ship Date</th>\n",
       "      <th>Ship Mode</th>\n",
       "      <th>State</th>\n",
       "      <th>Sub-Category</th>\n",
       "      <th>Discount</th>\n",
       "      <th>Number of Records</th>\n",
       "      <th>Profit</th>\n",
       "      <th>Quantity</th>\n",
       "      <th>Sales</th>\n",
       "      <th>Shipping Cost</th>\n",
       "    </tr>\n",
       "  </thead>\n",
       "  <tbody>\n",
       "    <tr>\n",
       "      <th>0</th>\n",
       "      <td>Office Supplies</td>\n",
       "      <td>Budapest</td>\n",
       "      <td>Hungary</td>\n",
       "      <td>AT-7352</td>\n",
       "      <td>Annie Thurman</td>\n",
       "      <td>EMEA</td>\n",
       "      <td>01-01-2011</td>\n",
       "      <td>HU-2011-1220</td>\n",
       "      <td>High</td>\n",
       "      <td>OFF-TEN-10001585</td>\n",
       "      <td>...</td>\n",
       "      <td>05-01-2011</td>\n",
       "      <td>Second Class</td>\n",
       "      <td>Budapest</td>\n",
       "      <td>Storage</td>\n",
       "      <td>0.0</td>\n",
       "      <td>1</td>\n",
       "      <td>29.640</td>\n",
       "      <td>4</td>\n",
       "      <td>66</td>\n",
       "      <td>8.17</td>\n",
       "    </tr>\n",
       "    <tr>\n",
       "      <th>1</th>\n",
       "      <td>Office Supplies</td>\n",
       "      <td>Stockholm</td>\n",
       "      <td>Sweden</td>\n",
       "      <td>EM-141402</td>\n",
       "      <td>Eugene Moren</td>\n",
       "      <td>EU</td>\n",
       "      <td>01-01-2011</td>\n",
       "      <td>IT-2011-3647632</td>\n",
       "      <td>High</td>\n",
       "      <td>OFF-PA-10001492</td>\n",
       "      <td>...</td>\n",
       "      <td>05-01-2011</td>\n",
       "      <td>Second Class</td>\n",
       "      <td>Stockholm</td>\n",
       "      <td>Paper</td>\n",
       "      <td>0.5</td>\n",
       "      <td>1</td>\n",
       "      <td>-26.055</td>\n",
       "      <td>3</td>\n",
       "      <td>45</td>\n",
       "      <td>4.82</td>\n",
       "    </tr>\n",
       "    <tr>\n",
       "      <th>2</th>\n",
       "      <td>Office Supplies</td>\n",
       "      <td>Constantine</td>\n",
       "      <td>Algeria</td>\n",
       "      <td>TB-112801</td>\n",
       "      <td>Toby Braunhardt</td>\n",
       "      <td>Africa</td>\n",
       "      <td>01-01-2011</td>\n",
       "      <td>AG-2011-2040</td>\n",
       "      <td>Medium</td>\n",
       "      <td>OFF-TEN-10000025</td>\n",
       "      <td>...</td>\n",
       "      <td>06-01-2011</td>\n",
       "      <td>Standard Class</td>\n",
       "      <td>Constantine</td>\n",
       "      <td>Storage</td>\n",
       "      <td>0.0</td>\n",
       "      <td>1</td>\n",
       "      <td>106.140</td>\n",
       "      <td>2</td>\n",
       "      <td>408</td>\n",
       "      <td>35.46</td>\n",
       "    </tr>\n",
       "    <tr>\n",
       "      <th>3</th>\n",
       "      <td>Furniture</td>\n",
       "      <td>Wagga Wagga</td>\n",
       "      <td>Australia</td>\n",
       "      <td>JH-159851</td>\n",
       "      <td>Joseph Holt</td>\n",
       "      <td>APAC</td>\n",
       "      <td>01-01-2011</td>\n",
       "      <td>IN-2011-47883</td>\n",
       "      <td>Medium</td>\n",
       "      <td>FUR-FU-10003447</td>\n",
       "      <td>...</td>\n",
       "      <td>08-01-2011</td>\n",
       "      <td>Standard Class</td>\n",
       "      <td>New South Wales</td>\n",
       "      <td>Furnishings</td>\n",
       "      <td>0.1</td>\n",
       "      <td>1</td>\n",
       "      <td>37.770</td>\n",
       "      <td>5</td>\n",
       "      <td>114</td>\n",
       "      <td>4.70</td>\n",
       "    </tr>\n",
       "    <tr>\n",
       "      <th>4</th>\n",
       "      <td>Office Supplies</td>\n",
       "      <td>Wagga Wagga</td>\n",
       "      <td>Australia</td>\n",
       "      <td>JH-159851</td>\n",
       "      <td>Joseph Holt</td>\n",
       "      <td>APAC</td>\n",
       "      <td>01-01-2011</td>\n",
       "      <td>IN-2011-47883</td>\n",
       "      <td>Medium</td>\n",
       "      <td>OFF-PA-10001968</td>\n",
       "      <td>...</td>\n",
       "      <td>08-01-2011</td>\n",
       "      <td>Standard Class</td>\n",
       "      <td>New South Wales</td>\n",
       "      <td>Paper</td>\n",
       "      <td>0.1</td>\n",
       "      <td>1</td>\n",
       "      <td>15.342</td>\n",
       "      <td>2</td>\n",
       "      <td>55</td>\n",
       "      <td>1.80</td>\n",
       "    </tr>\n",
       "  </tbody>\n",
       "</table>\n",
       "<p>5 rows × 24 columns</p>\n",
       "</div>"
      ],
      "text/plain": [
       "          Category         City    Country Customer ID    Customer Name  \\\n",
       "0  Office Supplies     Budapest    Hungary     AT-7352    Annie Thurman   \n",
       "1  Office Supplies    Stockholm     Sweden   EM-141402     Eugene Moren   \n",
       "2  Office Supplies  Constantine    Algeria   TB-112801  Toby Braunhardt   \n",
       "3        Furniture  Wagga Wagga  Australia   JH-159851      Joseph Holt   \n",
       "4  Office Supplies  Wagga Wagga  Australia   JH-159851      Joseph Holt   \n",
       "\n",
       "   Market  Order Date         Order ID Order Priority        Product ID  ...  \\\n",
       "0    EMEA  01-01-2011     HU-2011-1220           High  OFF-TEN-10001585  ...   \n",
       "1      EU  01-01-2011  IT-2011-3647632           High   OFF-PA-10001492  ...   \n",
       "2  Africa  01-01-2011     AG-2011-2040         Medium  OFF-TEN-10000025  ...   \n",
       "3    APAC  01-01-2011    IN-2011-47883         Medium   FUR-FU-10003447  ...   \n",
       "4    APAC  01-01-2011    IN-2011-47883         Medium   OFF-PA-10001968  ...   \n",
       "\n",
       "    Ship Date       Ship Mode            State Sub-Category Discount  \\\n",
       "0  05-01-2011    Second Class         Budapest      Storage      0.0   \n",
       "1  05-01-2011    Second Class        Stockholm        Paper      0.5   \n",
       "2  06-01-2011  Standard Class      Constantine      Storage      0.0   \n",
       "3  08-01-2011  Standard Class  New South Wales  Furnishings      0.1   \n",
       "4  08-01-2011  Standard Class  New South Wales        Paper      0.1   \n",
       "\n",
       "  Number of Records   Profit Quantity  Sales  Shipping Cost  \n",
       "0                 1   29.640        4     66           8.17  \n",
       "1                 1  -26.055        3     45           4.82  \n",
       "2                 1  106.140        2    408          35.46  \n",
       "3                 1   37.770        5    114           4.70  \n",
       "4                 1   15.342        2     55           1.80  \n",
       "\n",
       "[5 rows x 24 columns]"
      ]
     },
     "execution_count": 3,
     "metadata": {},
     "output_type": "execute_result"
    }
   ],
   "source": [
    "df = pd.read_csv('Dataset.csv')\n",
    "df.head()"
   ]
  },
  {
   "cell_type": "code",
   "execution_count": 8,
   "metadata": {},
   "outputs": [
    {
     "data": {
      "text/plain": [
       "'01-01-2011'"
      ]
     },
     "execution_count": 8,
     "metadata": {},
     "output_type": "execute_result"
    }
   ],
   "source": [
    "df['Order Date'].min()"
   ]
  },
  {
   "cell_type": "code",
   "execution_count": 3,
   "metadata": {},
   "outputs": [
    {
     "name": "stdout",
     "output_type": "stream",
     "text": [
      "Index(['Category', 'City', 'Country', 'Customer ID', 'Customer Name', 'Market',\n",
      "       'Order Date', 'Order ID', 'Order Priority', 'Product ID',\n",
      "       'Product Name', 'Region', 'Row ID', 'Segment', 'Ship Date', 'Ship Mode',\n",
      "       'State', 'Sub-Category', 'Discount', 'Number of Records', 'Profit',\n",
      "       'Quantity', 'Sales', 'Shipping Cost'],\n",
      "      dtype='object')\n",
      "(51290, 24)\n"
     ]
    }
   ],
   "source": [
    "print(df.columns)\n",
    "print(df.shape)"
   ]
  },
  {
   "cell_type": "code",
   "execution_count": 4,
   "metadata": {},
   "outputs": [
    {
     "data": {
      "text/plain": [
       "4873"
      ]
     },
     "execution_count": 4,
     "metadata": {},
     "output_type": "execute_result"
    }
   ],
   "source": [
    "df['Customer ID'].nunique()"
   ]
  },
  {
   "cell_type": "code",
   "execution_count": 12,
   "metadata": {},
   "outputs": [],
   "source": [
    "df2 = df.groupby(['Customer ID']).aggregate({'Ship Date': ['min']}) "
   ]
  },
  {
   "cell_type": "code",
   "execution_count": 13,
   "metadata": {},
   "outputs": [
    {
     "data": {
      "text/html": [
       "<div>\n",
       "<style scoped>\n",
       "    .dataframe tbody tr th:only-of-type {\n",
       "        vertical-align: middle;\n",
       "    }\n",
       "\n",
       "    .dataframe tbody tr th {\n",
       "        vertical-align: top;\n",
       "    }\n",
       "\n",
       "    .dataframe thead tr th {\n",
       "        text-align: left;\n",
       "    }\n",
       "\n",
       "    .dataframe thead tr:last-of-type th {\n",
       "        text-align: right;\n",
       "    }\n",
       "</style>\n",
       "<table border=\"1\" class=\"dataframe\">\n",
       "  <thead>\n",
       "    <tr>\n",
       "      <th></th>\n",
       "      <th>Ship Date</th>\n",
       "    </tr>\n",
       "    <tr>\n",
       "      <th></th>\n",
       "      <th>min</th>\n",
       "    </tr>\n",
       "    <tr>\n",
       "      <th>Customer ID</th>\n",
       "      <th></th>\n",
       "    </tr>\n",
       "  </thead>\n",
       "  <tbody>\n",
       "    <tr>\n",
       "      <th>AA-103151</th>\n",
       "      <td>06-01-2014</td>\n",
       "    </tr>\n",
       "    <tr>\n",
       "      <th>AA-103152</th>\n",
       "      <td>07-08-2014</td>\n",
       "    </tr>\n",
       "    <tr>\n",
       "      <th>AA-103153</th>\n",
       "      <td>11-02-2013</td>\n",
       "    </tr>\n",
       "    <tr>\n",
       "      <th>AA-103154</th>\n",
       "      <td>05-04-2011</td>\n",
       "    </tr>\n",
       "    <tr>\n",
       "      <th>AA-103751</th>\n",
       "      <td>02-09-2012</td>\n",
       "    </tr>\n",
       "  </tbody>\n",
       "</table>\n",
       "</div>"
      ],
      "text/plain": [
       "              Ship Date\n",
       "                    min\n",
       "Customer ID            \n",
       "AA-103151    06-01-2014\n",
       "AA-103152    07-08-2014\n",
       "AA-103153    11-02-2013\n",
       "AA-103154    05-04-2011\n",
       "AA-103751    02-09-2012"
      ]
     },
     "execution_count": 13,
     "metadata": {},
     "output_type": "execute_result"
    }
   ],
   "source": [
    "df2.head()"
   ]
  },
  {
   "cell_type": "code",
   "execution_count": 18,
   "metadata": {},
   "outputs": [
    {
     "data": {
      "text/plain": [
       "Index(['Category', 'City', 'Country', 'Customer ID', 'Customer Name', 'Market',\n",
       "       'Order Date', 'Order ID', 'Order Priority', 'Product ID',\n",
       "       'Product Name', 'Region', 'Row ID', 'Segment', 'Ship Date', 'Ship Mode',\n",
       "       'State', 'Sub-Category', 'Discount', 'Number of Records', 'Profit',\n",
       "       'Quantity', 'Sales', 'Shipping Cost'],\n",
       "      dtype='object')"
      ]
     },
     "execution_count": 18,
     "metadata": {},
     "output_type": "execute_result"
    }
   ],
   "source": [
    "df.columns"
   ]
  },
  {
   "cell_type": "code",
   "execution_count": 22,
   "metadata": {},
   "outputs": [],
   "source": [
    "df['Joining date'] = df['Order Date']\n",
    "for row in df.iterrows():\n",
    "    row[1]['Joining date'] = df2.loc[row[1]['Customer ID']]"
   ]
  },
  {
   "cell_type": "code",
   "execution_count": 70,
   "metadata": {},
   "outputs": [
    {
     "data": {
      "text/plain": [
       "array(['AT-7352', 'EM-141402', 'TB-112801', ..., 'DJ-34202', 'GH-46652',\n",
       "       'LP-70951'], dtype=object)"
      ]
     },
     "execution_count": 70,
     "metadata": {},
     "output_type": "execute_result"
    }
   ],
   "source": [
    "cID = df['Customer ID'].unique()\n",
    "cID"
   ]
  },
  {
   "cell_type": "code",
   "execution_count": 78,
   "metadata": {
    "scrolled": false
   },
   "outputs": [
    {
     "data": {
      "text/plain": [
       "4873"
      ]
     },
     "execution_count": 78,
     "metadata": {},
     "output_type": "execute_result"
    }
   ],
   "source": [
    "dates = []\n",
    "for i in range(len(df2)):\n",
    "    dates.append(df2.iloc[i,0])\n",
    "len(dates)"
   ]
  },
  {
   "cell_type": "code",
   "execution_count": 79,
   "metadata": {},
   "outputs": [],
   "source": [
    "dates = pd.to_datetime(dates,dayfirst=True)"
   ]
  },
  {
   "cell_type": "code",
   "execution_count": 80,
   "metadata": {},
   "outputs": [
    {
     "data": {
      "text/plain": [
       "DatetimeIndex(['2014-01-06', '2014-08-07', '2013-02-11', '2011-04-05',\n",
       "               '2012-09-02', '2014-01-02', '2013-07-01', '2012-02-05',\n",
       "               '2014-09-01', '2012-09-02',\n",
       "               ...\n",
       "               '2014-03-05', '2014-09-03', '2014-06-03', '2012-10-04',\n",
       "               '2014-06-05', '2013-12-03', '2012-11-05', '2015-01-04',\n",
       "               '2012-12-03', '2011-09-01'],\n",
       "              dtype='datetime64[ns]', length=4873, freq=None)"
      ]
     },
     "execution_count": 80,
     "metadata": {},
     "output_type": "execute_result"
    }
   ],
   "source": [
    "dates"
   ]
  },
  {
   "cell_type": "code",
   "execution_count": 9,
   "metadata": {},
   "outputs": [
    {
     "data": {
      "text/plain": [
       "0        4\n",
       "1        3\n",
       "2        2\n",
       "3        5\n",
       "4        2\n",
       "        ..\n",
       "51285    2\n",
       "51286    4\n",
       "51287    5\n",
       "51288    3\n",
       "51289    3\n",
       "Name: Quantity, Length: 51290, dtype: int64"
      ]
     },
     "execution_count": 9,
     "metadata": {},
     "output_type": "execute_result"
    }
   ],
   "source": [
    "df['Quantity']"
   ]
  },
  {
   "cell_type": "markdown",
   "metadata": {},
   "source": [
    "<h1>Q6 RFM Analysis"
   ]
  },
  {
   "cell_type": "markdown",
   "metadata": {},
   "source": [
    "<h2> Recency"
   ]
  },
  {
   "cell_type": "code",
   "execution_count": 11,
   "metadata": {},
   "outputs": [
    {
     "data": {
      "text/html": [
       "<div>\n",
       "<style scoped>\n",
       "    .dataframe tbody tr th:only-of-type {\n",
       "        vertical-align: middle;\n",
       "    }\n",
       "\n",
       "    .dataframe tbody tr th {\n",
       "        vertical-align: top;\n",
       "    }\n",
       "\n",
       "    .dataframe thead th {\n",
       "        text-align: right;\n",
       "    }\n",
       "</style>\n",
       "<table border=\"1\" class=\"dataframe\">\n",
       "  <thead>\n",
       "    <tr style=\"text-align: right;\">\n",
       "      <th></th>\n",
       "      <th>Order Datemax</th>\n",
       "    </tr>\n",
       "    <tr>\n",
       "      <th>Customer ID</th>\n",
       "      <th></th>\n",
       "    </tr>\n",
       "  </thead>\n",
       "  <tbody>\n",
       "    <tr>\n",
       "      <th>AA-103151</th>\n",
       "      <td>31-12-2013</td>\n",
       "    </tr>\n",
       "    <tr>\n",
       "      <th>AA-103152</th>\n",
       "      <td>27-11-2013</td>\n",
       "    </tr>\n",
       "    <tr>\n",
       "      <th>AA-103153</th>\n",
       "      <td>24-11-2011</td>\n",
       "    </tr>\n",
       "    <tr>\n",
       "      <th>AA-103154</th>\n",
       "      <td>31-03-2011</td>\n",
       "    </tr>\n",
       "    <tr>\n",
       "      <th>AA-103751</th>\n",
       "      <td>28-08-2012</td>\n",
       "    </tr>\n",
       "  </tbody>\n",
       "</table>\n",
       "</div>"
      ],
      "text/plain": [
       "            Order Datemax\n",
       "Customer ID              \n",
       "AA-103151      31-12-2013\n",
       "AA-103152      27-11-2013\n",
       "AA-103153      24-11-2011\n",
       "AA-103154      31-03-2011\n",
       "AA-103751      28-08-2012"
      ]
     },
     "execution_count": 11,
     "metadata": {},
     "output_type": "execute_result"
    }
   ],
   "source": [
    "df2 = df.groupby(['Customer ID']).agg({'Order Date' : ['max']})\n",
    "df2.columns = list(map(''.join, df2.columns.values))\n",
    "df2.head()"
   ]
  },
  {
   "cell_type": "code",
   "execution_count": 12,
   "metadata": {},
   "outputs": [
    {
     "data": {
      "text/html": [
       "<div>\n",
       "<style scoped>\n",
       "    .dataframe tbody tr th:only-of-type {\n",
       "        vertical-align: middle;\n",
       "    }\n",
       "\n",
       "    .dataframe tbody tr th {\n",
       "        vertical-align: top;\n",
       "    }\n",
       "\n",
       "    .dataframe thead th {\n",
       "        text-align: right;\n",
       "    }\n",
       "</style>\n",
       "<table border=\"1\" class=\"dataframe\">\n",
       "  <thead>\n",
       "    <tr style=\"text-align: right;\">\n",
       "      <th></th>\n",
       "      <th>Order Datemax</th>\n",
       "    </tr>\n",
       "    <tr>\n",
       "      <th>Customer ID</th>\n",
       "      <th></th>\n",
       "    </tr>\n",
       "  </thead>\n",
       "  <tbody>\n",
       "    <tr>\n",
       "      <th>SV-209352</th>\n",
       "      <td>31-12-2014</td>\n",
       "    </tr>\n",
       "    <tr>\n",
       "      <th>PO-188654</th>\n",
       "      <td>31-12-2014</td>\n",
       "    </tr>\n",
       "    <tr>\n",
       "      <th>EB-139753</th>\n",
       "      <td>31-12-2014</td>\n",
       "    </tr>\n",
       "    <tr>\n",
       "      <th>JM-155804</th>\n",
       "      <td>31-12-2014</td>\n",
       "    </tr>\n",
       "    <tr>\n",
       "      <th>LP-70951</th>\n",
       "      <td>31-12-2014</td>\n",
       "    </tr>\n",
       "  </tbody>\n",
       "</table>\n",
       "</div>"
      ],
      "text/plain": [
       "            Order Datemax\n",
       "Customer ID              \n",
       "SV-209352      31-12-2014\n",
       "PO-188654      31-12-2014\n",
       "EB-139753      31-12-2014\n",
       "JM-155804      31-12-2014\n",
       "LP-70951       31-12-2014"
      ]
     },
     "execution_count": 12,
     "metadata": {},
     "output_type": "execute_result"
    }
   ],
   "source": [
    "df2.sort_values(by = 'Order Datemax',ascending = False,inplace = True)\n",
    "df2.head()"
   ]
  },
  {
   "cell_type": "code",
   "execution_count": 13,
   "metadata": {},
   "outputs": [
    {
     "data": {
      "text/plain": [
       "array([5, 5, 5, ..., 1, 1, 1])"
      ]
     },
     "execution_count": 13,
     "metadata": {},
     "output_type": "execute_result"
    }
   ],
   "source": [
    "scores = []\n",
    "no_cust = len(df2)\n",
    "for i in range(no_cust):\n",
    "    if (i+1)/no_cust <= 0.2:\n",
    "        scores.append(5)\n",
    "    elif (i+1)/no_cust <= 0.4:\n",
    "        scores.append(4)\n",
    "    elif (i+1)/no_cust <= 0.6:\n",
    "        scores.append(3)\n",
    "    elif (i+1)/no_cust <= 0.8:\n",
    "        scores.append(2)\n",
    "    else:\n",
    "        scores.append(1)\n",
    "scores = np.asarray(scores)\n",
    "scores"
   ]
  },
  {
   "cell_type": "code",
   "execution_count": 14,
   "metadata": {},
   "outputs": [
    {
     "data": {
      "text/html": [
       "<div>\n",
       "<style scoped>\n",
       "    .dataframe tbody tr th:only-of-type {\n",
       "        vertical-align: middle;\n",
       "    }\n",
       "\n",
       "    .dataframe tbody tr th {\n",
       "        vertical-align: top;\n",
       "    }\n",
       "\n",
       "    .dataframe thead th {\n",
       "        text-align: right;\n",
       "    }\n",
       "</style>\n",
       "<table border=\"1\" class=\"dataframe\">\n",
       "  <thead>\n",
       "    <tr style=\"text-align: right;\">\n",
       "      <th></th>\n",
       "      <th>Order Datemax</th>\n",
       "      <th>Recency Score</th>\n",
       "    </tr>\n",
       "    <tr>\n",
       "      <th>Customer ID</th>\n",
       "      <th></th>\n",
       "      <th></th>\n",
       "    </tr>\n",
       "  </thead>\n",
       "  <tbody>\n",
       "    <tr>\n",
       "      <th>SV-209352</th>\n",
       "      <td>31-12-2014</td>\n",
       "      <td>5</td>\n",
       "    </tr>\n",
       "    <tr>\n",
       "      <th>PO-188654</th>\n",
       "      <td>31-12-2014</td>\n",
       "      <td>5</td>\n",
       "    </tr>\n",
       "    <tr>\n",
       "      <th>EB-139753</th>\n",
       "      <td>31-12-2014</td>\n",
       "      <td>5</td>\n",
       "    </tr>\n",
       "    <tr>\n",
       "      <th>JM-155804</th>\n",
       "      <td>31-12-2014</td>\n",
       "      <td>5</td>\n",
       "    </tr>\n",
       "    <tr>\n",
       "      <th>LP-70951</th>\n",
       "      <td>31-12-2014</td>\n",
       "      <td>5</td>\n",
       "    </tr>\n",
       "  </tbody>\n",
       "</table>\n",
       "</div>"
      ],
      "text/plain": [
       "            Order Datemax  Recency Score\n",
       "Customer ID                             \n",
       "SV-209352      31-12-2014              5\n",
       "PO-188654      31-12-2014              5\n",
       "EB-139753      31-12-2014              5\n",
       "JM-155804      31-12-2014              5\n",
       "LP-70951       31-12-2014              5"
      ]
     },
     "execution_count": 14,
     "metadata": {},
     "output_type": "execute_result"
    }
   ],
   "source": [
    "df2['Recency Score'] = scores\n",
    "df2.head()"
   ]
  },
  {
   "cell_type": "markdown",
   "metadata": {},
   "source": [
    "<h2> Frequency"
   ]
  },
  {
   "cell_type": "code",
   "execution_count": 15,
   "metadata": {},
   "outputs": [
    {
     "data": {
      "text/plain": [
       "Index(['Category', 'City', 'Country', 'Customer ID', 'Customer Name', 'Market',\n",
       "       'Order Date', 'Order ID', 'Order Priority', 'Product ID',\n",
       "       'Product Name', 'Region', 'Row ID', 'Segment', 'Ship Date', 'Ship Mode',\n",
       "       'State', 'Sub-Category', 'Discount', 'Number of Records', 'Profit',\n",
       "       'Quantity', 'Sales', 'Shipping Cost'],\n",
       "      dtype='object')"
      ]
     },
     "execution_count": 15,
     "metadata": {},
     "output_type": "execute_result"
    }
   ],
   "source": [
    "df.columns"
   ]
  },
  {
   "cell_type": "code",
   "execution_count": 16,
   "metadata": {},
   "outputs": [
    {
     "data": {
      "text/html": [
       "<div>\n",
       "<style scoped>\n",
       "    .dataframe tbody tr th:only-of-type {\n",
       "        vertical-align: middle;\n",
       "    }\n",
       "\n",
       "    .dataframe tbody tr th {\n",
       "        vertical-align: top;\n",
       "    }\n",
       "\n",
       "    .dataframe thead th {\n",
       "        text-align: right;\n",
       "    }\n",
       "</style>\n",
       "<table border=\"1\" class=\"dataframe\">\n",
       "  <thead>\n",
       "    <tr style=\"text-align: right;\">\n",
       "      <th></th>\n",
       "      <th>Order Date</th>\n",
       "    </tr>\n",
       "    <tr>\n",
       "      <th>Customer ID</th>\n",
       "      <th></th>\n",
       "    </tr>\n",
       "  </thead>\n",
       "  <tbody>\n",
       "    <tr>\n",
       "      <th>AA-103151</th>\n",
       "      <td>04-07-2011</td>\n",
       "    </tr>\n",
       "    <tr>\n",
       "      <th>AA-103152</th>\n",
       "      <td>04-08-2014</td>\n",
       "    </tr>\n",
       "    <tr>\n",
       "      <th>AA-103153</th>\n",
       "      <td>05-02-2013</td>\n",
       "    </tr>\n",
       "    <tr>\n",
       "      <th>AA-103154</th>\n",
       "      <td>04-03-2013</td>\n",
       "    </tr>\n",
       "    <tr>\n",
       "      <th>AA-103751</th>\n",
       "      <td>07-10-2011</td>\n",
       "    </tr>\n",
       "  </tbody>\n",
       "</table>\n",
       "</div>"
      ],
      "text/plain": [
       "             Order Date\n",
       "Customer ID            \n",
       "AA-103151    04-07-2011\n",
       "AA-103152    04-08-2014\n",
       "AA-103153    05-02-2013\n",
       "AA-103154    04-03-2013\n",
       "AA-103751    07-10-2011"
      ]
     },
     "execution_count": 16,
     "metadata": {},
     "output_type": "execute_result"
    }
   ],
   "source": [
    "dF = df[['Order Date','Customer ID']].groupby(['Customer ID']).min('Order Date')\n",
    "dF.head()"
   ]
  },
  {
   "cell_type": "code",
   "execution_count": 17,
   "metadata": {},
   "outputs": [],
   "source": [
    "dF['Order Date'] = pd.to_datetime(dF['Order Date'])\n",
    "base = min(dF['Order Date'])\n",
    "dF['Order Date'] = [(epoch-base).total_seconds() for epoch in dF['Order Date']]"
   ]
  },
  {
   "cell_type": "code",
   "execution_count": 18,
   "metadata": {},
   "outputs": [
    {
     "data": {
      "text/plain": [
       "count    4.873000e+03\n",
       "mean     6.813145e+07\n",
       "std      3.618418e+07\n",
       "min      1.000000e+00\n",
       "25%      3.749760e+07\n",
       "50%      7.171200e+07\n",
       "75%      9.996480e+07\n",
       "max      1.261440e+08\n",
       "Name: Order Date, dtype: float64"
      ]
     },
     "execution_count": 18,
     "metadata": {},
     "output_type": "execute_result"
    }
   ],
   "source": [
    "dF['Order Date'] = dF['Order Date'] + 1 \n",
    "#TO avoid 0 base\n",
    "dF['Order Date'].describe()"
   ]
  },
  {
   "cell_type": "code",
   "execution_count": 19,
   "metadata": {},
   "outputs": [],
   "source": [
    "no_of_purchases = df['Customer ID'].value_counts()"
   ]
  },
  {
   "cell_type": "code",
   "execution_count": 20,
   "metadata": {},
   "outputs": [],
   "source": [
    "cID = dF.index\n",
    "dF['frequency'] = no_of_purchases[cID]/dF['Order Date']"
   ]
  },
  {
   "cell_type": "code",
   "execution_count": 21,
   "metadata": {},
   "outputs": [
    {
     "data": {
      "text/plain": [
       "count    4.873000e+03\n",
       "mean     6.978638e-03\n",
       "std      3.051833e-01\n",
       "min      7.927448e-09\n",
       "25%      7.525406e-08\n",
       "50%      1.432688e-07\n",
       "75%      2.957371e-07\n",
       "max      1.900000e+01\n",
       "Name: frequency, dtype: float64"
      ]
     },
     "execution_count": 21,
     "metadata": {},
     "output_type": "execute_result"
    }
   ],
   "source": [
    "dF['frequency'].describe()"
   ]
  },
  {
   "cell_type": "code",
   "execution_count": 22,
   "metadata": {},
   "outputs": [
    {
     "data": {
      "text/html": [
       "<div>\n",
       "<style scoped>\n",
       "    .dataframe tbody tr th:only-of-type {\n",
       "        vertical-align: middle;\n",
       "    }\n",
       "\n",
       "    .dataframe tbody tr th {\n",
       "        vertical-align: top;\n",
       "    }\n",
       "\n",
       "    .dataframe thead th {\n",
       "        text-align: right;\n",
       "    }\n",
       "</style>\n",
       "<table border=\"1\" class=\"dataframe\">\n",
       "  <thead>\n",
       "    <tr style=\"text-align: right;\">\n",
       "      <th></th>\n",
       "      <th>Order Date</th>\n",
       "      <th>frequency</th>\n",
       "      <th>Scores</th>\n",
       "    </tr>\n",
       "    <tr>\n",
       "      <th>Customer ID</th>\n",
       "      <th></th>\n",
       "      <th></th>\n",
       "      <th></th>\n",
       "    </tr>\n",
       "  </thead>\n",
       "  <tbody>\n",
       "    <tr>\n",
       "      <th>JH-159851</th>\n",
       "      <td>1.0</td>\n",
       "      <td>19.00000</td>\n",
       "      <td>5</td>\n",
       "    </tr>\n",
       "    <tr>\n",
       "      <th>EM-141402</th>\n",
       "      <td>1.0</td>\n",
       "      <td>8.00000</td>\n",
       "      <td>5</td>\n",
       "    </tr>\n",
       "    <tr>\n",
       "      <th>AT-7352</th>\n",
       "      <td>1.0</td>\n",
       "      <td>5.00000</td>\n",
       "      <td>5</td>\n",
       "    </tr>\n",
       "    <tr>\n",
       "      <th>TB-112801</th>\n",
       "      <td>1.0</td>\n",
       "      <td>2.00000</td>\n",
       "      <td>5</td>\n",
       "    </tr>\n",
       "    <tr>\n",
       "      <th>GH-144852</th>\n",
       "      <td>86401.0</td>\n",
       "      <td>0.00022</td>\n",
       "      <td>5</td>\n",
       "    </tr>\n",
       "  </tbody>\n",
       "</table>\n",
       "</div>"
      ],
      "text/plain": [
       "             Order Date  frequency  Scores\n",
       "Customer ID                               \n",
       "JH-159851           1.0   19.00000       5\n",
       "EM-141402           1.0    8.00000       5\n",
       "AT-7352             1.0    5.00000       5\n",
       "TB-112801           1.0    2.00000       5\n",
       "GH-144852       86401.0    0.00022       5"
      ]
     },
     "execution_count": 22,
     "metadata": {},
     "output_type": "execute_result"
    }
   ],
   "source": [
    "dF.sort_values(by = 'frequency',ascending = False,inplace = True)\n",
    "dF['Scores'] = scores\n",
    "dF.head()"
   ]
  },
  {
   "cell_type": "markdown",
   "metadata": {},
   "source": [
    "<h2> Monetary Value"
   ]
  },
  {
   "cell_type": "code",
   "execution_count": 4,
   "metadata": {},
   "outputs": [
    {
     "data": {
      "text/plain": [
       "count     51290\n",
       "unique     2246\n",
       "top          13\n",
       "freq        589\n",
       "Name: Sales, dtype: object"
      ]
     },
     "execution_count": 4,
     "metadata": {},
     "output_type": "execute_result"
    }
   ],
   "source": [
    "df['Sales'].describe()"
   ]
  },
  {
   "cell_type": "code",
   "execution_count": 8,
   "metadata": {},
   "outputs": [],
   "source": [
    "df['Sales'] = df['Sales'].str.replace(',','')\n",
    "df['Sales'] = np.asarray(df['Sales'],dtype='float')"
   ]
  },
  {
   "cell_type": "code",
   "execution_count": 9,
   "metadata": {},
   "outputs": [
    {
     "name": "stdout",
     "output_type": "stream",
     "text": [
      "(4873, 1)\n"
     ]
    },
    {
     "data": {
      "text/html": [
       "<div>\n",
       "<style scoped>\n",
       "    .dataframe tbody tr th:only-of-type {\n",
       "        vertical-align: middle;\n",
       "    }\n",
       "\n",
       "    .dataframe tbody tr th {\n",
       "        vertical-align: top;\n",
       "    }\n",
       "\n",
       "    .dataframe thead th {\n",
       "        text-align: right;\n",
       "    }\n",
       "</style>\n",
       "<table border=\"1\" class=\"dataframe\">\n",
       "  <thead>\n",
       "    <tr style=\"text-align: right;\">\n",
       "      <th></th>\n",
       "      <th>Sales</th>\n",
       "    </tr>\n",
       "    <tr>\n",
       "      <th>Customer ID</th>\n",
       "      <th></th>\n",
       "    </tr>\n",
       "  </thead>\n",
       "  <tbody>\n",
       "    <tr>\n",
       "      <th>AA-103151</th>\n",
       "      <td>1445.0</td>\n",
       "    </tr>\n",
       "    <tr>\n",
       "      <th>AA-103152</th>\n",
       "      <td>6105.0</td>\n",
       "    </tr>\n",
       "    <tr>\n",
       "      <th>AA-103153</th>\n",
       "      <td>633.0</td>\n",
       "    </tr>\n",
       "    <tr>\n",
       "      <th>AA-103154</th>\n",
       "      <td>5565.0</td>\n",
       "    </tr>\n",
       "    <tr>\n",
       "      <th>AA-103751</th>\n",
       "      <td>2407.0</td>\n",
       "    </tr>\n",
       "  </tbody>\n",
       "</table>\n",
       "</div>"
      ],
      "text/plain": [
       "              Sales\n",
       "Customer ID        \n",
       "AA-103151    1445.0\n",
       "AA-103152    6105.0\n",
       "AA-103153     633.0\n",
       "AA-103154    5565.0\n",
       "AA-103751    2407.0"
      ]
     },
     "execution_count": 9,
     "metadata": {},
     "output_type": "execute_result"
    }
   ],
   "source": [
    "dM = df[['Sales','Customer ID']].groupby(['Customer ID']).sum('Sales')\n",
    "print(dM.shape)\n",
    "dM.head()"
   ]
  },
  {
   "cell_type": "code",
   "execution_count": 10,
   "metadata": {},
   "outputs": [
    {
     "data": {
      "text/html": [
       "<div>\n",
       "<style scoped>\n",
       "    .dataframe tbody tr th:only-of-type {\n",
       "        vertical-align: middle;\n",
       "    }\n",
       "\n",
       "    .dataframe tbody tr th {\n",
       "        vertical-align: top;\n",
       "    }\n",
       "\n",
       "    .dataframe thead th {\n",
       "        text-align: right;\n",
       "    }\n",
       "</style>\n",
       "<table border=\"1\" class=\"dataframe\">\n",
       "  <thead>\n",
       "    <tr style=\"text-align: right;\">\n",
       "      <th></th>\n",
       "      <th>Sales</th>\n",
       "    </tr>\n",
       "    <tr>\n",
       "      <th>Customer ID</th>\n",
       "      <th></th>\n",
       "    </tr>\n",
       "  </thead>\n",
       "  <tbody>\n",
       "    <tr>\n",
       "      <th>SM-203204</th>\n",
       "      <td>25042.0</td>\n",
       "    </tr>\n",
       "    <tr>\n",
       "      <th>TC-209804</th>\n",
       "      <td>19050.0</td>\n",
       "    </tr>\n",
       "    <tr>\n",
       "      <th>CS-118451</th>\n",
       "      <td>16655.0</td>\n",
       "    </tr>\n",
       "    <tr>\n",
       "      <th>SP-209202</th>\n",
       "      <td>16566.0</td>\n",
       "    </tr>\n",
       "    <tr>\n",
       "      <th>VG-218051</th>\n",
       "      <td>15654.0</td>\n",
       "    </tr>\n",
       "  </tbody>\n",
       "</table>\n",
       "</div>"
      ],
      "text/plain": [
       "               Sales\n",
       "Customer ID         \n",
       "SM-203204    25042.0\n",
       "TC-209804    19050.0\n",
       "CS-118451    16655.0\n",
       "SP-209202    16566.0\n",
       "VG-218051    15654.0"
      ]
     },
     "execution_count": 10,
     "metadata": {},
     "output_type": "execute_result"
    }
   ],
   "source": [
    "dM.sort_values(by='Sales',ascending=False,inplace=True)\n",
    "dM.head()"
   ]
  },
  {
   "cell_type": "code",
   "execution_count": 24,
   "metadata": {},
   "outputs": [
    {
     "data": {
      "text/html": [
       "<div>\n",
       "<style scoped>\n",
       "    .dataframe tbody tr th:only-of-type {\n",
       "        vertical-align: middle;\n",
       "    }\n",
       "\n",
       "    .dataframe tbody tr th {\n",
       "        vertical-align: top;\n",
       "    }\n",
       "\n",
       "    .dataframe thead th {\n",
       "        text-align: right;\n",
       "    }\n",
       "</style>\n",
       "<table border=\"1\" class=\"dataframe\">\n",
       "  <thead>\n",
       "    <tr style=\"text-align: right;\">\n",
       "      <th></th>\n",
       "      <th>Sales</th>\n",
       "      <th>Monetary Score</th>\n",
       "    </tr>\n",
       "    <tr>\n",
       "      <th>Customer ID</th>\n",
       "      <th></th>\n",
       "      <th></th>\n",
       "    </tr>\n",
       "  </thead>\n",
       "  <tbody>\n",
       "    <tr>\n",
       "      <th>SM-203204</th>\n",
       "      <td>25042.0</td>\n",
       "      <td>5</td>\n",
       "    </tr>\n",
       "    <tr>\n",
       "      <th>TC-209804</th>\n",
       "      <td>19050.0</td>\n",
       "      <td>5</td>\n",
       "    </tr>\n",
       "    <tr>\n",
       "      <th>CS-118451</th>\n",
       "      <td>16655.0</td>\n",
       "      <td>5</td>\n",
       "    </tr>\n",
       "    <tr>\n",
       "      <th>SP-209202</th>\n",
       "      <td>16566.0</td>\n",
       "      <td>5</td>\n",
       "    </tr>\n",
       "    <tr>\n",
       "      <th>VG-218051</th>\n",
       "      <td>15654.0</td>\n",
       "      <td>5</td>\n",
       "    </tr>\n",
       "  </tbody>\n",
       "</table>\n",
       "</div>"
      ],
      "text/plain": [
       "               Sales  Monetary Score\n",
       "Customer ID                         \n",
       "SM-203204    25042.0               5\n",
       "TC-209804    19050.0               5\n",
       "CS-118451    16655.0               5\n",
       "SP-209202    16566.0               5\n",
       "VG-218051    15654.0               5"
      ]
     },
     "execution_count": 24,
     "metadata": {},
     "output_type": "execute_result"
    }
   ],
   "source": [
    "dM['Monetary Score'] = scores\n",
    "dM.head()"
   ]
  },
  {
   "cell_type": "markdown",
   "metadata": {},
   "source": [
    "<h2> Combining scores to get the final RFM table"
   ]
  },
  {
   "cell_type": "code",
   "execution_count": null,
   "metadata": {},
   "outputs": [],
   "source": []
  }
 ],
 "metadata": {
  "kernelspec": {
   "display_name": "Python 3",
   "language": "python",
   "name": "python3"
  },
  "language_info": {
   "codemirror_mode": {
    "name": "ipython",
    "version": 3
   },
   "file_extension": ".py",
   "mimetype": "text/x-python",
   "name": "python",
   "nbconvert_exporter": "python",
   "pygments_lexer": "ipython3",
   "version": "3.7.3"
  }
 },
 "nbformat": 4,
 "nbformat_minor": 4
}
