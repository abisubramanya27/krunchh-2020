{
 "cells": [
  {
   "cell_type": "markdown",
   "metadata": {},
   "source": [
    "# Question Five:\n",
    "Which are the Top 5 countries that have shown the best Sales CAGR?\n",
    "The Strategy team feels that if we remove the Bottom 10 Percentile transactions -it will change the\n",
    "Top 5 countries ranking.\n",
    "Validate this. "
   ]
  },
  {
   "cell_type": "markdown",
   "metadata": {},
   "source": [
    "### Import the relevant libraries:"
   ]
  },
  {
   "cell_type": "code",
   "execution_count": 1,
   "metadata": {},
   "outputs": [],
   "source": [
    "import numpy as np\n",
    "import pandas as pd\n",
    "import matplotlib.pyplot as plt\n",
    "import sweetviz as sw\n",
    "import seaborn as sns\n",
    "import datetime\n",
    "sns.set()"
   ]
  },
  {
   "cell_type": "markdown",
   "metadata": {},
   "source": [
    "### A glance at the dataset:"
   ]
  },
  {
   "cell_type": "code",
   "execution_count": 2,
   "metadata": {},
   "outputs": [
    {
     "name": "stdout",
     "output_type": "stream",
     "text": [
      "<class 'pandas.core.frame.DataFrame'>\n",
      "RangeIndex: 51290 entries, 0 to 51289\n",
      "Data columns (total 24 columns):\n",
      " #   Column             Non-Null Count  Dtype  \n",
      "---  ------             --------------  -----  \n",
      " 0   Category           51290 non-null  object \n",
      " 1   City               51290 non-null  object \n",
      " 2   Country            51290 non-null  object \n",
      " 3   Customer ID        51290 non-null  object \n",
      " 4   Customer Name      51290 non-null  object \n",
      " 5   Market             51290 non-null  object \n",
      " 6   Order Date         51290 non-null  object \n",
      " 7   Order ID           51290 non-null  object \n",
      " 8   Order Priority     51290 non-null  object \n",
      " 9   Product ID         51290 non-null  object \n",
      " 10  Product Name       51290 non-null  object \n",
      " 11  Region             51290 non-null  object \n",
      " 12  Row ID             51290 non-null  int64  \n",
      " 13  Segment            51290 non-null  object \n",
      " 14  Ship Date          51290 non-null  object \n",
      " 15  Ship Mode          51290 non-null  object \n",
      " 16  State              51290 non-null  object \n",
      " 17  Sub-Category       51290 non-null  object \n",
      " 18  Discount           51290 non-null  float64\n",
      " 19  Number of Records  51290 non-null  int64  \n",
      " 20  Profit             51290 non-null  float64\n",
      " 21  Quantity           51290 non-null  int64  \n",
      " 22  Sales              51290 non-null  object \n",
      " 23  Shipping Cost      51290 non-null  float64\n",
      "dtypes: float64(3), int64(3), object(18)\n",
      "memory usage: 9.4+ MB\n"
     ]
    }
   ],
   "source": [
    "data=pd.read_csv('Dataset.csv')\n",
    "data.info()"
   ]
  },
  {
   "cell_type": "code",
   "execution_count": 3,
   "metadata": {},
   "outputs": [
    {
     "data": {
      "text/html": [
       "<div>\n",
       "<style scoped>\n",
       "    .dataframe tbody tr th:only-of-type {\n",
       "        vertical-align: middle;\n",
       "    }\n",
       "\n",
       "    .dataframe tbody tr th {\n",
       "        vertical-align: top;\n",
       "    }\n",
       "\n",
       "    .dataframe thead th {\n",
       "        text-align: right;\n",
       "    }\n",
       "</style>\n",
       "<table border=\"1\" class=\"dataframe\">\n",
       "  <thead>\n",
       "    <tr style=\"text-align: right;\">\n",
       "      <th></th>\n",
       "      <th>Category</th>\n",
       "      <th>City</th>\n",
       "      <th>Country</th>\n",
       "      <th>Customer ID</th>\n",
       "      <th>Customer Name</th>\n",
       "      <th>Market</th>\n",
       "      <th>Order Date</th>\n",
       "      <th>Order ID</th>\n",
       "      <th>Order Priority</th>\n",
       "      <th>Product ID</th>\n",
       "      <th>...</th>\n",
       "      <th>Ship Date</th>\n",
       "      <th>Ship Mode</th>\n",
       "      <th>State</th>\n",
       "      <th>Sub-Category</th>\n",
       "      <th>Discount</th>\n",
       "      <th>Number of Records</th>\n",
       "      <th>Profit</th>\n",
       "      <th>Quantity</th>\n",
       "      <th>Sales</th>\n",
       "      <th>Shipping Cost</th>\n",
       "    </tr>\n",
       "  </thead>\n",
       "  <tbody>\n",
       "    <tr>\n",
       "      <th>0</th>\n",
       "      <td>Office Supplies</td>\n",
       "      <td>Budapest</td>\n",
       "      <td>Hungary</td>\n",
       "      <td>AT-7352</td>\n",
       "      <td>Annie Thurman</td>\n",
       "      <td>EMEA</td>\n",
       "      <td>01-01-2011</td>\n",
       "      <td>HU-2011-1220</td>\n",
       "      <td>High</td>\n",
       "      <td>OFF-TEN-10001585</td>\n",
       "      <td>...</td>\n",
       "      <td>05-01-2011</td>\n",
       "      <td>Second Class</td>\n",
       "      <td>Budapest</td>\n",
       "      <td>Storage</td>\n",
       "      <td>0.0</td>\n",
       "      <td>1</td>\n",
       "      <td>29.640</td>\n",
       "      <td>4</td>\n",
       "      <td>66</td>\n",
       "      <td>8.17</td>\n",
       "    </tr>\n",
       "    <tr>\n",
       "      <th>1</th>\n",
       "      <td>Office Supplies</td>\n",
       "      <td>Stockholm</td>\n",
       "      <td>Sweden</td>\n",
       "      <td>EM-141402</td>\n",
       "      <td>Eugene Moren</td>\n",
       "      <td>EU</td>\n",
       "      <td>01-01-2011</td>\n",
       "      <td>IT-2011-3647632</td>\n",
       "      <td>High</td>\n",
       "      <td>OFF-PA-10001492</td>\n",
       "      <td>...</td>\n",
       "      <td>05-01-2011</td>\n",
       "      <td>Second Class</td>\n",
       "      <td>Stockholm</td>\n",
       "      <td>Paper</td>\n",
       "      <td>0.5</td>\n",
       "      <td>1</td>\n",
       "      <td>-26.055</td>\n",
       "      <td>3</td>\n",
       "      <td>45</td>\n",
       "      <td>4.82</td>\n",
       "    </tr>\n",
       "    <tr>\n",
       "      <th>2</th>\n",
       "      <td>Office Supplies</td>\n",
       "      <td>Constantine</td>\n",
       "      <td>Algeria</td>\n",
       "      <td>TB-112801</td>\n",
       "      <td>Toby Braunhardt</td>\n",
       "      <td>Africa</td>\n",
       "      <td>01-01-2011</td>\n",
       "      <td>AG-2011-2040</td>\n",
       "      <td>Medium</td>\n",
       "      <td>OFF-TEN-10000025</td>\n",
       "      <td>...</td>\n",
       "      <td>06-01-2011</td>\n",
       "      <td>Standard Class</td>\n",
       "      <td>Constantine</td>\n",
       "      <td>Storage</td>\n",
       "      <td>0.0</td>\n",
       "      <td>1</td>\n",
       "      <td>106.140</td>\n",
       "      <td>2</td>\n",
       "      <td>408</td>\n",
       "      <td>35.46</td>\n",
       "    </tr>\n",
       "    <tr>\n",
       "      <th>3</th>\n",
       "      <td>Furniture</td>\n",
       "      <td>Wagga Wagga</td>\n",
       "      <td>Australia</td>\n",
       "      <td>JH-159851</td>\n",
       "      <td>Joseph Holt</td>\n",
       "      <td>APAC</td>\n",
       "      <td>01-01-2011</td>\n",
       "      <td>IN-2011-47883</td>\n",
       "      <td>Medium</td>\n",
       "      <td>FUR-FU-10003447</td>\n",
       "      <td>...</td>\n",
       "      <td>08-01-2011</td>\n",
       "      <td>Standard Class</td>\n",
       "      <td>New South Wales</td>\n",
       "      <td>Furnishings</td>\n",
       "      <td>0.1</td>\n",
       "      <td>1</td>\n",
       "      <td>37.770</td>\n",
       "      <td>5</td>\n",
       "      <td>114</td>\n",
       "      <td>4.70</td>\n",
       "    </tr>\n",
       "    <tr>\n",
       "      <th>4</th>\n",
       "      <td>Office Supplies</td>\n",
       "      <td>Wagga Wagga</td>\n",
       "      <td>Australia</td>\n",
       "      <td>JH-159851</td>\n",
       "      <td>Joseph Holt</td>\n",
       "      <td>APAC</td>\n",
       "      <td>01-01-2011</td>\n",
       "      <td>IN-2011-47883</td>\n",
       "      <td>Medium</td>\n",
       "      <td>OFF-PA-10001968</td>\n",
       "      <td>...</td>\n",
       "      <td>08-01-2011</td>\n",
       "      <td>Standard Class</td>\n",
       "      <td>New South Wales</td>\n",
       "      <td>Paper</td>\n",
       "      <td>0.1</td>\n",
       "      <td>1</td>\n",
       "      <td>15.342</td>\n",
       "      <td>2</td>\n",
       "      <td>55</td>\n",
       "      <td>1.80</td>\n",
       "    </tr>\n",
       "  </tbody>\n",
       "</table>\n",
       "<p>5 rows × 24 columns</p>\n",
       "</div>"
      ],
      "text/plain": [
       "          Category         City    Country Customer ID    Customer Name  \\\n",
       "0  Office Supplies     Budapest    Hungary     AT-7352    Annie Thurman   \n",
       "1  Office Supplies    Stockholm     Sweden   EM-141402     Eugene Moren   \n",
       "2  Office Supplies  Constantine    Algeria   TB-112801  Toby Braunhardt   \n",
       "3        Furniture  Wagga Wagga  Australia   JH-159851      Joseph Holt   \n",
       "4  Office Supplies  Wagga Wagga  Australia   JH-159851      Joseph Holt   \n",
       "\n",
       "   Market  Order Date         Order ID Order Priority        Product ID  ...  \\\n",
       "0    EMEA  01-01-2011     HU-2011-1220           High  OFF-TEN-10001585  ...   \n",
       "1      EU  01-01-2011  IT-2011-3647632           High   OFF-PA-10001492  ...   \n",
       "2  Africa  01-01-2011     AG-2011-2040         Medium  OFF-TEN-10000025  ...   \n",
       "3    APAC  01-01-2011    IN-2011-47883         Medium   FUR-FU-10003447  ...   \n",
       "4    APAC  01-01-2011    IN-2011-47883         Medium   OFF-PA-10001968  ...   \n",
       "\n",
       "    Ship Date       Ship Mode            State Sub-Category Discount  \\\n",
       "0  05-01-2011    Second Class         Budapest      Storage      0.0   \n",
       "1  05-01-2011    Second Class        Stockholm        Paper      0.5   \n",
       "2  06-01-2011  Standard Class      Constantine      Storage      0.0   \n",
       "3  08-01-2011  Standard Class  New South Wales  Furnishings      0.1   \n",
       "4  08-01-2011  Standard Class  New South Wales        Paper      0.1   \n",
       "\n",
       "  Number of Records   Profit Quantity  Sales  Shipping Cost  \n",
       "0                 1   29.640        4     66           8.17  \n",
       "1                 1  -26.055        3     45           4.82  \n",
       "2                 1  106.140        2    408          35.46  \n",
       "3                 1   37.770        5    114           4.70  \n",
       "4                 1   15.342        2     55           1.80  \n",
       "\n",
       "[5 rows x 24 columns]"
      ]
     },
     "execution_count": 3,
     "metadata": {},
     "output_type": "execute_result"
    }
   ],
   "source": [
    "data.head()"
   ]
  },
  {
   "cell_type": "markdown",
   "metadata": {},
   "source": [
    "### Procedure:"
   ]
  },
  {
   "cell_type": "code",
   "execution_count": 10,
   "metadata": {},
   "outputs": [],
   "source": [
    "cagr_data=pd.concat([data['Country'],data['Sales'],data['Order Date']],axis=1)\n",
    "cagr_data['Order Date']= pd.to_datetime(cagr_data['Order Date'])\n",
    "cagr_data['Sales']= cagr_data['Sales'].apply(lambda x: int(x.replace(',','')))"
   ]
  },
  {
   "cell_type": "markdown",
   "metadata": {},
   "source": [
    "Each instance is grouped according to the order date (2011:1,2012:2,2013:3,2014:4)"
   ]
  },
  {
   "cell_type": "code",
   "execution_count": 11,
   "metadata": {},
   "outputs": [],
   "source": [
    "def group_to_year(x):\n",
    "    year=x.year\n",
    "    quarter_dict={2011:1,2012:2,2013:3,2014:4}\n",
    "    return quarter_dict[year]"
   ]
  },
  {
   "cell_type": "code",
   "execution_count": 12,
   "metadata": {},
   "outputs": [
    {
     "data": {
      "text/html": [
       "<div>\n",
       "<style scoped>\n",
       "    .dataframe tbody tr th:only-of-type {\n",
       "        vertical-align: middle;\n",
       "    }\n",
       "\n",
       "    .dataframe tbody tr th {\n",
       "        vertical-align: top;\n",
       "    }\n",
       "\n",
       "    .dataframe thead th {\n",
       "        text-align: right;\n",
       "    }\n",
       "</style>\n",
       "<table border=\"1\" class=\"dataframe\">\n",
       "  <thead>\n",
       "    <tr style=\"text-align: right;\">\n",
       "      <th></th>\n",
       "      <th>Country</th>\n",
       "      <th>Sales</th>\n",
       "      <th>Order Date</th>\n",
       "      <th>Year</th>\n",
       "    </tr>\n",
       "  </thead>\n",
       "  <tbody>\n",
       "    <tr>\n",
       "      <th>0</th>\n",
       "      <td>Hungary</td>\n",
       "      <td>66</td>\n",
       "      <td>2011-01-01</td>\n",
       "      <td>1</td>\n",
       "    </tr>\n",
       "    <tr>\n",
       "      <th>1</th>\n",
       "      <td>Sweden</td>\n",
       "      <td>45</td>\n",
       "      <td>2011-01-01</td>\n",
       "      <td>1</td>\n",
       "    </tr>\n",
       "    <tr>\n",
       "      <th>2</th>\n",
       "      <td>Algeria</td>\n",
       "      <td>408</td>\n",
       "      <td>2011-01-01</td>\n",
       "      <td>1</td>\n",
       "    </tr>\n",
       "    <tr>\n",
       "      <th>3</th>\n",
       "      <td>Australia</td>\n",
       "      <td>114</td>\n",
       "      <td>2011-01-01</td>\n",
       "      <td>1</td>\n",
       "    </tr>\n",
       "    <tr>\n",
       "      <th>4</th>\n",
       "      <td>Australia</td>\n",
       "      <td>55</td>\n",
       "      <td>2011-01-01</td>\n",
       "      <td>1</td>\n",
       "    </tr>\n",
       "  </tbody>\n",
       "</table>\n",
       "</div>"
      ],
      "text/plain": [
       "     Country  Sales Order Date  Year\n",
       "0    Hungary     66 2011-01-01     1\n",
       "1     Sweden     45 2011-01-01     1\n",
       "2    Algeria    408 2011-01-01     1\n",
       "3  Australia    114 2011-01-01     1\n",
       "4  Australia     55 2011-01-01     1"
      ]
     },
     "execution_count": 12,
     "metadata": {},
     "output_type": "execute_result"
    }
   ],
   "source": [
    "cagr_data['Year']=cagr_data['Order Date'].apply(group_to_year)\n",
    "cagr_data.head()"
   ]
  },
  {
   "cell_type": "markdown",
   "metadata": {},
   "source": [
    "### Calculation of CAGR:"
   ]
  },
  {
   "cell_type": "code",
   "execution_count": 13,
   "metadata": {},
   "outputs": [
    {
     "name": "stderr",
     "output_type": "stream",
     "text": [
      "c:\\python37\\lib\\site-packages\\ipykernel_launcher.py:6: UserWarning: Boolean Series key will be reindexed to match DataFrame index.\n",
      "  \n"
     ]
    }
   ],
   "source": [
    "countries=list(cagr_data['Country'].unique())\n",
    "cagr=list()\n",
    "for country in countries:\n",
    "    sales=list()\n",
    "    for year in range(1,5):\n",
    "        sale=sum(cagr_data[cagr_data['Country']==country][cagr_data['Year']==year]['Sales'])\n",
    "        if sale!=0:\n",
    "            sales.append((sale,year))\n",
    "    if len(sales)==1:\n",
    "        if sales[0][1]!=4:\n",
    "            cagr.append(-100.)\n",
    "        else:\n",
    "            cagr.append(0)\n",
    "    else:\n",
    "        cagr.append((((sales[-1][0]/sales[0][0])**(1/(sales[-1][1]-sales[0][1])))-1)*100)"
   ]
  },
  {
   "cell_type": "markdown",
   "metadata": {},
   "source": [
    "### Top 5 countries with the highest CAGR:"
   ]
  },
  {
   "cell_type": "code",
   "execution_count": 14,
   "metadata": {},
   "outputs": [
    {
     "data": {
      "text/html": [
       "<div>\n",
       "<style scoped>\n",
       "    .dataframe tbody tr th:only-of-type {\n",
       "        vertical-align: middle;\n",
       "    }\n",
       "\n",
       "    .dataframe tbody tr th {\n",
       "        vertical-align: top;\n",
       "    }\n",
       "\n",
       "    .dataframe thead th {\n",
       "        text-align: right;\n",
       "    }\n",
       "</style>\n",
       "<table border=\"1\" class=\"dataframe\">\n",
       "  <thead>\n",
       "    <tr style=\"text-align: right;\">\n",
       "      <th></th>\n",
       "      <th>Country</th>\n",
       "      <th>CAGR</th>\n",
       "    </tr>\n",
       "  </thead>\n",
       "  <tbody>\n",
       "    <tr>\n",
       "      <th>138</th>\n",
       "      <td>Mauritania</td>\n",
       "      <td>1110.493336</td>\n",
       "    </tr>\n",
       "    <tr>\n",
       "      <th>145</th>\n",
       "      <td>Slovenia</td>\n",
       "      <td>760.130719</td>\n",
       "    </tr>\n",
       "    <tr>\n",
       "      <th>123</th>\n",
       "      <td>Uruguay</td>\n",
       "      <td>412.743486</td>\n",
       "    </tr>\n",
       "    <tr>\n",
       "      <th>103</th>\n",
       "      <td>Croatia</td>\n",
       "      <td>356.546283</td>\n",
       "    </tr>\n",
       "    <tr>\n",
       "      <th>110</th>\n",
       "      <td>Tajikistan</td>\n",
       "      <td>330.287651</td>\n",
       "    </tr>\n",
       "  </tbody>\n",
       "</table>\n",
       "</div>"
      ],
      "text/plain": [
       "        Country         CAGR\n",
       "138  Mauritania  1110.493336\n",
       "145    Slovenia   760.130719\n",
       "123     Uruguay   412.743486\n",
       "103     Croatia   356.546283\n",
       "110  Tajikistan   330.287651"
      ]
     },
     "execution_count": 14,
     "metadata": {},
     "output_type": "execute_result"
    }
   ],
   "source": [
    "cagr_of_countries=pd.DataFrame(data={'Country':countries,'CAGR':cagr})\n",
    "cagr_of_countries.sort_values(\"CAGR\", axis = 0, ascending = False, inplace = True) \n",
    "cagr_of_countries.head()"
   ]
  },
  {
   "cell_type": "markdown",
   "metadata": {},
   "source": [
    "### Histogram of the raw sales data:"
   ]
  },
  {
   "cell_type": "code",
   "execution_count": 15,
   "metadata": {},
   "outputs": [
    {
     "data": {
      "text/plain": [
       "<matplotlib.axes._subplots.AxesSubplot at 0x1cbebaddf08>"
      ]
     },
     "execution_count": 15,
     "metadata": {},
     "output_type": "execute_result"
    },
    {
     "data": {
      "image/png": "[encoded data removed]",
      "text/plain": [
       "<Figure size 720x720 with 1 Axes>"
      ]
     },
     "metadata": {
      "needs_background": "light"
     },
     "output_type": "display_data"
    }
   ],
   "source": [
    "cagr_data['Sales'].hist(bins=50,figsize=(10,10))"
   ]
  },
  {
   "cell_type": "markdown",
   "metadata": {},
   "source": [
    "### Removing the bottom 10 percentile transactions:"
   ]
  },
  {
   "cell_type": "code",
   "execution_count": 16,
   "metadata": {},
   "outputs": [],
   "source": [
    "z=cagr_data['Sales'].quantile(0.1)\n",
    "mod_cagr_data=cagr_data[cagr_data['Sales']>z]"
   ]
  },
  {
   "cell_type": "markdown",
   "metadata": {},
   "source": [
    "### Histogram of the new sales data:"
   ]
  },
  {
   "cell_type": "code",
   "execution_count": 17,
   "metadata": {},
   "outputs": [
    {
     "data": {
      "text/plain": [
       "<matplotlib.axes._subplots.AxesSubplot at 0x1cbebe00bc8>"
      ]
     },
     "execution_count": 17,
     "metadata": {},
     "output_type": "execute_result"
    },
    {
     "data": {
      "image/png": "[encoded data removed]",
      "text/plain": [
       "<Figure size 720x720 with 1 Axes>"
      ]
     },
     "metadata": {
      "needs_background": "light"
     },
     "output_type": "display_data"
    }
   ],
   "source": [
    "mod_cagr_data['Sales'].hist(bins=50,figsize=(10,10))"
   ]
  },
  {
   "cell_type": "markdown",
   "metadata": {},
   "source": [
    "### Calculation of CAGR with new sales data:"
   ]
  },
  {
   "cell_type": "code",
   "execution_count": 18,
   "metadata": {},
   "outputs": [
    {
     "name": "stderr",
     "output_type": "stream",
     "text": [
      "c:\\python37\\lib\\site-packages\\ipykernel_launcher.py:6: UserWarning: Boolean Series key will be reindexed to match DataFrame index.\n",
      "  \n"
     ]
    }
   ],
   "source": [
    "mod_countries=list(mod_cagr_data['Country'].unique())\n",
    "mod_cagr=list()\n",
    "for country in mod_countries:\n",
    "    sales=list()\n",
    "    for year in range(1,5):\n",
    "        sale=sum(mod_cagr_data[mod_cagr_data['Country']==country][mod_cagr_data['Year']==year]['Sales'])\n",
    "        if sale!=0:\n",
    "            sales.append((sale,year))\n",
    "    if len(sales)==1:\n",
    "        if sales[0][1]!=4:\n",
    "            mod_cagr.append(-100.)\n",
    "        else:\n",
    "            mod_cagr.append(0)\n",
    "    else:\n",
    "        mod_cagr.append((((sales[-1][0]/sales[0][0])**(1/(sales[-1][1]-sales[0][1])))-1)*100)"
   ]
  },
  {
   "cell_type": "markdown",
   "metadata": {},
   "source": [
    "### Top 5 countries with the highest CAGR:"
   ]
  },
  {
   "cell_type": "code",
   "execution_count": 19,
   "metadata": {
    "scrolled": true
   },
   "outputs": [
    {
     "data": {
      "text/html": [
       "<div>\n",
       "<style scoped>\n",
       "    .dataframe tbody tr th:only-of-type {\n",
       "        vertical-align: middle;\n",
       "    }\n",
       "\n",
       "    .dataframe tbody tr th {\n",
       "        vertical-align: top;\n",
       "    }\n",
       "\n",
       "    .dataframe thead th {\n",
       "        text-align: right;\n",
       "    }\n",
       "</style>\n",
       "<table border=\"1\" class=\"dataframe\">\n",
       "  <thead>\n",
       "    <tr style=\"text-align: right;\">\n",
       "      <th></th>\n",
       "      <th>Country</th>\n",
       "      <th>CAGR</th>\n",
       "    </tr>\n",
       "  </thead>\n",
       "  <tbody>\n",
       "    <tr>\n",
       "      <th>136</th>\n",
       "      <td>Mauritania</td>\n",
       "      <td>1104.403685</td>\n",
       "    </tr>\n",
       "    <tr>\n",
       "      <th>144</th>\n",
       "      <td>Slovenia</td>\n",
       "      <td>760.130719</td>\n",
       "    </tr>\n",
       "    <tr>\n",
       "      <th>122</th>\n",
       "      <td>Uruguay</td>\n",
       "      <td>412.743486</td>\n",
       "    </tr>\n",
       "    <tr>\n",
       "      <th>102</th>\n",
       "      <td>Croatia</td>\n",
       "      <td>353.714117</td>\n",
       "    </tr>\n",
       "    <tr>\n",
       "      <th>98</th>\n",
       "      <td>Burundi</td>\n",
       "      <td>325.490196</td>\n",
       "    </tr>\n",
       "  </tbody>\n",
       "</table>\n",
       "</div>"
      ],
      "text/plain": [
       "        Country         CAGR\n",
       "136  Mauritania  1104.403685\n",
       "144    Slovenia   760.130719\n",
       "122     Uruguay   412.743486\n",
       "102     Croatia   353.714117\n",
       "98      Burundi   325.490196"
      ]
     },
     "execution_count": 19,
     "metadata": {},
     "output_type": "execute_result"
    }
   ],
   "source": [
    "mod_cagr_of_countries=pd.DataFrame(data={'Country':mod_countries,'CAGR':mod_cagr})\n",
    "mod_cagr_of_countries.sort_values(\"CAGR\", axis = 0, ascending = False, inplace = True) \n",
    "mod_cagr_of_countries.head()"
   ]
  },
  {
   "cell_type": "markdown",
   "metadata": {},
   "source": [
    "### Conclusion:"
   ]
  },
  {
   "cell_type": "markdown",
   "metadata": {},
   "source": [
    "Even after removing the bottom ten percentile transactions from the original data, the top 5 countries ranking does not change much"
   ]
  }
 ],
 "metadata": {
  "kernelspec": {
   "display_name": "Python 3",
   "language": "python",
   "name": "python3"
  },
  "language_info": {
   "codemirror_mode": {
    "name": "ipython",
    "version": 3
   },
   "file_extension": ".py",
   "mimetype": "text/x-python",
   "name": "python",
   "nbconvert_exporter": "python",
   "pygments_lexer": "ipython3",
   "version": "3.7.4"
  }
 },
 "nbformat": 4,
 "nbformat_minor": 2
}
