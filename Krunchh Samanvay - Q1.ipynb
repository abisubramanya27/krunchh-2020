{
 "cells": [
  {
   "cell_type": "markdown",
   "metadata": {},
   "source": [
    "# Question One:\n",
    "The Marketing Teamhas launched a campaign recently and they want to understand how well their\n",
    "campaigns are able to attract new customers.\n",
    "Show the New Customer Acquisition on a trend line. During which period did new customers grow\n",
    "the most. During which period did it flatten?"
   ]
  },
  {
   "cell_type": "markdown",
   "metadata": {},
   "source": [
    "### Import the necessary libraries:"
   ]
  },
  {
   "cell_type": "code",
   "execution_count": 1,
   "metadata": {},
   "outputs": [],
   "source": [
    "import numpy as np\n",
    "import pandas as pd\n",
    "import matplotlib.pyplot as plt\n",
    "import sweetviz as sw\n",
    "import seaborn as sns\n",
    "import datetime\n",
    "sns.set()"
   ]
  },
  {
   "cell_type": "markdown",
   "metadata": {},
   "source": [
    "### A glance at the dataset:"
   ]
  },
  {
   "cell_type": "code",
   "execution_count": 2,
   "metadata": {},
   "outputs": [
    {
     "name": "stdout",
     "output_type": "stream",
     "text": [
      "<class 'pandas.core.frame.DataFrame'>\n",
      "RangeIndex: 51290 entries, 0 to 51289\n",
      "Data columns (total 24 columns):\n",
      " #   Column             Non-Null Count  Dtype  \n",
      "---  ------             --------------  -----  \n",
      " 0   Category           51290 non-null  object \n",
      " 1   City               51290 non-null  object \n",
      " 2   Country            51290 non-null  object \n",
      " 3   Customer ID        51290 non-null  object \n",
      " 4   Customer Name      51290 non-null  object \n",
      " 5   Market             51290 non-null  object \n",
      " 6   Order Date         51290 non-null  object \n",
      " 7   Order ID           51290 non-null  object \n",
      " 8   Order Priority     51290 non-null  object \n",
      " 9   Product ID         51290 non-null  object \n",
      " 10  Product Name       51290 non-null  object \n",
      " 11  Region             51290 non-null  object \n",
      " 12  Row ID             51290 non-null  int64  \n",
      " 13  Segment            51290 non-null  object \n",
      " 14  Ship Date          51290 non-null  object \n",
      " 15  Ship Mode          51290 non-null  object \n",
      " 16  State              51290 non-null  object \n",
      " 17  Sub-Category       51290 non-null  object \n",
      " 18  Discount           51290 non-null  float64\n",
      " 19  Number of Records  51290 non-null  int64  \n",
      " 20  Profit             51290 non-null  float64\n",
      " 21  Quantity           51290 non-null  int64  \n",
      " 22  Sales              51290 non-null  object \n",
      " 23  Shipping Cost      51290 non-null  float64\n",
      "dtypes: float64(3), int64(3), object(18)\n",
      "memory usage: 9.4+ MB\n"
     ]
    }
   ],
   "source": [
    "data=pd.read_csv('Dataset.csv')\n",
    "data.info()"
   ]
  },
  {
   "cell_type": "code",
   "execution_count": 3,
   "metadata": {},
   "outputs": [
    {
     "data": {
      "text/html": [
       "<div>\n",
       "<style scoped>\n",
       "    .dataframe tbody tr th:only-of-type {\n",
       "        vertical-align: middle;\n",
       "    }\n",
       "\n",
       "    .dataframe tbody tr th {\n",
       "        vertical-align: top;\n",
       "    }\n",
       "\n",
       "    .dataframe thead th {\n",
       "        text-align: right;\n",
       "    }\n",
       "</style>\n",
       "<table border=\"1\" class=\"dataframe\">\n",
       "  <thead>\n",
       "    <tr style=\"text-align: right;\">\n",
       "      <th></th>\n",
       "      <th>Category</th>\n",
       "      <th>City</th>\n",
       "      <th>Country</th>\n",
       "      <th>Customer ID</th>\n",
       "      <th>Customer Name</th>\n",
       "      <th>Market</th>\n",
       "      <th>Order Date</th>\n",
       "      <th>Order ID</th>\n",
       "      <th>Order Priority</th>\n",
       "      <th>Product ID</th>\n",
       "      <th>...</th>\n",
       "      <th>Ship Date</th>\n",
       "      <th>Ship Mode</th>\n",
       "      <th>State</th>\n",
       "      <th>Sub-Category</th>\n",
       "      <th>Discount</th>\n",
       "      <th>Number of Records</th>\n",
       "      <th>Profit</th>\n",
       "      <th>Quantity</th>\n",
       "      <th>Sales</th>\n",
       "      <th>Shipping Cost</th>\n",
       "    </tr>\n",
       "  </thead>\n",
       "  <tbody>\n",
       "    <tr>\n",
       "      <th>0</th>\n",
       "      <td>Office Supplies</td>\n",
       "      <td>Budapest</td>\n",
       "      <td>Hungary</td>\n",
       "      <td>AT-7352</td>\n",
       "      <td>Annie Thurman</td>\n",
       "      <td>EMEA</td>\n",
       "      <td>01-01-2011</td>\n",
       "      <td>HU-2011-1220</td>\n",
       "      <td>High</td>\n",
       "      <td>OFF-TEN-10001585</td>\n",
       "      <td>...</td>\n",
       "      <td>05-01-2011</td>\n",
       "      <td>Second Class</td>\n",
       "      <td>Budapest</td>\n",
       "      <td>Storage</td>\n",
       "      <td>0.0</td>\n",
       "      <td>1</td>\n",
       "      <td>29.640</td>\n",
       "      <td>4</td>\n",
       "      <td>66</td>\n",
       "      <td>8.17</td>\n",
       "    </tr>\n",
       "    <tr>\n",
       "      <th>1</th>\n",
       "      <td>Office Supplies</td>\n",
       "      <td>Stockholm</td>\n",
       "      <td>Sweden</td>\n",
       "      <td>EM-141402</td>\n",
       "      <td>Eugene Moren</td>\n",
       "      <td>EU</td>\n",
       "      <td>01-01-2011</td>\n",
       "      <td>IT-2011-3647632</td>\n",
       "      <td>High</td>\n",
       "      <td>OFF-PA-10001492</td>\n",
       "      <td>...</td>\n",
       "      <td>05-01-2011</td>\n",
       "      <td>Second Class</td>\n",
       "      <td>Stockholm</td>\n",
       "      <td>Paper</td>\n",
       "      <td>0.5</td>\n",
       "      <td>1</td>\n",
       "      <td>-26.055</td>\n",
       "      <td>3</td>\n",
       "      <td>45</td>\n",
       "      <td>4.82</td>\n",
       "    </tr>\n",
       "    <tr>\n",
       "      <th>2</th>\n",
       "      <td>Office Supplies</td>\n",
       "      <td>Constantine</td>\n",
       "      <td>Algeria</td>\n",
       "      <td>TB-112801</td>\n",
       "      <td>Toby Braunhardt</td>\n",
       "      <td>Africa</td>\n",
       "      <td>01-01-2011</td>\n",
       "      <td>AG-2011-2040</td>\n",
       "      <td>Medium</td>\n",
       "      <td>OFF-TEN-10000025</td>\n",
       "      <td>...</td>\n",
       "      <td>06-01-2011</td>\n",
       "      <td>Standard Class</td>\n",
       "      <td>Constantine</td>\n",
       "      <td>Storage</td>\n",
       "      <td>0.0</td>\n",
       "      <td>1</td>\n",
       "      <td>106.140</td>\n",
       "      <td>2</td>\n",
       "      <td>408</td>\n",
       "      <td>35.46</td>\n",
       "    </tr>\n",
       "    <tr>\n",
       "      <th>3</th>\n",
       "      <td>Furniture</td>\n",
       "      <td>Wagga Wagga</td>\n",
       "      <td>Australia</td>\n",
       "      <td>JH-159851</td>\n",
       "      <td>Joseph Holt</td>\n",
       "      <td>APAC</td>\n",
       "      <td>01-01-2011</td>\n",
       "      <td>IN-2011-47883</td>\n",
       "      <td>Medium</td>\n",
       "      <td>FUR-FU-10003447</td>\n",
       "      <td>...</td>\n",
       "      <td>08-01-2011</td>\n",
       "      <td>Standard Class</td>\n",
       "      <td>New South Wales</td>\n",
       "      <td>Furnishings</td>\n",
       "      <td>0.1</td>\n",
       "      <td>1</td>\n",
       "      <td>37.770</td>\n",
       "      <td>5</td>\n",
       "      <td>114</td>\n",
       "      <td>4.70</td>\n",
       "    </tr>\n",
       "    <tr>\n",
       "      <th>4</th>\n",
       "      <td>Office Supplies</td>\n",
       "      <td>Wagga Wagga</td>\n",
       "      <td>Australia</td>\n",
       "      <td>JH-159851</td>\n",
       "      <td>Joseph Holt</td>\n",
       "      <td>APAC</td>\n",
       "      <td>01-01-2011</td>\n",
       "      <td>IN-2011-47883</td>\n",
       "      <td>Medium</td>\n",
       "      <td>OFF-PA-10001968</td>\n",
       "      <td>...</td>\n",
       "      <td>08-01-2011</td>\n",
       "      <td>Standard Class</td>\n",
       "      <td>New South Wales</td>\n",
       "      <td>Paper</td>\n",
       "      <td>0.1</td>\n",
       "      <td>1</td>\n",
       "      <td>15.342</td>\n",
       "      <td>2</td>\n",
       "      <td>55</td>\n",
       "      <td>1.80</td>\n",
       "    </tr>\n",
       "  </tbody>\n",
       "</table>\n",
       "<p>5 rows × 24 columns</p>\n",
       "</div>"
      ],
      "text/plain": [
       "          Category         City    Country Customer ID    Customer Name  \\\n",
       "0  Office Supplies     Budapest    Hungary     AT-7352    Annie Thurman   \n",
       "1  Office Supplies    Stockholm     Sweden   EM-141402     Eugene Moren   \n",
       "2  Office Supplies  Constantine    Algeria   TB-112801  Toby Braunhardt   \n",
       "3        Furniture  Wagga Wagga  Australia   JH-159851      Joseph Holt   \n",
       "4  Office Supplies  Wagga Wagga  Australia   JH-159851      Joseph Holt   \n",
       "\n",
       "   Market  Order Date         Order ID Order Priority        Product ID  ...  \\\n",
       "0    EMEA  01-01-2011     HU-2011-1220           High  OFF-TEN-10001585  ...   \n",
       "1      EU  01-01-2011  IT-2011-3647632           High   OFF-PA-10001492  ...   \n",
       "2  Africa  01-01-2011     AG-2011-2040         Medium  OFF-TEN-10000025  ...   \n",
       "3    APAC  01-01-2011    IN-2011-47883         Medium   FUR-FU-10003447  ...   \n",
       "4    APAC  01-01-2011    IN-2011-47883         Medium   OFF-PA-10001968  ...   \n",
       "\n",
       "    Ship Date       Ship Mode            State Sub-Category Discount  \\\n",
       "0  05-01-2011    Second Class         Budapest      Storage      0.0   \n",
       "1  05-01-2011    Second Class        Stockholm        Paper      0.5   \n",
       "2  06-01-2011  Standard Class      Constantine      Storage      0.0   \n",
       "3  08-01-2011  Standard Class  New South Wales  Furnishings      0.1   \n",
       "4  08-01-2011  Standard Class  New South Wales        Paper      0.1   \n",
       "\n",
       "  Number of Records   Profit Quantity  Sales  Shipping Cost  \n",
       "0                 1   29.640        4     66           8.17  \n",
       "1                 1  -26.055        3     45           4.82  \n",
       "2                 1  106.140        2    408          35.46  \n",
       "3                 1   37.770        5    114           4.70  \n",
       "4                 1   15.342        2     55           1.80  \n",
       "\n",
       "[5 rows x 24 columns]"
      ]
     },
     "execution_count": 3,
     "metadata": {},
     "output_type": "execute_result"
    }
   ],
   "source": [
    "data.head()"
   ]
  },
  {
   "cell_type": "markdown",
   "metadata": {},
   "source": [
    "### Procedure:"
   ]
  },
  {
   "cell_type": "code",
   "execution_count": 4,
   "metadata": {},
   "outputs": [],
   "source": [
    "trend_data=pd.concat([data['Customer ID'],data['Order Date']],axis=1)\n",
    "trend_data['Order Date']= pd.to_datetime(trend_data['Order Date'])"
   ]
  },
  {
   "cell_type": "markdown",
   "metadata": {},
   "source": [
    "Each year is divided into four quarters (each quarter - three months). For a period of four years, we have 12 such quarters. Each instance is then classified to the respective quarter corresponding to the order date"
   ]
  },
  {
   "cell_type": "code",
   "execution_count": 5,
   "metadata": {},
   "outputs": [],
   "source": [
    "def group_to_quarters(x):\n",
    "    month=x.month\n",
    "    year=x.year\n",
    "    quarter={2011:0,2012:3,2013:6,2014:9}\n",
    "    if month%4 == 0:\n",
    "        return (month//4)+quarter[year]\n",
    "    else:\n",
    "        return ((month//4)+1)+quarter[year]"
   ]
  },
  {
   "cell_type": "code",
   "execution_count": 6,
   "metadata": {},
   "outputs": [],
   "source": [
    "trend_data['Quarter']=trend_data['Order Date'].apply(group_to_quarters)"
   ]
  },
  {
   "cell_type": "markdown",
   "metadata": {},
   "source": [
    "Since each customer ID is repeated, we remove the duplicates keeping only the first occurrence of an ID. This way, we can concentrate only on the new customers"
   ]
  },
  {
   "cell_type": "code",
   "execution_count": 7,
   "metadata": {},
   "outputs": [
    {
     "data": {
      "text/html": [
       "<div>\n",
       "<style scoped>\n",
       "    .dataframe tbody tr th:only-of-type {\n",
       "        vertical-align: middle;\n",
       "    }\n",
       "\n",
       "    .dataframe tbody tr th {\n",
       "        vertical-align: top;\n",
       "    }\n",
       "\n",
       "    .dataframe thead th {\n",
       "        text-align: right;\n",
       "    }\n",
       "</style>\n",
       "<table border=\"1\" class=\"dataframe\">\n",
       "  <thead>\n",
       "    <tr style=\"text-align: right;\">\n",
       "      <th></th>\n",
       "      <th>Customer ID</th>\n",
       "      <th>Order Date</th>\n",
       "      <th>Quarter</th>\n",
       "    </tr>\n",
       "  </thead>\n",
       "  <tbody>\n",
       "    <tr>\n",
       "      <th>0</th>\n",
       "      <td>AT-7352</td>\n",
       "      <td>2011-01-01</td>\n",
       "      <td>1</td>\n",
       "    </tr>\n",
       "    <tr>\n",
       "      <th>1</th>\n",
       "      <td>EM-141402</td>\n",
       "      <td>2011-01-01</td>\n",
       "      <td>1</td>\n",
       "    </tr>\n",
       "    <tr>\n",
       "      <th>2</th>\n",
       "      <td>TB-112801</td>\n",
       "      <td>2011-01-01</td>\n",
       "      <td>1</td>\n",
       "    </tr>\n",
       "    <tr>\n",
       "      <th>3</th>\n",
       "      <td>JH-159851</td>\n",
       "      <td>2011-01-01</td>\n",
       "      <td>1</td>\n",
       "    </tr>\n",
       "    <tr>\n",
       "      <th>6</th>\n",
       "      <td>MM-72602</td>\n",
       "      <td>2011-02-01</td>\n",
       "      <td>1</td>\n",
       "    </tr>\n",
       "  </tbody>\n",
       "</table>\n",
       "</div>"
      ],
      "text/plain": [
       "  Customer ID Order Date  Quarter\n",
       "0     AT-7352 2011-01-01        1\n",
       "1   EM-141402 2011-01-01        1\n",
       "2   TB-112801 2011-01-01        1\n",
       "3   JH-159851 2011-01-01        1\n",
       "6    MM-72602 2011-02-01        1"
      ]
     },
     "execution_count": 7,
     "metadata": {},
     "output_type": "execute_result"
    }
   ],
   "source": [
    "trend_data.drop_duplicates(subset =\"Customer ID\",keep = 'first', inplace = True) \n",
    "trend_data.head()"
   ]
  },
  {
   "cell_type": "code",
   "execution_count": 9,
   "metadata": {},
   "outputs": [
    {
     "data": {
      "text/html": [
       "<div>\n",
       "<style scoped>\n",
       "    .dataframe tbody tr th:only-of-type {\n",
       "        vertical-align: middle;\n",
       "    }\n",
       "\n",
       "    .dataframe tbody tr th {\n",
       "        vertical-align: top;\n",
       "    }\n",
       "\n",
       "    .dataframe thead th {\n",
       "        text-align: right;\n",
       "    }\n",
       "</style>\n",
       "<table border=\"1\" class=\"dataframe\">\n",
       "  <thead>\n",
       "    <tr style=\"text-align: right;\">\n",
       "      <th></th>\n",
       "      <th>Quarter</th>\n",
       "      <th>No. of new customers</th>\n",
       "    </tr>\n",
       "  </thead>\n",
       "  <tbody>\n",
       "    <tr>\n",
       "      <th>1</th>\n",
       "      <td>1</td>\n",
       "      <td>913</td>\n",
       "    </tr>\n",
       "    <tr>\n",
       "      <th>2</th>\n",
       "      <td>2</td>\n",
       "      <td>949</td>\n",
       "    </tr>\n",
       "    <tr>\n",
       "      <th>3</th>\n",
       "      <td>3</td>\n",
       "      <td>1028</td>\n",
       "    </tr>\n",
       "    <tr>\n",
       "      <th>4</th>\n",
       "      <td>4</td>\n",
       "      <td>357</td>\n",
       "    </tr>\n",
       "    <tr>\n",
       "      <th>5</th>\n",
       "      <td>5</td>\n",
       "      <td>438</td>\n",
       "    </tr>\n",
       "    <tr>\n",
       "      <th>6</th>\n",
       "      <td>6</td>\n",
       "      <td>377</td>\n",
       "    </tr>\n",
       "    <tr>\n",
       "      <th>7</th>\n",
       "      <td>7</td>\n",
       "      <td>186</td>\n",
       "    </tr>\n",
       "    <tr>\n",
       "      <th>8</th>\n",
       "      <td>8</td>\n",
       "      <td>196</td>\n",
       "    </tr>\n",
       "    <tr>\n",
       "      <th>9</th>\n",
       "      <td>9</td>\n",
       "      <td>184</td>\n",
       "    </tr>\n",
       "    <tr>\n",
       "      <th>10</th>\n",
       "      <td>10</td>\n",
       "      <td>67</td>\n",
       "    </tr>\n",
       "    <tr>\n",
       "      <th>11</th>\n",
       "      <td>11</td>\n",
       "      <td>89</td>\n",
       "    </tr>\n",
       "    <tr>\n",
       "      <th>12</th>\n",
       "      <td>12</td>\n",
       "      <td>89</td>\n",
       "    </tr>\n",
       "  </tbody>\n",
       "</table>\n",
       "</div>"
      ],
      "text/plain": [
       "    Quarter  No. of new customers\n",
       "1         1                   913\n",
       "2         2                   949\n",
       "3         3                  1028\n",
       "4         4                   357\n",
       "5         5                   438\n",
       "6         6                   377\n",
       "7         7                   186\n",
       "8         8                   196\n",
       "9         9                   184\n",
       "10       10                    67\n",
       "11       11                    89\n",
       "12       12                    89"
      ]
     },
     "execution_count": 9,
     "metadata": {},
     "output_type": "execute_result"
    }
   ],
   "source": [
    "customer_aq=pd.DataFrame(data=trend_data['Quarter'].value_counts()).sort_index(axis=0)\n",
    "customer_aq['No. of new customers']=customer_aq['Quarter']\n",
    "customer_aq['Quarter']=[i for i in range(1,13)]\n",
    "customer_aq"
   ]
  },
  {
   "cell_type": "markdown",
   "metadata": {},
   "source": [
    "### Plotting the trend line:"
   ]
  },
  {
   "cell_type": "markdown",
   "metadata": {},
   "source": [
    "The trend line is plotted with the above data. From the trend line, wee can see\n",
    "\n",
    "1) The number of new customers reached the maximum during the third quarter\n",
    "\n",
    "2) There was negligible change in the number of new customers during (7 - 9) and (10 - 12) quarters. The curve is flat"
   ]
  },
  {
   "cell_type": "code",
   "execution_count": 10,
   "metadata": {},
   "outputs": [
    {
     "data": {
      "image/png": "[encoded data removed]",
      "text/plain": [
       "<Figure size 432x288 with 1 Axes>"
      ]
     },
     "metadata": {
      "needs_background": "light"
     },
     "output_type": "display_data"
    }
   ],
   "source": [
    "sns.lineplot(x=\"Quarter\", y=\"No. of new customers\", data=customer_aq) \n",
    "plt.show()"
   ]
  }
 ],
 "metadata": {
  "kernelspec": {
   "display_name": "Python 3",
   "language": "python",
   "name": "python3"
  },
  "language_info": {
   "codemirror_mode": {
    "name": "ipython",
    "version": 3
   },
   "file_extension": ".py",
   "mimetype": "text/x-python",
   "name": "python",
   "nbconvert_exporter": "python",
   "pygments_lexer": "ipython3",
   "version": "3.7.4"
  }
 },
 "nbformat": 4,
 "nbformat_minor": 2
}
