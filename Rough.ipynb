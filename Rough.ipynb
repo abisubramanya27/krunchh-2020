{
 "cells": [
  {
   "cell_type": "code",
   "execution_count": 1,
   "metadata": {},
   "outputs": [],
   "source": [
    "import pandas as pd\n",
    "import numpy as np\n",
    "import matplotlib.pyplot as plt"
   ]
  },
  {
   "cell_type": "code",
   "execution_count": 6,
   "metadata": {},
   "outputs": [
    {
     "data": {
      "text/html": [
       "<div>\n",
       "<style scoped>\n",
       "    .dataframe tbody tr th:only-of-type {\n",
       "        vertical-align: middle;\n",
       "    }\n",
       "\n",
       "    .dataframe tbody tr th {\n",
       "        vertical-align: top;\n",
       "    }\n",
       "\n",
       "    .dataframe thead th {\n",
       "        text-align: right;\n",
       "    }\n",
       "</style>\n",
       "<table border=\"1\" class=\"dataframe\">\n",
       "  <thead>\n",
       "    <tr style=\"text-align: right;\">\n",
       "      <th></th>\n",
       "      <th>Category</th>\n",
       "      <th>City</th>\n",
       "      <th>Country</th>\n",
       "      <th>Customer ID</th>\n",
       "      <th>Customer Name</th>\n",
       "      <th>Market</th>\n",
       "      <th>Order Date</th>\n",
       "      <th>Order ID</th>\n",
       "      <th>Order Priority</th>\n",
       "      <th>Product ID</th>\n",
       "      <th>...</th>\n",
       "      <th>Ship Date</th>\n",
       "      <th>Ship Mode</th>\n",
       "      <th>State</th>\n",
       "      <th>Sub-Category</th>\n",
       "      <th>Discount</th>\n",
       "      <th>Number of Records</th>\n",
       "      <th>Profit</th>\n",
       "      <th>Quantity</th>\n",
       "      <th>Sales</th>\n",
       "      <th>Shipping Cost</th>\n",
       "    </tr>\n",
       "  </thead>\n",
       "  <tbody>\n",
       "    <tr>\n",
       "      <th>0</th>\n",
       "      <td>Office Supplies</td>\n",
       "      <td>Budapest</td>\n",
       "      <td>Hungary</td>\n",
       "      <td>AT-7352</td>\n",
       "      <td>Annie Thurman</td>\n",
       "      <td>EMEA</td>\n",
       "      <td>01-01-2011</td>\n",
       "      <td>HU-2011-1220</td>\n",
       "      <td>High</td>\n",
       "      <td>OFF-TEN-10001585</td>\n",
       "      <td>...</td>\n",
       "      <td>05-01-2011</td>\n",
       "      <td>Second Class</td>\n",
       "      <td>Budapest</td>\n",
       "      <td>Storage</td>\n",
       "      <td>0.0</td>\n",
       "      <td>1</td>\n",
       "      <td>29.640</td>\n",
       "      <td>4</td>\n",
       "      <td>66</td>\n",
       "      <td>8.17</td>\n",
       "    </tr>\n",
       "    <tr>\n",
       "      <th>1</th>\n",
       "      <td>Office Supplies</td>\n",
       "      <td>Stockholm</td>\n",
       "      <td>Sweden</td>\n",
       "      <td>EM-141402</td>\n",
       "      <td>Eugene Moren</td>\n",
       "      <td>EU</td>\n",
       "      <td>01-01-2011</td>\n",
       "      <td>IT-2011-3647632</td>\n",
       "      <td>High</td>\n",
       "      <td>OFF-PA-10001492</td>\n",
       "      <td>...</td>\n",
       "      <td>05-01-2011</td>\n",
       "      <td>Second Class</td>\n",
       "      <td>Stockholm</td>\n",
       "      <td>Paper</td>\n",
       "      <td>0.5</td>\n",
       "      <td>1</td>\n",
       "      <td>-26.055</td>\n",
       "      <td>3</td>\n",
       "      <td>45</td>\n",
       "      <td>4.82</td>\n",
       "    </tr>\n",
       "    <tr>\n",
       "      <th>2</th>\n",
       "      <td>Office Supplies</td>\n",
       "      <td>Constantine</td>\n",
       "      <td>Algeria</td>\n",
       "      <td>TB-112801</td>\n",
       "      <td>Toby Braunhardt</td>\n",
       "      <td>Africa</td>\n",
       "      <td>01-01-2011</td>\n",
       "      <td>AG-2011-2040</td>\n",
       "      <td>Medium</td>\n",
       "      <td>OFF-TEN-10000025</td>\n",
       "      <td>...</td>\n",
       "      <td>06-01-2011</td>\n",
       "      <td>Standard Class</td>\n",
       "      <td>Constantine</td>\n",
       "      <td>Storage</td>\n",
       "      <td>0.0</td>\n",
       "      <td>1</td>\n",
       "      <td>106.140</td>\n",
       "      <td>2</td>\n",
       "      <td>408</td>\n",
       "      <td>35.46</td>\n",
       "    </tr>\n",
       "    <tr>\n",
       "      <th>3</th>\n",
       "      <td>Furniture</td>\n",
       "      <td>Wagga Wagga</td>\n",
       "      <td>Australia</td>\n",
       "      <td>JH-159851</td>\n",
       "      <td>Joseph Holt</td>\n",
       "      <td>APAC</td>\n",
       "      <td>01-01-2011</td>\n",
       "      <td>IN-2011-47883</td>\n",
       "      <td>Medium</td>\n",
       "      <td>FUR-FU-10003447</td>\n",
       "      <td>...</td>\n",
       "      <td>08-01-2011</td>\n",
       "      <td>Standard Class</td>\n",
       "      <td>New South Wales</td>\n",
       "      <td>Furnishings</td>\n",
       "      <td>0.1</td>\n",
       "      <td>1</td>\n",
       "      <td>37.770</td>\n",
       "      <td>5</td>\n",
       "      <td>114</td>\n",
       "      <td>4.70</td>\n",
       "    </tr>\n",
       "    <tr>\n",
       "      <th>4</th>\n",
       "      <td>Office Supplies</td>\n",
       "      <td>Wagga Wagga</td>\n",
       "      <td>Australia</td>\n",
       "      <td>JH-159851</td>\n",
       "      <td>Joseph Holt</td>\n",
       "      <td>APAC</td>\n",
       "      <td>01-01-2011</td>\n",
       "      <td>IN-2011-47883</td>\n",
       "      <td>Medium</td>\n",
       "      <td>OFF-PA-10001968</td>\n",
       "      <td>...</td>\n",
       "      <td>08-01-2011</td>\n",
       "      <td>Standard Class</td>\n",
       "      <td>New South Wales</td>\n",
       "      <td>Paper</td>\n",
       "      <td>0.1</td>\n",
       "      <td>1</td>\n",
       "      <td>15.342</td>\n",
       "      <td>2</td>\n",
       "      <td>55</td>\n",
       "      <td>1.80</td>\n",
       "    </tr>\n",
       "  </tbody>\n",
       "</table>\n",
       "<p>5 rows × 24 columns</p>\n",
       "</div>"
      ],
      "text/plain": [
       "          Category         City    Country Customer ID    Customer Name  \\\n",
       "0  Office Supplies     Budapest    Hungary     AT-7352    Annie Thurman   \n",
       "1  Office Supplies    Stockholm     Sweden   EM-141402     Eugene Moren   \n",
       "2  Office Supplies  Constantine    Algeria   TB-112801  Toby Braunhardt   \n",
       "3        Furniture  Wagga Wagga  Australia   JH-159851      Joseph Holt   \n",
       "4  Office Supplies  Wagga Wagga  Australia   JH-159851      Joseph Holt   \n",
       "\n",
       "   Market  Order Date         Order ID Order Priority        Product ID  ...  \\\n",
       "0    EMEA  01-01-2011     HU-2011-1220           High  OFF-TEN-10001585  ...   \n",
       "1      EU  01-01-2011  IT-2011-3647632           High   OFF-PA-10001492  ...   \n",
       "2  Africa  01-01-2011     AG-2011-2040         Medium  OFF-TEN-10000025  ...   \n",
       "3    APAC  01-01-2011    IN-2011-47883         Medium   FUR-FU-10003447  ...   \n",
       "4    APAC  01-01-2011    IN-2011-47883         Medium   OFF-PA-10001968  ...   \n",
       "\n",
       "    Ship Date       Ship Mode            State Sub-Category Discount  \\\n",
       "0  05-01-2011    Second Class         Budapest      Storage      0.0   \n",
       "1  05-01-2011    Second Class        Stockholm        Paper      0.5   \n",
       "2  06-01-2011  Standard Class      Constantine      Storage      0.0   \n",
       "3  08-01-2011  Standard Class  New South Wales  Furnishings      0.1   \n",
       "4  08-01-2011  Standard Class  New South Wales        Paper      0.1   \n",
       "\n",
       "  Number of Records   Profit Quantity  Sales  Shipping Cost  \n",
       "0                 1   29.640        4     66           8.17  \n",
       "1                 1  -26.055        3     45           4.82  \n",
       "2                 1  106.140        2    408          35.46  \n",
       "3                 1   37.770        5    114           4.70  \n",
       "4                 1   15.342        2     55           1.80  \n",
       "\n",
       "[5 rows x 24 columns]"
      ]
     },
     "execution_count": 6,
     "metadata": {},
     "output_type": "execute_result"
    }
   ],
   "source": [
    "df = pd.read_csv('Dataset.csv')\n",
    "df['Sales'] = df['Sales'].str.replace(',','')\n",
    "df['Sales'] = np.asarray(df['Sales'],dtype='float')\n",
    "df.head()"
   ]
  },
  {
   "cell_type": "code",
   "execution_count": 10,
   "metadata": {},
   "outputs": [
    {
     "data": {
      "text/plain": [
       "3788"
      ]
     },
     "execution_count": 10,
     "metadata": {},
     "output_type": "execute_result"
    }
   ],
   "source": [
    "df['Product Name'].nunique()"
   ]
  },
  {
   "cell_type": "code",
   "execution_count": 13,
   "metadata": {},
   "outputs": [
    {
     "data": {
      "text/plain": [
       "Index(['Category', 'City', 'Country', 'Customer ID', 'Customer Name', 'Market',\n",
       "       'Order Date', 'Order ID', 'Order Priority', 'Product ID',\n",
       "       'Product Name', 'Region', 'Row ID', 'Segment', 'Ship Date', 'Ship Mode',\n",
       "       'State', 'Sub-Category', 'Discount', 'Number of Records', 'Profit',\n",
       "       'Quantity', 'Sales', 'Shipping Cost'],\n",
       "      dtype='object')"
      ]
     },
     "execution_count": 13,
     "metadata": {},
     "output_type": "execute_result"
    }
   ],
   "source": [
    "df.columns"
   ]
  },
  {
   "cell_type": "code",
   "execution_count": 2,
   "metadata": {},
   "outputs": [
    {
     "data": {
      "text/html": [
       "<div>\n",
       "<style scoped>\n",
       "    .dataframe tbody tr th:only-of-type {\n",
       "        vertical-align: middle;\n",
       "    }\n",
       "\n",
       "    .dataframe tbody tr th {\n",
       "        vertical-align: top;\n",
       "    }\n",
       "\n",
       "    .dataframe thead th {\n",
       "        text-align: right;\n",
       "    }\n",
       "</style>\n",
       "<table border=\"1\" class=\"dataframe\">\n",
       "  <thead>\n",
       "    <tr style=\"text-align: right;\">\n",
       "      <th></th>\n",
       "      <th>YOJ</th>\n",
       "      <th>Discount</th>\n",
       "      <th>Sales</th>\n",
       "      <th>Profit</th>\n",
       "      <th>Recency</th>\n",
       "      <th>Monetary</th>\n",
       "      <th>Frequency</th>\n",
       "      <th>RFM</th>\n",
       "    </tr>\n",
       "  </thead>\n",
       "  <tbody>\n",
       "    <tr>\n",
       "      <th>0</th>\n",
       "      <td>2011</td>\n",
       "      <td>0.142203</td>\n",
       "      <td>232.712907</td>\n",
       "      <td>27.894900</td>\n",
       "      <td>2.731001</td>\n",
       "      <td>2.962606</td>\n",
       "      <td>2.493366</td>\n",
       "      <td>2.728991</td>\n",
       "    </tr>\n",
       "    <tr>\n",
       "      <th>1</th>\n",
       "      <td>2012</td>\n",
       "      <td>0.145503</td>\n",
       "      <td>241.071575</td>\n",
       "      <td>20.524100</td>\n",
       "      <td>2.734151</td>\n",
       "      <td>3.084867</td>\n",
       "      <td>2.890593</td>\n",
       "      <td>2.903204</td>\n",
       "    </tr>\n",
       "    <tr>\n",
       "      <th>2</th>\n",
       "      <td>2013</td>\n",
       "      <td>0.146173</td>\n",
       "      <td>233.201070</td>\n",
       "      <td>29.503265</td>\n",
       "      <td>2.712538</td>\n",
       "      <td>2.981651</td>\n",
       "      <td>2.983180</td>\n",
       "      <td>2.892457</td>\n",
       "    </tr>\n",
       "    <tr>\n",
       "      <th>3</th>\n",
       "      <td>2014</td>\n",
       "      <td>0.144557</td>\n",
       "      <td>240.499093</td>\n",
       "      <td>31.348733</td>\n",
       "      <td>3.391410</td>\n",
       "      <td>2.960073</td>\n",
       "      <td>3.293406</td>\n",
       "      <td>3.214963</td>\n",
       "    </tr>\n",
       "    <tr>\n",
       "      <th>4</th>\n",
       "      <td>2015</td>\n",
       "      <td>0.120286</td>\n",
       "      <td>215.723810</td>\n",
       "      <td>5.235923</td>\n",
       "      <td>5.000000</td>\n",
       "      <td>3.342857</td>\n",
       "      <td>3.590476</td>\n",
       "      <td>3.977778</td>\n",
       "    </tr>\n",
       "  </tbody>\n",
       "</table>\n",
       "</div>"
      ],
      "text/plain": [
       "    YOJ  Discount       Sales     Profit   Recency  Monetary  Frequency  \\\n",
       "0  2011  0.142203  232.712907  27.894900  2.731001  2.962606   2.493366   \n",
       "1  2012  0.145503  241.071575  20.524100  2.734151  3.084867   2.890593   \n",
       "2  2013  0.146173  233.201070  29.503265  2.712538  2.981651   2.983180   \n",
       "3  2014  0.144557  240.499093  31.348733  3.391410  2.960073   3.293406   \n",
       "4  2015  0.120286  215.723810   5.235923  5.000000  3.342857   3.590476   \n",
       "\n",
       "        RFM  \n",
       "0  2.728991  \n",
       "1  2.903204  \n",
       "2  2.892457  \n",
       "3  3.214963  \n",
       "4  3.977778  "
      ]
     },
     "execution_count": 2,
     "metadata": {},
     "output_type": "execute_result"
    }
   ],
   "source": [
    "co = pd.read_csv('Cohort_details.csv')\n",
    "co.head()"
   ]
  },
  {
   "cell_type": "code",
   "execution_count": 17,
   "metadata": {},
   "outputs": [
    {
     "data": {
      "image/png": "[encoded data removed]",
      "text/plain": [
       "<Figure size 432x288 with 1 Axes>"
      ]
     },
     "metadata": {
      "needs_background": "light"
     },
     "output_type": "display_data"
    },
    {
     "data": {
      "text/plain": [
       "<Figure size 432x288 with 0 Axes>"
      ]
     },
     "metadata": {},
     "output_type": "display_data"
    }
   ],
   "source": [
    "plt.plot(co['YOJ'],co['Recency'],'bs',co['YOJ'],co['Monetary'],'ys',co['YOJ'],co['Frequency'],'gs',co['YOJ'],co['RFM'],'ro')\n",
    "plt.plot(co['YOJ'],co['Recency'],'b',co['YOJ'],co['Monetary'],'y',co['YOJ'],co['Frequency'],'g',co['YOJ'],co['RFM'],'r')\n",
    "plt.legend(['Recency','Monetary','Frequency','RFM'])\n",
    "plt.xticks([2011,2012,2013,2014,2015])\n",
    "plt.title('Cohort-wise mean RFM scores')\n",
    "plt.xlabel('Year')\n",
    "plt.ylabel('Score')\n",
    "plt.show()\n",
    "plt.savefig('cohort.png')"
   ]
  },
  {
   "cell_type": "code",
   "execution_count": 16,
   "metadata": {},
   "outputs": [
    {
     "data": {
      "image/png": "[encoded data removed]",
      "text/plain": [
       "<Figure size 432x288 with 1 Axes>"
      ]
     },
     "metadata": {
      "needs_background": "light"
     },
     "output_type": "display_data"
    },
    {
     "data": {
      "text/plain": [
       "<Figure size 432x288 with 0 Axes>"
      ]
     },
     "metadata": {},
     "output_type": "display_data"
    }
   ],
   "source": [
    "plt.plot(co['YOJ'],co['Sales'],'bs',co['YOJ'],co['Profit'],'ys',co['YOJ'],co['Discount'],'gs')\n",
    "plt.plot(co['YOJ'],co['Sales'],'b',co['YOJ'],co['Profit'],'y',co['YOJ'],co['Discount'],'g')\n",
    "plt.legend(['Sales','Profit','Discount'])\n",
    "plt.xticks([2011,2012,2013,2014,2015])\n",
    "plt.title('Mean Sales-Profit-Discount')\n",
    "plt.xlabel('Year')\n",
    "plt.ylabel('Amount')\n",
    "plt.show()\n",
    "plt.savefig('cohort.png')"
   ]
  },
  {
   "cell_type": "code",
   "execution_count": 12,
   "metadata": {},
   "outputs": [
    {
     "data": {
      "text/plain": [
       "Text(0, 0.5, 'Amount')"
      ]
     },
     "execution_count": 12,
     "metadata": {},
     "output_type": "execute_result"
    },
    {
     "data": {
      "image/png": "[encoded data removed]",
      "text/plain": [
       "<Figure size 432x288 with 1 Axes>"
      ]
     },
     "metadata": {
      "needs_background": "light"
     },
     "output_type": "display_data"
    }
   ],
   "source": [
    "plt.plot(co['YOJ'],co['Sales'],'bs',co['YOJ'],co['Sales'],'b')\n",
    "plt.xticks([2011,2012,2013,2014,2015])\n",
    "plt.title('Mean Sales')\n",
    "plt.xlabel('Year')\n",
    "plt.ylabel('Amount')"
   ]
  },
  {
   "cell_type": "code",
   "execution_count": null,
   "metadata": {},
   "outputs": [],
   "source": [
    "plt.plot(co['YOJ'],co['Profit'],'ys',co['YOJ'],co['Discount'],'gs')\n",
    "plt.plot(co['YOJ'],co['Profit'],'y',co['YOJ'],co['Discount'],'g')\n",
    "plt.legend(['Profit','Discount'])\n",
    "plt.xticks([2011,2012,2013,2014,2015])\n",
    "plt.title('Mean Profit and Mean Discount')\n",
    "plt.xlabel('Year')\n",
    "plt.ylabel('Amount')\n",
    "plt.show()\n",
    "plt.savefig('cohort.png')"
   ]
  },
  {
   "cell_type": "code",
   "execution_count": 3,
   "metadata": {},
   "outputs": [
    {
     "data": {
      "text/html": [
       "<div>\n",
       "<style scoped>\n",
       "    .dataframe tbody tr th:only-of-type {\n",
       "        vertical-align: middle;\n",
       "    }\n",
       "\n",
       "    .dataframe tbody tr th {\n",
       "        vertical-align: top;\n",
       "    }\n",
       "\n",
       "    .dataframe thead th {\n",
       "        text-align: right;\n",
       "    }\n",
       "</style>\n",
       "<table border=\"1\" class=\"dataframe\">\n",
       "  <thead>\n",
       "    <tr style=\"text-align: right;\">\n",
       "      <th></th>\n",
       "      <th>Category</th>\n",
       "      <th>City</th>\n",
       "      <th>Country</th>\n",
       "      <th>Customer ID</th>\n",
       "      <th>Customer Name</th>\n",
       "      <th>Market</th>\n",
       "      <th>Order Date</th>\n",
       "      <th>Order ID</th>\n",
       "      <th>Order Priority</th>\n",
       "      <th>Product ID</th>\n",
       "      <th>...</th>\n",
       "      <th>Discount</th>\n",
       "      <th>Number of Records</th>\n",
       "      <th>Profit</th>\n",
       "      <th>Quantity</th>\n",
       "      <th>Sales</th>\n",
       "      <th>Shipping Cost</th>\n",
       "      <th>RFM</th>\n",
       "      <th>Monetary</th>\n",
       "      <th>Recency</th>\n",
       "      <th>Frequency</th>\n",
       "    </tr>\n",
       "  </thead>\n",
       "  <tbody>\n",
       "    <tr>\n",
       "      <th>0</th>\n",
       "      <td>Office Supplies</td>\n",
       "      <td>Budapest</td>\n",
       "      <td>Hungary</td>\n",
       "      <td>AT-7352</td>\n",
       "      <td>Annie Thurman</td>\n",
       "      <td>EMEA</td>\n",
       "      <td>01-01-2011</td>\n",
       "      <td>HU-2011-1220</td>\n",
       "      <td>High</td>\n",
       "      <td>OFF-TEN-10001585</td>\n",
       "      <td>...</td>\n",
       "      <td>0.0</td>\n",
       "      <td>1</td>\n",
       "      <td>29.640</td>\n",
       "      <td>4</td>\n",
       "      <td>66</td>\n",
       "      <td>8.17</td>\n",
       "      <td>2.000000</td>\n",
       "      <td>1</td>\n",
       "      <td>4</td>\n",
       "      <td>1</td>\n",
       "    </tr>\n",
       "    <tr>\n",
       "      <th>1</th>\n",
       "      <td>Office Supplies</td>\n",
       "      <td>Stockholm</td>\n",
       "      <td>Sweden</td>\n",
       "      <td>EM-141402</td>\n",
       "      <td>Eugene Moren</td>\n",
       "      <td>EU</td>\n",
       "      <td>01-01-2011</td>\n",
       "      <td>IT-2011-3647632</td>\n",
       "      <td>High</td>\n",
       "      <td>OFF-PA-10001492</td>\n",
       "      <td>...</td>\n",
       "      <td>0.5</td>\n",
       "      <td>1</td>\n",
       "      <td>-26.055</td>\n",
       "      <td>3</td>\n",
       "      <td>45</td>\n",
       "      <td>4.82</td>\n",
       "      <td>1.666667</td>\n",
       "      <td>2</td>\n",
       "      <td>1</td>\n",
       "      <td>2</td>\n",
       "    </tr>\n",
       "    <tr>\n",
       "      <th>2</th>\n",
       "      <td>Office Supplies</td>\n",
       "      <td>Constantine</td>\n",
       "      <td>Algeria</td>\n",
       "      <td>TB-112801</td>\n",
       "      <td>Toby Braunhardt</td>\n",
       "      <td>Africa</td>\n",
       "      <td>01-01-2011</td>\n",
       "      <td>AG-2011-2040</td>\n",
       "      <td>Medium</td>\n",
       "      <td>OFF-TEN-10000025</td>\n",
       "      <td>...</td>\n",
       "      <td>0.0</td>\n",
       "      <td>1</td>\n",
       "      <td>106.140</td>\n",
       "      <td>2</td>\n",
       "      <td>408</td>\n",
       "      <td>35.46</td>\n",
       "      <td>1.333333</td>\n",
       "      <td>2</td>\n",
       "      <td>1</td>\n",
       "      <td>1</td>\n",
       "    </tr>\n",
       "    <tr>\n",
       "      <th>3</th>\n",
       "      <td>Furniture</td>\n",
       "      <td>Wagga Wagga</td>\n",
       "      <td>Australia</td>\n",
       "      <td>JH-159851</td>\n",
       "      <td>Joseph Holt</td>\n",
       "      <td>APAC</td>\n",
       "      <td>01-01-2011</td>\n",
       "      <td>IN-2011-47883</td>\n",
       "      <td>Medium</td>\n",
       "      <td>FUR-FU-10003447</td>\n",
       "      <td>...</td>\n",
       "      <td>0.1</td>\n",
       "      <td>1</td>\n",
       "      <td>37.770</td>\n",
       "      <td>5</td>\n",
       "      <td>114</td>\n",
       "      <td>4.70</td>\n",
       "      <td>4.666667</td>\n",
       "      <td>5</td>\n",
       "      <td>5</td>\n",
       "      <td>4</td>\n",
       "    </tr>\n",
       "    <tr>\n",
       "      <th>4</th>\n",
       "      <td>Office Supplies</td>\n",
       "      <td>Wagga Wagga</td>\n",
       "      <td>Australia</td>\n",
       "      <td>JH-159851</td>\n",
       "      <td>Joseph Holt</td>\n",
       "      <td>APAC</td>\n",
       "      <td>01-01-2011</td>\n",
       "      <td>IN-2011-47883</td>\n",
       "      <td>Medium</td>\n",
       "      <td>OFF-PA-10001968</td>\n",
       "      <td>...</td>\n",
       "      <td>0.1</td>\n",
       "      <td>1</td>\n",
       "      <td>15.342</td>\n",
       "      <td>2</td>\n",
       "      <td>55</td>\n",
       "      <td>1.80</td>\n",
       "      <td>4.666667</td>\n",
       "      <td>5</td>\n",
       "      <td>5</td>\n",
       "      <td>4</td>\n",
       "    </tr>\n",
       "  </tbody>\n",
       "</table>\n",
       "<p>5 rows × 28 columns</p>\n",
       "</div>"
      ],
      "text/plain": [
       "          Category         City    Country Customer ID    Customer Name  \\\n",
       "0  Office Supplies     Budapest    Hungary     AT-7352    Annie Thurman   \n",
       "1  Office Supplies    Stockholm     Sweden   EM-141402     Eugene Moren   \n",
       "2  Office Supplies  Constantine    Algeria   TB-112801  Toby Braunhardt   \n",
       "3        Furniture  Wagga Wagga  Australia   JH-159851      Joseph Holt   \n",
       "4  Office Supplies  Wagga Wagga  Australia   JH-159851      Joseph Holt   \n",
       "\n",
       "   Market  Order Date         Order ID Order Priority        Product ID  ...  \\\n",
       "0    EMEA  01-01-2011     HU-2011-1220           High  OFF-TEN-10001585  ...   \n",
       "1      EU  01-01-2011  IT-2011-3647632           High   OFF-PA-10001492  ...   \n",
       "2  Africa  01-01-2011     AG-2011-2040         Medium  OFF-TEN-10000025  ...   \n",
       "3    APAC  01-01-2011    IN-2011-47883         Medium   FUR-FU-10003447  ...   \n",
       "4    APAC  01-01-2011    IN-2011-47883         Medium   OFF-PA-10001968  ...   \n",
       "\n",
       "  Discount Number of Records   Profit Quantity Sales Shipping Cost       RFM  \\\n",
       "0      0.0                 1   29.640        4    66          8.17  2.000000   \n",
       "1      0.5                 1  -26.055        3    45          4.82  1.666667   \n",
       "2      0.0                 1  106.140        2   408         35.46  1.333333   \n",
       "3      0.1                 1   37.770        5   114          4.70  4.666667   \n",
       "4      0.1                 1   15.342        2    55          1.80  4.666667   \n",
       "\n",
       "  Monetary  Recency  Frequency  \n",
       "0        1        4          1  \n",
       "1        2        1          2  \n",
       "2        2        1          1  \n",
       "3        5        5          4  \n",
       "4        5        5          4  \n",
       "\n",
       "[5 rows x 28 columns]"
      ]
     },
     "execution_count": 3,
     "metadata": {},
     "output_type": "execute_result"
    }
   ],
   "source": [
    "RFM_scores = pd.read_csv('q6_RFM_ANALYSIS.csv')\n",
    "RFM_scores.index = RFM_scores['Customer ID']\n",
    "RFM_scores.drop(columns='Customer ID',inplace=True)\n",
    "series = RFM_scores['Overall Score'].loc[df['Customer ID']]\n",
    "df['RFM'] = np.asarray(series)\n",
    "df['Monetary'] = np.asarray(RFM_scores['Monetary Score'].loc[df['Customer ID']])\n",
    "df['Recency'] = np.asarray(RFM_scores['Recency Score'].loc[df['Customer ID']])\n",
    "df['Frequency'] = np.asarray(RFM_scores['Frequency Score'].loc[df['Customer ID']])\n",
    "df.head()"
   ]
  },
  {
   "cell_type": "code",
   "execution_count": 18,
   "metadata": {},
   "outputs": [
    {
     "data": {
      "text/plain": [
       "Index(['Category', 'City', 'Country', 'Customer ID', 'Customer Name', 'Market',\n",
       "       'Order Date', 'Order ID', 'Order Priority', 'Product ID',\n",
       "       'Product Name', 'Region', 'Row ID', 'Segment', 'Ship Date', 'Ship Mode',\n",
       "       'State', 'Sub-Category', 'Discount', 'Number of Records', 'Profit',\n",
       "       'Quantity', 'Sales', 'Shipping Cost', 'RFM', 'Monetary', 'Recency',\n",
       "       'Frequency'],\n",
       "      dtype='object')"
      ]
     },
     "execution_count": 18,
     "metadata": {},
     "output_type": "execute_result"
    }
   ],
   "source": [
    "df.columns"
   ]
  },
  {
   "cell_type": "code",
   "execution_count": 25,
   "metadata": {},
   "outputs": [],
   "source": [
    "df['Sales'] = df['Sales'].str.replace(',','')\n",
    "df['Sales'] = np.asarray(df['Sales'],dtype='float')"
   ]
  },
  {
   "cell_type": "code",
   "execution_count": 49,
   "metadata": {},
   "outputs": [
    {
     "data": {
      "text/html": [
       "<div>\n",
       "<style scoped>\n",
       "    .dataframe tbody tr th:only-of-type {\n",
       "        vertical-align: middle;\n",
       "    }\n",
       "\n",
       "    .dataframe tbody tr th {\n",
       "        vertical-align: top;\n",
       "    }\n",
       "\n",
       "    .dataframe thead th {\n",
       "        text-align: right;\n",
       "    }\n",
       "</style>\n",
       "<table border=\"1\" class=\"dataframe\">\n",
       "  <thead>\n",
       "    <tr style=\"text-align: right;\">\n",
       "      <th></th>\n",
       "      <th>Discount</th>\n",
       "    </tr>\n",
       "    <tr>\n",
       "      <th>Customer ID</th>\n",
       "      <th></th>\n",
       "    </tr>\n",
       "  </thead>\n",
       "  <tbody>\n",
       "    <tr>\n",
       "      <th>AA-103151</th>\n",
       "      <td>0.270000</td>\n",
       "    </tr>\n",
       "    <tr>\n",
       "      <th>AA-103152</th>\n",
       "      <td>0.040625</td>\n",
       "    </tr>\n",
       "    <tr>\n",
       "      <th>AA-103153</th>\n",
       "      <td>0.000000</td>\n",
       "    </tr>\n",
       "    <tr>\n",
       "      <th>AA-103154</th>\n",
       "      <td>0.090909</td>\n",
       "    </tr>\n",
       "    <tr>\n",
       "      <th>AA-103751</th>\n",
       "      <td>0.066667</td>\n",
       "    </tr>\n",
       "  </tbody>\n",
       "</table>\n",
       "</div>"
      ],
      "text/plain": [
       "             Discount\n",
       "Customer ID          \n",
       "AA-103151    0.270000\n",
       "AA-103152    0.040625\n",
       "AA-103153    0.000000\n",
       "AA-103154    0.090909\n",
       "AA-103751    0.066667"
      ]
     },
     "execution_count": 49,
     "metadata": {},
     "output_type": "execute_result"
    }
   ],
   "source": [
    "dM = df[['Customer ID','Discount']].groupby(['Customer ID']).mean('Discount')\n",
    "dM.head()"
   ]
  },
  {
   "cell_type": "code",
   "execution_count": 50,
   "metadata": {},
   "outputs": [
    {
     "data": {
      "text/html": [
       "<div>\n",
       "<style scoped>\n",
       "    .dataframe tbody tr th:only-of-type {\n",
       "        vertical-align: middle;\n",
       "    }\n",
       "\n",
       "    .dataframe tbody tr th {\n",
       "        vertical-align: top;\n",
       "    }\n",
       "\n",
       "    .dataframe thead th {\n",
       "        text-align: right;\n",
       "    }\n",
       "</style>\n",
       "<table border=\"1\" class=\"dataframe\">\n",
       "  <thead>\n",
       "    <tr style=\"text-align: right;\">\n",
       "      <th></th>\n",
       "      <th>Discount</th>\n",
       "      <th>RFM</th>\n",
       "      <th>FM</th>\n",
       "    </tr>\n",
       "    <tr>\n",
       "      <th>Customer ID</th>\n",
       "      <th></th>\n",
       "      <th></th>\n",
       "      <th></th>\n",
       "    </tr>\n",
       "  </thead>\n",
       "  <tbody>\n",
       "    <tr>\n",
       "      <th>AA-103151</th>\n",
       "      <td>0.270000</td>\n",
       "      <td>3.333333</td>\n",
       "      <td>2.5</td>\n",
       "    </tr>\n",
       "    <tr>\n",
       "      <th>AA-103152</th>\n",
       "      <td>0.040625</td>\n",
       "      <td>5.000000</td>\n",
       "      <td>5.0</td>\n",
       "    </tr>\n",
       "    <tr>\n",
       "      <th>AA-103153</th>\n",
       "      <td>0.000000</td>\n",
       "      <td>1.333333</td>\n",
       "      <td>1.5</td>\n",
       "    </tr>\n",
       "    <tr>\n",
       "      <th>AA-103154</th>\n",
       "      <td>0.090909</td>\n",
       "      <td>3.000000</td>\n",
       "      <td>3.5</td>\n",
       "    </tr>\n",
       "    <tr>\n",
       "      <th>AA-103751</th>\n",
       "      <td>0.066667</td>\n",
       "      <td>3.333333</td>\n",
       "      <td>2.5</td>\n",
       "    </tr>\n",
       "  </tbody>\n",
       "</table>\n",
       "</div>"
      ],
      "text/plain": [
       "             Discount       RFM   FM\n",
       "Customer ID                         \n",
       "AA-103151    0.270000  3.333333  2.5\n",
       "AA-103152    0.040625  5.000000  5.0\n",
       "AA-103153    0.000000  1.333333  1.5\n",
       "AA-103154    0.090909  3.000000  3.5\n",
       "AA-103751    0.066667  3.333333  2.5"
      ]
     },
     "execution_count": 50,
     "metadata": {},
     "output_type": "execute_result"
    }
   ],
   "source": [
    "dM['RFM'] = RFM_scores['Overall Score'].loc[dM.index]\n",
    "dM['FM'] = (RFM_scores['Monetary Score'].loc[dM.index]+RFM_scores['Frequency Score'].loc[dM.index])/2\n",
    "dM.head()"
   ]
  },
  {
   "cell_type": "code",
   "execution_count": 51,
   "metadata": {},
   "outputs": [
    {
     "data": {
      "text/plain": [
       "(4873, 3)"
      ]
     },
     "execution_count": 51,
     "metadata": {},
     "output_type": "execute_result"
    }
   ],
   "source": [
    "dM.shape"
   ]
  },
  {
   "cell_type": "code",
   "execution_count": 56,
   "metadata": {},
   "outputs": [
    {
     "data": {
      "text/plain": [
       "Text(0.5, 1.0, 'Mean Discount vs RFM')"
      ]
     },
     "execution_count": 56,
     "metadata": {},
     "output_type": "execute_result"
    },
    {
     "data": {
      "image/png": "[encoded data removed]",
      "text/plain": [
       "<Figure size 720x720 with 2 Axes>"
      ]
     },
     "metadata": {
      "needs_background": "light"
     },
     "output_type": "display_data"
    }
   ],
   "source": [
    "plt.figure(figsize=(10,10))\n",
    "plt.subplot(2,1,1)\n",
    "plt.plot(dM['Discount'],dM['FM'],'x')\n",
    "plt.title('Mean Discount vs FM')\n",
    "plt.subplot(2,1,2)\n",
    "plt.plot(dM['Discount'],dM['RFM'],'x')\n",
    "plt.title('Mean Discount vs RFM')"
   ]
  },
  {
   "cell_type": "markdown",
   "metadata": {},
   "source": [
    "<b>Conclusion</b>: Law of diminishing returns"
   ]
  },
  {
   "cell_type": "code",
   "execution_count": 58,
   "metadata": {},
   "outputs": [
    {
     "data": {
      "text/plain": [
       "(array([1711., 1126.,  891.,  526.,  273.,  121.,   66.,   51.,   67.,\n",
       "          41.]),\n",
       " array([0.  , 0.07, 0.14, 0.21, 0.28, 0.35, 0.42, 0.49, 0.56, 0.63, 0.7 ]),\n",
       " <BarContainer object of 10 artists>)"
      ]
     },
     "execution_count": 58,
     "metadata": {},
     "output_type": "execute_result"
    },
    {
     "data": {
      "image/png": "[encoded data removed]",
      "text/plain": [
       "<Figure size 432x288 with 1 Axes>"
      ]
     },
     "metadata": {
      "needs_background": "light"
     },
     "output_type": "display_data"
    }
   ],
   "source": [
    "plt.hist(dM['Discount'])"
   ]
  },
  {
   "cell_type": "code",
   "execution_count": 75,
   "metadata": {},
   "outputs": [
    {
     "data": {
      "text/html": [
       "<div>\n",
       "<style scoped>\n",
       "    .dataframe tbody tr th:only-of-type {\n",
       "        vertical-align: middle;\n",
       "    }\n",
       "\n",
       "    .dataframe tbody tr th {\n",
       "        vertical-align: top;\n",
       "    }\n",
       "\n",
       "    .dataframe thead th {\n",
       "        text-align: right;\n",
       "    }\n",
       "</style>\n",
       "<table border=\"1\" class=\"dataframe\">\n",
       "  <thead>\n",
       "    <tr style=\"text-align: right;\">\n",
       "      <th></th>\n",
       "      <th></th>\n",
       "      <th>Sales</th>\n",
       "    </tr>\n",
       "    <tr>\n",
       "      <th>Customer ID</th>\n",
       "      <th>Sub-Category</th>\n",
       "      <th></th>\n",
       "    </tr>\n",
       "  </thead>\n",
       "  <tbody>\n",
       "    <tr>\n",
       "      <th rowspan=\"8\" valign=\"top\">AA-103151</th>\n",
       "      <th>Accessories</th>\n",
       "      <td>29.0</td>\n",
       "    </tr>\n",
       "    <tr>\n",
       "      <th>Appliances</th>\n",
       "      <td>256.0</td>\n",
       "    </tr>\n",
       "    <tr>\n",
       "      <th>Binders</th>\n",
       "      <td>46.0</td>\n",
       "    </tr>\n",
       "    <tr>\n",
       "      <th>Bookcases</th>\n",
       "      <td>499.0</td>\n",
       "    </tr>\n",
       "    <tr>\n",
       "      <th>Furnishings</th>\n",
       "      <td>99.0</td>\n",
       "    </tr>\n",
       "    <tr>\n",
       "      <th>Labels</th>\n",
       "      <td>69.0</td>\n",
       "    </tr>\n",
       "    <tr>\n",
       "      <th>Machines</th>\n",
       "      <td>116.0</td>\n",
       "    </tr>\n",
       "    <tr>\n",
       "      <th>Supplies</th>\n",
       "      <td>331.0</td>\n",
       "    </tr>\n",
       "    <tr>\n",
       "      <th rowspan=\"2\" valign=\"top\">AA-103152</th>\n",
       "      <th>Art</th>\n",
       "      <td>287.0</td>\n",
       "    </tr>\n",
       "    <tr>\n",
       "      <th>Binders</th>\n",
       "      <td>111.0</td>\n",
       "    </tr>\n",
       "  </tbody>\n",
       "</table>\n",
       "</div>"
      ],
      "text/plain": [
       "                          Sales\n",
       "Customer ID Sub-Category       \n",
       "AA-103151   Accessories    29.0\n",
       "            Appliances    256.0\n",
       "            Binders        46.0\n",
       "            Bookcases     499.0\n",
       "            Furnishings    99.0\n",
       "            Labels         69.0\n",
       "            Machines      116.0\n",
       "            Supplies      331.0\n",
       "AA-103152   Art           287.0\n",
       "            Binders       111.0"
      ]
     },
     "execution_count": 75,
     "metadata": {},
     "output_type": "execute_result"
    }
   ],
   "source": [
    "dM = df[['Customer ID','Sales','Sub-Category']].groupby(['Customer ID','Sub-Category']).sum(['Sales'])\n",
    "dM.head(10)"
   ]
  },
  {
   "cell_type": "code",
   "execution_count": 83,
   "metadata": {},
   "outputs": [
    {
     "data": {
      "text/html": [
       "<div>\n",
       "<style scoped>\n",
       "    .dataframe tbody tr th:only-of-type {\n",
       "        vertical-align: middle;\n",
       "    }\n",
       "\n",
       "    .dataframe tbody tr th {\n",
       "        vertical-align: top;\n",
       "    }\n",
       "\n",
       "    .dataframe thead th {\n",
       "        text-align: right;\n",
       "    }\n",
       "</style>\n",
       "<table border=\"1\" class=\"dataframe\">\n",
       "  <thead>\n",
       "    <tr style=\"text-align: right;\">\n",
       "      <th></th>\n",
       "      <th>Sales</th>\n",
       "      <th>RFM</th>\n",
       "      <th>Frequency</th>\n",
       "    </tr>\n",
       "    <tr>\n",
       "      <th>Sub-Category</th>\n",
       "      <th></th>\n",
       "      <th></th>\n",
       "      <th></th>\n",
       "    </tr>\n",
       "  </thead>\n",
       "  <tbody>\n",
       "    <tr>\n",
       "      <th>Accessories</th>\n",
       "      <td>749307.0</td>\n",
       "      <td>11059.333333</td>\n",
       "      <td>11456</td>\n",
       "    </tr>\n",
       "    <tr>\n",
       "      <th>Appliances</th>\n",
       "      <td>1011081.0</td>\n",
       "      <td>6261.000000</td>\n",
       "      <td>6365</td>\n",
       "    </tr>\n",
       "    <tr>\n",
       "      <th>Art</th>\n",
       "      <td>372163.0</td>\n",
       "      <td>16670.666667</td>\n",
       "      <td>17329</td>\n",
       "    </tr>\n",
       "    <tr>\n",
       "      <th>Binders</th>\n",
       "      <td>461952.0</td>\n",
       "      <td>21480.666667</td>\n",
       "      <td>22477</td>\n",
       "    </tr>\n",
       "    <tr>\n",
       "      <th>Bookcases</th>\n",
       "      <td>1466559.0</td>\n",
       "      <td>8739.666667</td>\n",
       "      <td>8926</td>\n",
       "    </tr>\n",
       "  </tbody>\n",
       "</table>\n",
       "</div>"
      ],
      "text/plain": [
       "                  Sales           RFM  Frequency\n",
       "Sub-Category                                    \n",
       "Accessories    749307.0  11059.333333      11456\n",
       "Appliances    1011081.0   6261.000000       6365\n",
       "Art            372163.0  16670.666667      17329\n",
       "Binders        461952.0  21480.666667      22477\n",
       "Bookcases     1466559.0   8739.666667       8926"
      ]
     },
     "execution_count": 83,
     "metadata": {},
     "output_type": "execute_result"
    }
   ],
   "source": [
    "dM = df[['Customer ID','Sales','Sub-Category']].groupby(['Sub-Category']).sum(['Sales'])\n",
    "dM.head()"
   ]
  },
  {
   "cell_type": "code",
   "execution_count": 89,
   "metadata": {},
   "outputs": [
    {
     "data": {
      "text/html": [
       "<div>\n",
       "<style scoped>\n",
       "    .dataframe tbody tr th:only-of-type {\n",
       "        vertical-align: middle;\n",
       "    }\n",
       "\n",
       "    .dataframe tbody tr th {\n",
       "        vertical-align: top;\n",
       "    }\n",
       "\n",
       "    .dataframe thead th {\n",
       "        text-align: right;\n",
       "    }\n",
       "</style>\n",
       "<table border=\"1\" class=\"dataframe\">\n",
       "  <thead>\n",
       "    <tr style=\"text-align: right;\">\n",
       "      <th></th>\n",
       "      <th>Sales</th>\n",
       "      <th>RFM</th>\n",
       "      <th>Frequency</th>\n",
       "      <th>Monetary</th>\n",
       "    </tr>\n",
       "    <tr>\n",
       "      <th>Sub-Category</th>\n",
       "      <th></th>\n",
       "      <th></th>\n",
       "      <th></th>\n",
       "      <th></th>\n",
       "    </tr>\n",
       "  </thead>\n",
       "  <tbody>\n",
       "    <tr>\n",
       "      <th>Accessories</th>\n",
       "      <td>243.677073</td>\n",
       "      <td>3.596531</td>\n",
       "      <td>3.725528</td>\n",
       "      <td>3.686504</td>\n",
       "    </tr>\n",
       "    <tr>\n",
       "      <th>Appliances</th>\n",
       "      <td>576.114530</td>\n",
       "      <td>3.567521</td>\n",
       "      <td>3.626781</td>\n",
       "      <td>3.763533</td>\n",
       "    </tr>\n",
       "    <tr>\n",
       "      <th>Art</th>\n",
       "      <td>76.216056</td>\n",
       "      <td>3.414021</td>\n",
       "      <td>3.548843</td>\n",
       "      <td>3.428835</td>\n",
       "    </tr>\n",
       "    <tr>\n",
       "      <th>Binders</th>\n",
       "      <td>75.089727</td>\n",
       "      <td>3.491656</td>\n",
       "      <td>3.653609</td>\n",
       "      <td>3.500163</td>\n",
       "    </tr>\n",
       "    <tr>\n",
       "      <th>Bookcases</th>\n",
       "      <td>608.278308</td>\n",
       "      <td>3.624914</td>\n",
       "      <td>3.702198</td>\n",
       "      <td>3.889258</td>\n",
       "    </tr>\n",
       "  </tbody>\n",
       "</table>\n",
       "</div>"
      ],
      "text/plain": [
       "                   Sales       RFM  Frequency  Monetary\n",
       "Sub-Category                                           \n",
       "Accessories   243.677073  3.596531   3.725528  3.686504\n",
       "Appliances    576.114530  3.567521   3.626781  3.763533\n",
       "Art            76.216056  3.414021   3.548843  3.428835\n",
       "Binders        75.089727  3.491656   3.653609  3.500163\n",
       "Bookcases     608.278308  3.624914   3.702198  3.889258"
      ]
     },
     "execution_count": 89,
     "metadata": {},
     "output_type": "execute_result"
    }
   ],
   "source": [
    "new = df[['Customer ID','Sales','Sub-Category','RFM','Frequency','Monetary']].groupby(['Sub-Category']).mean(['Frequency','RFM'])\n",
    "new.head()"
   ]
  },
  {
   "cell_type": "code",
   "execution_count": null,
   "metadata": {},
   "outputs": [],
   "source": [
    "'RFM','Frequency','Monetary','Recency'"
   ]
  },
  {
   "cell_type": "code",
   "execution_count": 87,
   "metadata": {},
   "outputs": [
    {
     "data": {
      "text/html": [
       "<div>\n",
       "<style scoped>\n",
       "    .dataframe tbody tr th:only-of-type {\n",
       "        vertical-align: middle;\n",
       "    }\n",
       "\n",
       "    .dataframe tbody tr th {\n",
       "        vertical-align: top;\n",
       "    }\n",
       "\n",
       "    .dataframe thead th {\n",
       "        text-align: right;\n",
       "    }\n",
       "</style>\n",
       "<table border=\"1\" class=\"dataframe\">\n",
       "  <thead>\n",
       "    <tr style=\"text-align: right;\">\n",
       "      <th></th>\n",
       "      <th>Sales</th>\n",
       "      <th>RFM</th>\n",
       "      <th>Frequency</th>\n",
       "      <th>Monetary</th>\n",
       "      <th>Recency</th>\n",
       "    </tr>\n",
       "    <tr>\n",
       "      <th>Sub-Category</th>\n",
       "      <th></th>\n",
       "      <th></th>\n",
       "      <th></th>\n",
       "      <th></th>\n",
       "      <th></th>\n",
       "    </tr>\n",
       "  </thead>\n",
       "  <tbody>\n",
       "    <tr>\n",
       "      <th>Accessories</th>\n",
       "      <td>749307.0</td>\n",
       "      <td>3.596531</td>\n",
       "      <td>3.725528</td>\n",
       "      <td>3.686504</td>\n",
       "      <td>3.377561</td>\n",
       "    </tr>\n",
       "    <tr>\n",
       "      <th>Appliances</th>\n",
       "      <td>1011081.0</td>\n",
       "      <td>3.567521</td>\n",
       "      <td>3.626781</td>\n",
       "      <td>3.763533</td>\n",
       "      <td>3.312251</td>\n",
       "    </tr>\n",
       "    <tr>\n",
       "      <th>Art</th>\n",
       "      <td>372163.0</td>\n",
       "      <td>3.414021</td>\n",
       "      <td>3.548843</td>\n",
       "      <td>3.428835</td>\n",
       "      <td>3.264387</td>\n",
       "    </tr>\n",
       "    <tr>\n",
       "      <th>Binders</th>\n",
       "      <td>461952.0</td>\n",
       "      <td>3.491656</td>\n",
       "      <td>3.653609</td>\n",
       "      <td>3.500163</td>\n",
       "      <td>3.321196</td>\n",
       "    </tr>\n",
       "    <tr>\n",
       "      <th>Bookcases</th>\n",
       "      <td>1466559.0</td>\n",
       "      <td>3.624914</td>\n",
       "      <td>3.702198</td>\n",
       "      <td>3.889258</td>\n",
       "      <td>3.283285</td>\n",
       "    </tr>\n",
       "  </tbody>\n",
       "</table>\n",
       "</div>"
      ],
      "text/plain": [
       "                  Sales       RFM  Frequency  Monetary   Recency\n",
       "Sub-Category                                                    \n",
       "Accessories    749307.0  3.596531   3.725528  3.686504  3.377561\n",
       "Appliances    1011081.0  3.567521   3.626781  3.763533  3.312251\n",
       "Art            372163.0  3.414021   3.548843  3.428835  3.264387\n",
       "Binders        461952.0  3.491656   3.653609  3.500163  3.321196\n",
       "Bookcases     1466559.0  3.624914   3.702198  3.889258  3.283285"
      ]
     },
     "execution_count": 87,
     "metadata": {},
     "output_type": "execute_result"
    }
   ],
   "source": [
    "dM[new.columns]=new\n",
    "dM.head()"
   ]
  },
  {
   "cell_type": "code",
   "execution_count": 59,
   "metadata": {},
   "outputs": [
    {
     "data": {
      "text/plain": [
       "Text(0.5, 1.0, 'Mean Discount vs RFM')"
      ]
     },
     "execution_count": 59,
     "metadata": {},
     "output_type": "execute_result"
    },
    {
     "data": {
      "image/png": "[encoded data removed]",
      "text/plain": [
       "<Figure size 720x720 with 2 Axes>"
      ]
     },
     "metadata": {
      "needs_background": "light"
     },
     "output_type": "display_data"
    }
   ],
   "source": [
    "dM['RFM'] = RFM_scores['Overall Score'].loc[dM.index]\n",
    "dM['FM'] = (RFM_scores['Monetary Score'].loc[dM.index]+RFM_scores['Frequency Score'].loc[dM.index])/2\n",
    "plt.figure(figsize=(10,10))\n",
    "plt.subplot(2,1,1)\n",
    "plt.plot(dM['Discount'],dM['FM'],'x')\n",
    "plt.title('Mean Discount vs FM')\n",
    "plt.subplot(2,1,2)\n",
    "plt.plot(dM['Discount'],dM['RFM'],'x')\n",
    "plt.title('Mean Discount vs RFM')"
   ]
  },
  {
   "cell_type": "code",
   "execution_count": 62,
   "metadata": {},
   "outputs": [
    {
     "data": {
      "text/plain": [
       "array(['Storage', 'Paper', 'Furnishings', 'Supplies', 'Machines',\n",
       "       'Appliances', 'Labels', 'Tables', 'Bookcases', 'Chairs',\n",
       "       'Fasteners', 'Envelopes', 'Phones', 'Art', 'Accessories',\n",
       "       'Copiers', 'Binders'], dtype=object)"
      ]
     },
     "execution_count": 62,
     "metadata": {},
     "output_type": "execute_result"
    }
   ],
   "source": [
    "df['Sub-Category'].unique()"
   ]
  },
  {
   "cell_type": "code",
   "execution_count": 96,
   "metadata": {},
   "outputs": [
    {
     "data": {
      "text/plain": [
       "Sub-Category\n",
       "Accessories    159990.0\n",
       "Appliances     218559.0\n",
       "Art             67346.0\n",
       "Binders         99866.0\n",
       "Bookcases      327789.0\n",
       "Name: Sales, dtype: float64"
      ]
     },
     "execution_count": 96,
     "metadata": {},
     "output_type": "execute_result"
    }
   ],
   "source": [
    "d1.head()"
   ]
  },
  {
   "cell_type": "code",
   "execution_count": 136,
   "metadata": {},
   "outputs": [],
   "source": [
    "d1 = df.loc[df.RFM>=4].groupby('Sub-Category').sum('Sales')['Sales']\n",
    "d2 = df.loc[df.RFM>=4].groupby('Sub-Category').mean(['Shipping Cost','Profit'])[['Profit','Shipping Cost']]"
   ]
  },
  {
   "cell_type": "code",
   "execution_count": 137,
   "metadata": {},
   "outputs": [
    {
     "data": {
      "text/html": [
       "<div>\n",
       "<style scoped>\n",
       "    .dataframe tbody tr th:only-of-type {\n",
       "        vertical-align: middle;\n",
       "    }\n",
       "\n",
       "    .dataframe tbody tr th {\n",
       "        vertical-align: top;\n",
       "    }\n",
       "\n",
       "    .dataframe thead th {\n",
       "        text-align: right;\n",
       "    }\n",
       "</style>\n",
       "<table border=\"1\" class=\"dataframe\">\n",
       "  <thead>\n",
       "    <tr style=\"text-align: right;\">\n",
       "      <th></th>\n",
       "      <th>Total Sales</th>\n",
       "      <th>Mean Profit</th>\n",
       "      <th>Mean Shipping Cost</th>\n",
       "    </tr>\n",
       "    <tr>\n",
       "      <th>Sub-Category</th>\n",
       "      <th></th>\n",
       "      <th></th>\n",
       "      <th></th>\n",
       "    </tr>\n",
       "  </thead>\n",
       "  <tbody>\n",
       "    <tr>\n",
       "      <th>Labels</th>\n",
       "      <td>33294.0</td>\n",
       "      <td>5.837465</td>\n",
       "      <td>3.233727</td>\n",
       "    </tr>\n",
       "    <tr>\n",
       "      <th>Fasteners</th>\n",
       "      <td>38233.0</td>\n",
       "      <td>4.949099</td>\n",
       "      <td>3.947855</td>\n",
       "    </tr>\n",
       "    <tr>\n",
       "      <th>Envelopes</th>\n",
       "      <td>85135.0</td>\n",
       "      <td>14.521430</td>\n",
       "      <td>8.222533</td>\n",
       "    </tr>\n",
       "    <tr>\n",
       "      <th>Paper</th>\n",
       "      <td>113149.0</td>\n",
       "      <td>17.683376</td>\n",
       "      <td>7.800237</td>\n",
       "    </tr>\n",
       "    <tr>\n",
       "      <th>Supplies</th>\n",
       "      <td>129221.0</td>\n",
       "      <td>11.686698</td>\n",
       "      <td>11.461277</td>\n",
       "    </tr>\n",
       "    <tr>\n",
       "      <th>Art</th>\n",
       "      <td>170165.0</td>\n",
       "      <td>14.998197</td>\n",
       "      <td>9.536927</td>\n",
       "    </tr>\n",
       "    <tr>\n",
       "      <th>Furnishings</th>\n",
       "      <td>188918.0</td>\n",
       "      <td>18.557662</td>\n",
       "      <td>14.666901</td>\n",
       "    </tr>\n",
       "    <tr>\n",
       "      <th>Binders</th>\n",
       "      <td>234268.0</td>\n",
       "      <td>15.447730</td>\n",
       "      <td>9.387587</td>\n",
       "    </tr>\n",
       "    <tr>\n",
       "      <th>Accessories</th>\n",
       "      <td>365338.0</td>\n",
       "      <td>44.820958</td>\n",
       "      <td>27.634349</td>\n",
       "    </tr>\n",
       "    <tr>\n",
       "      <th>Machines</th>\n",
       "      <td>366091.0</td>\n",
       "      <td>68.146128</td>\n",
       "      <td>59.114014</td>\n",
       "    </tr>\n",
       "    <tr>\n",
       "      <th>Tables</th>\n",
       "      <td>422026.0</td>\n",
       "      <td>-89.469764</td>\n",
       "      <td>100.253873</td>\n",
       "    </tr>\n",
       "    <tr>\n",
       "      <th>Storage</th>\n",
       "      <td>537197.0</td>\n",
       "      <td>24.796847</td>\n",
       "      <td>26.656862</td>\n",
       "    </tr>\n",
       "    <tr>\n",
       "      <th>Appliances</th>\n",
       "      <td>545080.0</td>\n",
       "      <td>103.089499</td>\n",
       "      <td>74.323821</td>\n",
       "    </tr>\n",
       "    <tr>\n",
       "      <th>Copiers</th>\n",
       "      <td>790966.0</td>\n",
       "      <td>140.188977</td>\n",
       "      <td>78.022959</td>\n",
       "    </tr>\n",
       "    <tr>\n",
       "      <th>Bookcases</th>\n",
       "      <td>793007.0</td>\n",
       "      <td>89.714318</td>\n",
       "      <td>71.829396</td>\n",
       "    </tr>\n",
       "    <tr>\n",
       "      <th>Chairs</th>\n",
       "      <td>844020.0</td>\n",
       "      <td>58.536732</td>\n",
       "      <td>56.157628</td>\n",
       "    </tr>\n",
       "    <tr>\n",
       "      <th>Phones</th>\n",
       "      <td>927165.0</td>\n",
       "      <td>78.974720</td>\n",
       "      <td>63.413626</td>\n",
       "    </tr>\n",
       "  </tbody>\n",
       "</table>\n",
       "</div>"
      ],
      "text/plain": [
       "              Total Sales  Mean Profit  Mean Shipping Cost\n",
       "Sub-Category                                              \n",
       "Labels            33294.0     5.837465            3.233727\n",
       "Fasteners         38233.0     4.949099            3.947855\n",
       "Envelopes         85135.0    14.521430            8.222533\n",
       "Paper            113149.0    17.683376            7.800237\n",
       "Supplies         129221.0    11.686698           11.461277\n",
       "Art              170165.0    14.998197            9.536927\n",
       "Furnishings      188918.0    18.557662           14.666901\n",
       "Binders          234268.0    15.447730            9.387587\n",
       "Accessories      365338.0    44.820958           27.634349\n",
       "Machines         366091.0    68.146128           59.114014\n",
       "Tables           422026.0   -89.469764          100.253873\n",
       "Storage          537197.0    24.796847           26.656862\n",
       "Appliances       545080.0   103.089499           74.323821\n",
       "Copiers          790966.0   140.188977           78.022959\n",
       "Bookcases        793007.0    89.714318           71.829396\n",
       "Chairs           844020.0    58.536732           56.157628\n",
       "Phones           927165.0    78.974720           63.413626"
      ]
     },
     "execution_count": 137,
     "metadata": {},
     "output_type": "execute_result"
    }
   ],
   "source": [
    "new = pd.DataFrame()\n",
    "new['Total Sales'] = d1\n",
    "new[['Mean Profit','Mean Shipping Cost']] = d2[['Profit','Shipping Cost']]\n",
    "new.sort_values(by='Total Sales',inplace=True)\n",
    "new"
   ]
  },
  {
   "cell_type": "code",
   "execution_count": 138,
   "metadata": {},
   "outputs": [
    {
     "data": {
      "text/html": [
       "<div>\n",
       "<style scoped>\n",
       "    .dataframe tbody tr th:only-of-type {\n",
       "        vertical-align: middle;\n",
       "    }\n",
       "\n",
       "    .dataframe tbody tr th {\n",
       "        vertical-align: top;\n",
       "    }\n",
       "\n",
       "    .dataframe thead th {\n",
       "        text-align: right;\n",
       "    }\n",
       "</style>\n",
       "<table border=\"1\" class=\"dataframe\">\n",
       "  <thead>\n",
       "    <tr style=\"text-align: right;\">\n",
       "      <th></th>\n",
       "      <th>Total Sales</th>\n",
       "      <th>Mean Profit</th>\n",
       "      <th>Mean Shipping Cost</th>\n",
       "    </tr>\n",
       "    <tr>\n",
       "      <th>Sub-Category</th>\n",
       "      <th></th>\n",
       "      <th></th>\n",
       "      <th></th>\n",
       "    </tr>\n",
       "  </thead>\n",
       "  <tbody>\n",
       "    <tr>\n",
       "      <th>Labels</th>\n",
       "      <td>6902.0</td>\n",
       "      <td>4.956873</td>\n",
       "      <td>2.701778</td>\n",
       "    </tr>\n",
       "    <tr>\n",
       "      <th>Fasteners</th>\n",
       "      <td>8564.0</td>\n",
       "      <td>4.745413</td>\n",
       "      <td>3.276487</td>\n",
       "    </tr>\n",
       "    <tr>\n",
       "      <th>Envelopes</th>\n",
       "      <td>12247.0</td>\n",
       "      <td>9.398160</td>\n",
       "      <td>6.200844</td>\n",
       "    </tr>\n",
       "    <tr>\n",
       "      <th>Supplies</th>\n",
       "      <td>17564.0</td>\n",
       "      <td>4.418555</td>\n",
       "      <td>7.731913</td>\n",
       "    </tr>\n",
       "    <tr>\n",
       "      <th>Paper</th>\n",
       "      <td>18095.0</td>\n",
       "      <td>11.293347</td>\n",
       "      <td>6.273490</td>\n",
       "    </tr>\n",
       "    <tr>\n",
       "      <th>Tables</th>\n",
       "      <td>29692.0</td>\n",
       "      <td>4.825986</td>\n",
       "      <td>76.923536</td>\n",
       "    </tr>\n",
       "    <tr>\n",
       "      <th>Furnishings</th>\n",
       "      <td>32338.0</td>\n",
       "      <td>3.702428</td>\n",
       "      <td>10.400003</td>\n",
       "    </tr>\n",
       "    <tr>\n",
       "      <th>Binders</th>\n",
       "      <td>33897.0</td>\n",
       "      <td>4.088856</td>\n",
       "      <td>4.797726</td>\n",
       "    </tr>\n",
       "    <tr>\n",
       "      <th>Art</th>\n",
       "      <td>40881.0</td>\n",
       "      <td>7.825503</td>\n",
       "      <td>7.133128</td>\n",
       "    </tr>\n",
       "    <tr>\n",
       "      <th>Machines</th>\n",
       "      <td>43826.0</td>\n",
       "      <td>-9.283979</td>\n",
       "      <td>28.275591</td>\n",
       "    </tr>\n",
       "    <tr>\n",
       "      <th>Accessories</th>\n",
       "      <td>47340.0</td>\n",
       "      <td>25.898290</td>\n",
       "      <td>18.437050</td>\n",
       "    </tr>\n",
       "    <tr>\n",
       "      <th>Appliances</th>\n",
       "      <td>62153.0</td>\n",
       "      <td>26.170782</td>\n",
       "      <td>36.790860</td>\n",
       "    </tr>\n",
       "    <tr>\n",
       "      <th>Chairs</th>\n",
       "      <td>65853.0</td>\n",
       "      <td>14.421646</td>\n",
       "      <td>31.429296</td>\n",
       "    </tr>\n",
       "    <tr>\n",
       "      <th>Copiers</th>\n",
       "      <td>75865.0</td>\n",
       "      <td>61.427466</td>\n",
       "      <td>52.282908</td>\n",
       "    </tr>\n",
       "    <tr>\n",
       "      <th>Bookcases</th>\n",
       "      <td>80499.0</td>\n",
       "      <td>-11.097360</td>\n",
       "      <td>44.213659</td>\n",
       "    </tr>\n",
       "    <tr>\n",
       "      <th>Phones</th>\n",
       "      <td>84972.0</td>\n",
       "      <td>27.568545</td>\n",
       "      <td>33.786759</td>\n",
       "    </tr>\n",
       "    <tr>\n",
       "      <th>Storage</th>\n",
       "      <td>100386.0</td>\n",
       "      <td>9.952853</td>\n",
       "      <td>16.940141</td>\n",
       "    </tr>\n",
       "  </tbody>\n",
       "</table>\n",
       "</div>"
      ],
      "text/plain": [
       "              Total Sales  Mean Profit  Mean Shipping Cost\n",
       "Sub-Category                                              \n",
       "Labels             6902.0     4.956873            2.701778\n",
       "Fasteners          8564.0     4.745413            3.276487\n",
       "Envelopes         12247.0     9.398160            6.200844\n",
       "Supplies          17564.0     4.418555            7.731913\n",
       "Paper             18095.0    11.293347            6.273490\n",
       "Tables            29692.0     4.825986           76.923536\n",
       "Furnishings       32338.0     3.702428           10.400003\n",
       "Binders           33897.0     4.088856            4.797726\n",
       "Art               40881.0     7.825503            7.133128\n",
       "Machines          43826.0    -9.283979           28.275591\n",
       "Accessories       47340.0    25.898290           18.437050\n",
       "Appliances        62153.0    26.170782           36.790860\n",
       "Chairs            65853.0    14.421646           31.429296\n",
       "Copiers           75865.0    61.427466           52.282908\n",
       "Bookcases         80499.0   -11.097360           44.213659\n",
       "Phones            84972.0    27.568545           33.786759\n",
       "Storage          100386.0     9.952853           16.940141"
      ]
     },
     "execution_count": 138,
     "metadata": {},
     "output_type": "execute_result"
    }
   ],
   "source": [
    "d1 = df.loc[df.RFM<=2].groupby('Sub-Category').sum('Sales')['Sales']\n",
    "d2 = df.loc[df.RFM<=2].groupby('Sub-Category').mean(['Shipping Cost','Profit'])[['Profit','Shipping Cost']]\n",
    "newb = pd.DataFrame()\n",
    "newb['Total Sales'] = d1\n",
    "newb[['Mean Profit','Mean Shipping Cost']] = d2[['Profit','Shipping Cost']]\n",
    "newb.sort_values(by='Total Sales',inplace=True)\n",
    "newb"
   ]
  },
  {
   "cell_type": "code",
   "execution_count": 139,
   "metadata": {},
   "outputs": [
    {
     "data": {
      "text/html": [
       "<div>\n",
       "<style scoped>\n",
       "    .dataframe tbody tr th:only-of-type {\n",
       "        vertical-align: middle;\n",
       "    }\n",
       "\n",
       "    .dataframe tbody tr th {\n",
       "        vertical-align: top;\n",
       "    }\n",
       "\n",
       "    .dataframe thead th {\n",
       "        text-align: right;\n",
       "    }\n",
       "</style>\n",
       "<table border=\"1\" class=\"dataframe\">\n",
       "  <thead>\n",
       "    <tr style=\"text-align: right;\">\n",
       "      <th></th>\n",
       "      <th>Total Sales</th>\n",
       "      <th>Mean Profit</th>\n",
       "      <th>Mean Shipping Cost</th>\n",
       "    </tr>\n",
       "    <tr>\n",
       "      <th>Sub-Category</th>\n",
       "      <th></th>\n",
       "      <th></th>\n",
       "      <th></th>\n",
       "    </tr>\n",
       "  </thead>\n",
       "  <tbody>\n",
       "    <tr>\n",
       "      <th>Labels</th>\n",
       "      <td>6902.0</td>\n",
       "      <td>4.956873</td>\n",
       "      <td>2.701778</td>\n",
       "    </tr>\n",
       "    <tr>\n",
       "      <th>Fasteners</th>\n",
       "      <td>8564.0</td>\n",
       "      <td>4.745413</td>\n",
       "      <td>3.276487</td>\n",
       "    </tr>\n",
       "    <tr>\n",
       "      <th>Envelopes</th>\n",
       "      <td>12247.0</td>\n",
       "      <td>9.398160</td>\n",
       "      <td>6.200844</td>\n",
       "    </tr>\n",
       "    <tr>\n",
       "      <th>Supplies</th>\n",
       "      <td>17564.0</td>\n",
       "      <td>4.418555</td>\n",
       "      <td>7.731913</td>\n",
       "    </tr>\n",
       "    <tr>\n",
       "      <th>Paper</th>\n",
       "      <td>18095.0</td>\n",
       "      <td>11.293347</td>\n",
       "      <td>6.273490</td>\n",
       "    </tr>\n",
       "    <tr>\n",
       "      <th>Tables</th>\n",
       "      <td>29692.0</td>\n",
       "      <td>4.825986</td>\n",
       "      <td>76.923536</td>\n",
       "    </tr>\n",
       "    <tr>\n",
       "      <th>Furnishings</th>\n",
       "      <td>32338.0</td>\n",
       "      <td>3.702428</td>\n",
       "      <td>10.400003</td>\n",
       "    </tr>\n",
       "    <tr>\n",
       "      <th>Binders</th>\n",
       "      <td>33897.0</td>\n",
       "      <td>4.088856</td>\n",
       "      <td>4.797726</td>\n",
       "    </tr>\n",
       "    <tr>\n",
       "      <th>Art</th>\n",
       "      <td>40881.0</td>\n",
       "      <td>7.825503</td>\n",
       "      <td>7.133128</td>\n",
       "    </tr>\n",
       "    <tr>\n",
       "      <th>Machines</th>\n",
       "      <td>43826.0</td>\n",
       "      <td>-9.283979</td>\n",
       "      <td>28.275591</td>\n",
       "    </tr>\n",
       "    <tr>\n",
       "      <th>Accessories</th>\n",
       "      <td>47340.0</td>\n",
       "      <td>25.898290</td>\n",
       "      <td>18.437050</td>\n",
       "    </tr>\n",
       "    <tr>\n",
       "      <th>Appliances</th>\n",
       "      <td>62153.0</td>\n",
       "      <td>26.170782</td>\n",
       "      <td>36.790860</td>\n",
       "    </tr>\n",
       "    <tr>\n",
       "      <th>Chairs</th>\n",
       "      <td>65853.0</td>\n",
       "      <td>14.421646</td>\n",
       "      <td>31.429296</td>\n",
       "    </tr>\n",
       "    <tr>\n",
       "      <th>Copiers</th>\n",
       "      <td>75865.0</td>\n",
       "      <td>61.427466</td>\n",
       "      <td>52.282908</td>\n",
       "    </tr>\n",
       "    <tr>\n",
       "      <th>Bookcases</th>\n",
       "      <td>80499.0</td>\n",
       "      <td>-11.097360</td>\n",
       "      <td>44.213659</td>\n",
       "    </tr>\n",
       "    <tr>\n",
       "      <th>Phones</th>\n",
       "      <td>84972.0</td>\n",
       "      <td>27.568545</td>\n",
       "      <td>33.786759</td>\n",
       "    </tr>\n",
       "    <tr>\n",
       "      <th>Storage</th>\n",
       "      <td>100386.0</td>\n",
       "      <td>9.952853</td>\n",
       "      <td>16.940141</td>\n",
       "    </tr>\n",
       "  </tbody>\n",
       "</table>\n",
       "</div>"
      ],
      "text/plain": [
       "              Total Sales  Mean Profit  Mean Shipping Cost\n",
       "Sub-Category                                              \n",
       "Labels             6902.0     4.956873            2.701778\n",
       "Fasteners          8564.0     4.745413            3.276487\n",
       "Envelopes         12247.0     9.398160            6.200844\n",
       "Supplies          17564.0     4.418555            7.731913\n",
       "Paper             18095.0    11.293347            6.273490\n",
       "Tables            29692.0     4.825986           76.923536\n",
       "Furnishings       32338.0     3.702428           10.400003\n",
       "Binders           33897.0     4.088856            4.797726\n",
       "Art               40881.0     7.825503            7.133128\n",
       "Machines          43826.0    -9.283979           28.275591\n",
       "Accessories       47340.0    25.898290           18.437050\n",
       "Appliances        62153.0    26.170782           36.790860\n",
       "Chairs            65853.0    14.421646           31.429296\n",
       "Copiers           75865.0    61.427466           52.282908\n",
       "Bookcases         80499.0   -11.097360           44.213659\n",
       "Phones            84972.0    27.568545           33.786759\n",
       "Storage          100386.0     9.952853           16.940141"
      ]
     },
     "execution_count": 139,
     "metadata": {},
     "output_type": "execute_result"
    }
   ],
   "source": [
    "newb.sort_values(by='Total Sales',inplace=True)\n",
    "newb"
   ]
  },
  {
   "cell_type": "code",
   "execution_count": 122,
   "metadata": {},
   "outputs": [
    {
     "data": {
      "text/html": [
       "<div>\n",
       "<style scoped>\n",
       "    .dataframe tbody tr th:only-of-type {\n",
       "        vertical-align: middle;\n",
       "    }\n",
       "\n",
       "    .dataframe tbody tr th {\n",
       "        vertical-align: top;\n",
       "    }\n",
       "\n",
       "    .dataframe thead th {\n",
       "        text-align: right;\n",
       "    }\n",
       "</style>\n",
       "<table border=\"1\" class=\"dataframe\">\n",
       "  <thead>\n",
       "    <tr style=\"text-align: right;\">\n",
       "      <th></th>\n",
       "      <th>Discount</th>\n",
       "      <th>Number of Records</th>\n",
       "      <th>Profit</th>\n",
       "      <th>Quantity</th>\n",
       "      <th>Sales</th>\n",
       "      <th>Mean Shipping Cost</th>\n",
       "      <th>Mean Profit</th>\n",
       "    </tr>\n",
       "    <tr>\n",
       "      <th>Sub-Category</th>\n",
       "      <th></th>\n",
       "      <th></th>\n",
       "      <th></th>\n",
       "      <th></th>\n",
       "      <th></th>\n",
       "      <th></th>\n",
       "      <th></th>\n",
       "    </tr>\n",
       "  </thead>\n",
       "  <tbody>\n",
       "    <tr>\n",
       "      <th>Phones</th>\n",
       "      <td>489.610</td>\n",
       "      <td>3357</td>\n",
       "      <td>216717.00580</td>\n",
       "      <td>11870</td>\n",
       "      <td>1706874.0</td>\n",
       "      <td>55.079682</td>\n",
       "      <td>64.556749</td>\n",
       "    </tr>\n",
       "    <tr>\n",
       "      <th>Copiers</th>\n",
       "      <td>260.418</td>\n",
       "      <td>2223</td>\n",
       "      <td>258567.54818</td>\n",
       "      <td>7454</td>\n",
       "      <td>1509439.0</td>\n",
       "      <td>71.748180</td>\n",
       "      <td>116.314687</td>\n",
       "    </tr>\n",
       "    <tr>\n",
       "      <th>Chairs</th>\n",
       "      <td>560.120</td>\n",
       "      <td>3434</td>\n",
       "      <td>140396.26750</td>\n",
       "      <td>12336</td>\n",
       "      <td>1501682.0</td>\n",
       "      <td>47.824506</td>\n",
       "      <td>40.884178</td>\n",
       "    </tr>\n",
       "    <tr>\n",
       "      <th>Bookcases</th>\n",
       "      <td>370.710</td>\n",
       "      <td>2411</td>\n",
       "      <td>161924.41950</td>\n",
       "      <td>8310</td>\n",
       "      <td>1466559.0</td>\n",
       "      <td>64.488580</td>\n",
       "      <td>67.160688</td>\n",
       "    </tr>\n",
       "    <tr>\n",
       "      <th>Storage</th>\n",
       "      <td>700.490</td>\n",
       "      <td>5059</td>\n",
       "      <td>108461.48980</td>\n",
       "      <td>16917</td>\n",
       "      <td>1127124.0</td>\n",
       "      <td>23.828036</td>\n",
       "      <td>21.439314</td>\n",
       "    </tr>\n",
       "    <tr>\n",
       "      <th>Appliances</th>\n",
       "      <td>248.700</td>\n",
       "      <td>1755</td>\n",
       "      <td>141680.58940</td>\n",
       "      <td>6078</td>\n",
       "      <td>1011081.0</td>\n",
       "      <td>61.709736</td>\n",
       "      <td>80.729681</td>\n",
       "    </tr>\n",
       "    <tr>\n",
       "      <th>Machines</th>\n",
       "      <td>252.000</td>\n",
       "      <td>1486</td>\n",
       "      <td>58867.87300</td>\n",
       "      <td>4906</td>\n",
       "      <td>779071.0</td>\n",
       "      <td>53.254272</td>\n",
       "      <td>39.614989</td>\n",
       "    </tr>\n",
       "    <tr>\n",
       "      <th>Tables</th>\n",
       "      <td>250.320</td>\n",
       "      <td>861</td>\n",
       "      <td>-64083.38870</td>\n",
       "      <td>3083</td>\n",
       "      <td>757034.0</td>\n",
       "      <td>92.754232</td>\n",
       "      <td>-74.429023</td>\n",
       "    </tr>\n",
       "    <tr>\n",
       "      <th>Accessories</th>\n",
       "      <td>370.480</td>\n",
       "      <td>3075</td>\n",
       "      <td>129626.30620</td>\n",
       "      <td>10946</td>\n",
       "      <td>749307.0</td>\n",
       "      <td>27.158808</td>\n",
       "      <td>42.154896</td>\n",
       "    </tr>\n",
       "    <tr>\n",
       "      <th>Binders</th>\n",
       "      <td>1102.480</td>\n",
       "      <td>6152</td>\n",
       "      <td>72449.84600</td>\n",
       "      <td>21429</td>\n",
       "      <td>461952.0</td>\n",
       "      <td>7.831878</td>\n",
       "      <td>11.776633</td>\n",
       "    </tr>\n",
       "    <tr>\n",
       "      <th>Furnishings</th>\n",
       "      <td>478.880</td>\n",
       "      <td>3170</td>\n",
       "      <td>46967.42550</td>\n",
       "      <td>11225</td>\n",
       "      <td>385609.0</td>\n",
       "      <td>12.853869</td>\n",
       "      <td>14.816223</td>\n",
       "    </tr>\n",
       "    <tr>\n",
       "      <th>Art</th>\n",
       "      <td>573.080</td>\n",
       "      <td>4883</td>\n",
       "      <td>57953.91090</td>\n",
       "      <td>16301</td>\n",
       "      <td>372163.0</td>\n",
       "      <td>8.455282</td>\n",
       "      <td>11.868505</td>\n",
       "    </tr>\n",
       "    <tr>\n",
       "      <th>Paper</th>\n",
       "      <td>387.300</td>\n",
       "      <td>3538</td>\n",
       "      <td>59207.68270</td>\n",
       "      <td>12822</td>\n",
       "      <td>244307.0</td>\n",
       "      <td>7.535570</td>\n",
       "      <td>16.734789</td>\n",
       "    </tr>\n",
       "    <tr>\n",
       "      <th>Supplies</th>\n",
       "      <td>310.200</td>\n",
       "      <td>2425</td>\n",
       "      <td>22583.26310</td>\n",
       "      <td>8543</td>\n",
       "      <td>243090.0</td>\n",
       "      <td>10.231558</td>\n",
       "      <td>9.312686</td>\n",
       "    </tr>\n",
       "    <tr>\n",
       "      <th>Envelopes</th>\n",
       "      <td>320.810</td>\n",
       "      <td>2435</td>\n",
       "      <td>29601.11630</td>\n",
       "      <td>8380</td>\n",
       "      <td>170926.0</td>\n",
       "      <td>7.617038</td>\n",
       "      <td>12.156516</td>\n",
       "    </tr>\n",
       "    <tr>\n",
       "      <th>Fasteners</th>\n",
       "      <td>340.240</td>\n",
       "      <td>2420</td>\n",
       "      <td>11525.42410</td>\n",
       "      <td>8390</td>\n",
       "      <td>83254.0</td>\n",
       "      <td>3.741049</td>\n",
       "      <td>4.762572</td>\n",
       "    </tr>\n",
       "    <tr>\n",
       "      <th>Labels</th>\n",
       "      <td>313.890</td>\n",
       "      <td>2606</td>\n",
       "      <td>15010.51200</td>\n",
       "      <td>9322</td>\n",
       "      <td>73433.0</td>\n",
       "      <td>3.092738</td>\n",
       "      <td>5.759982</td>\n",
       "    </tr>\n",
       "  </tbody>\n",
       "</table>\n",
       "</div>"
      ],
      "text/plain": [
       "              Discount  Number of Records        Profit  Quantity      Sales  \\\n",
       "Sub-Category                                                                   \n",
       "Phones         489.610               3357  216717.00580     11870  1706874.0   \n",
       "Copiers        260.418               2223  258567.54818      7454  1509439.0   \n",
       "Chairs         560.120               3434  140396.26750     12336  1501682.0   \n",
       "Bookcases      370.710               2411  161924.41950      8310  1466559.0   \n",
       "Storage        700.490               5059  108461.48980     16917  1127124.0   \n",
       "Appliances     248.700               1755  141680.58940      6078  1011081.0   \n",
       "Machines       252.000               1486   58867.87300      4906   779071.0   \n",
       "Tables         250.320                861  -64083.38870      3083   757034.0   \n",
       "Accessories    370.480               3075  129626.30620     10946   749307.0   \n",
       "Binders       1102.480               6152   72449.84600     21429   461952.0   \n",
       "Furnishings    478.880               3170   46967.42550     11225   385609.0   \n",
       "Art            573.080               4883   57953.91090     16301   372163.0   \n",
       "Paper          387.300               3538   59207.68270     12822   244307.0   \n",
       "Supplies       310.200               2425   22583.26310      8543   243090.0   \n",
       "Envelopes      320.810               2435   29601.11630      8380   170926.0   \n",
       "Fasteners      340.240               2420   11525.42410      8390    83254.0   \n",
       "Labels         313.890               2606   15010.51200      9322    73433.0   \n",
       "\n",
       "              Mean Shipping Cost  Mean Profit  \n",
       "Sub-Category                                   \n",
       "Phones                 55.079682    64.556749  \n",
       "Copiers                71.748180   116.314687  \n",
       "Chairs                 47.824506    40.884178  \n",
       "Bookcases              64.488580    67.160688  \n",
       "Storage                23.828036    21.439314  \n",
       "Appliances             61.709736    80.729681  \n",
       "Machines               53.254272    39.614989  \n",
       "Tables                 92.754232   -74.429023  \n",
       "Accessories            27.158808    42.154896  \n",
       "Binders                 7.831878    11.776633  \n",
       "Furnishings            12.853869    14.816223  \n",
       "Art                     8.455282    11.868505  \n",
       "Paper                   7.535570    16.734789  \n",
       "Supplies               10.231558     9.312686  \n",
       "Envelopes               7.617038    12.156516  \n",
       "Fasteners               3.741049     4.762572  \n",
       "Labels                  3.092738     5.759982  "
      ]
     },
     "execution_count": 122,
     "metadata": {},
     "output_type": "execute_result"
    }
   ],
   "source": [
    "d = df.groupby('Sub-Category').sum('Profits')\n",
    "d.drop(columns=['Row ID','RFM','Recency','Monetary','Frequency','Shipping Cost'],inplace=True)\n",
    "dq = df.groupby('Sub-Category').mean(['Shipping Cost','Discount'])\n",
    "d['Mean Shipping Cost'] = dq.loc[d.index]['Shipping Cost']\n",
    "d['Mean Profit'] = dq.loc[d.index]['Profit']\n",
    "d.sort_values(by='Sales',inplace=True,ascending=False)\n",
    "d"
   ]
  },
  {
   "cell_type": "code",
   "execution_count": 116,
   "metadata": {},
   "outputs": [
    {
     "data": {
      "text/html": [
       "<div>\n",
       "<style scoped>\n",
       "    .dataframe tbody tr th:only-of-type {\n",
       "        vertical-align: middle;\n",
       "    }\n",
       "\n",
       "    .dataframe tbody tr th {\n",
       "        vertical-align: top;\n",
       "    }\n",
       "\n",
       "    .dataframe thead th {\n",
       "        text-align: right;\n",
       "    }\n",
       "</style>\n",
       "<table border=\"1\" class=\"dataframe\">\n",
       "  <thead>\n",
       "    <tr style=\"text-align: right;\">\n",
       "      <th></th>\n",
       "      <th>Row ID</th>\n",
       "      <th>Discount</th>\n",
       "      <th>Number of Records</th>\n",
       "      <th>Profit</th>\n",
       "      <th>Quantity</th>\n",
       "      <th>Sales</th>\n",
       "      <th>Shipping Cost</th>\n",
       "      <th>RFM</th>\n",
       "      <th>Monetary</th>\n",
       "      <th>Recency</th>\n",
       "      <th>Frequency</th>\n",
       "    </tr>\n",
       "    <tr>\n",
       "      <th>Sub-Category</th>\n",
       "      <th></th>\n",
       "      <th></th>\n",
       "      <th></th>\n",
       "      <th></th>\n",
       "      <th></th>\n",
       "      <th></th>\n",
       "      <th></th>\n",
       "      <th></th>\n",
       "      <th></th>\n",
       "      <th></th>\n",
       "      <th></th>\n",
       "    </tr>\n",
       "  </thead>\n",
       "  <tbody>\n",
       "    <tr>\n",
       "      <th>Accessories</th>\n",
       "      <td>25799.323252</td>\n",
       "      <td>0.120481</td>\n",
       "      <td>1.0</td>\n",
       "      <td>42.154896</td>\n",
       "      <td>3.559675</td>\n",
       "      <td>243.677073</td>\n",
       "      <td>27.158808</td>\n",
       "      <td>3.596531</td>\n",
       "      <td>3.686504</td>\n",
       "      <td>3.377561</td>\n",
       "      <td>3.725528</td>\n",
       "    </tr>\n",
       "    <tr>\n",
       "      <th>Appliances</th>\n",
       "      <td>26639.120798</td>\n",
       "      <td>0.141709</td>\n",
       "      <td>1.0</td>\n",
       "      <td>80.729681</td>\n",
       "      <td>3.463248</td>\n",
       "      <td>576.114530</td>\n",
       "      <td>61.709736</td>\n",
       "      <td>3.567521</td>\n",
       "      <td>3.763533</td>\n",
       "      <td>3.312251</td>\n",
       "      <td>3.626781</td>\n",
       "    </tr>\n",
       "    <tr>\n",
       "      <th>Art</th>\n",
       "      <td>27586.600860</td>\n",
       "      <td>0.117362</td>\n",
       "      <td>1.0</td>\n",
       "      <td>11.868505</td>\n",
       "      <td>3.338317</td>\n",
       "      <td>76.216056</td>\n",
       "      <td>8.455282</td>\n",
       "      <td>3.414021</td>\n",
       "      <td>3.428835</td>\n",
       "      <td>3.264387</td>\n",
       "      <td>3.548843</td>\n",
       "    </tr>\n",
       "    <tr>\n",
       "      <th>Binders</th>\n",
       "      <td>27411.674090</td>\n",
       "      <td>0.179207</td>\n",
       "      <td>1.0</td>\n",
       "      <td>11.776633</td>\n",
       "      <td>3.483257</td>\n",
       "      <td>75.089727</td>\n",
       "      <td>7.831878</td>\n",
       "      <td>3.491656</td>\n",
       "      <td>3.500163</td>\n",
       "      <td>3.321196</td>\n",
       "      <td>3.653609</td>\n",
       "    </tr>\n",
       "    <tr>\n",
       "      <th>Bookcases</th>\n",
       "      <td>22741.763169</td>\n",
       "      <td>0.153758</td>\n",
       "      <td>1.0</td>\n",
       "      <td>67.160688</td>\n",
       "      <td>3.446703</td>\n",
       "      <td>608.278308</td>\n",
       "      <td>64.488580</td>\n",
       "      <td>3.624914</td>\n",
       "      <td>3.889258</td>\n",
       "      <td>3.283285</td>\n",
       "      <td>3.702198</td>\n",
       "    </tr>\n",
       "  </tbody>\n",
       "</table>\n",
       "</div>"
      ],
      "text/plain": [
       "                    Row ID  Discount  Number of Records     Profit  Quantity  \\\n",
       "Sub-Category                                                                   \n",
       "Accessories   25799.323252  0.120481                1.0  42.154896  3.559675   \n",
       "Appliances    26639.120798  0.141709                1.0  80.729681  3.463248   \n",
       "Art           27586.600860  0.117362                1.0  11.868505  3.338317   \n",
       "Binders       27411.674090  0.179207                1.0  11.776633  3.483257   \n",
       "Bookcases     22741.763169  0.153758                1.0  67.160688  3.446703   \n",
       "\n",
       "                   Sales  Shipping Cost       RFM  Monetary   Recency  \\\n",
       "Sub-Category                                                            \n",
       "Accessories   243.677073      27.158808  3.596531  3.686504  3.377561   \n",
       "Appliances    576.114530      61.709736  3.567521  3.763533  3.312251   \n",
       "Art            76.216056       8.455282  3.414021  3.428835  3.264387   \n",
       "Binders        75.089727       7.831878  3.491656  3.500163  3.321196   \n",
       "Bookcases     608.278308      64.488580  3.624914  3.889258  3.283285   \n",
       "\n",
       "              Frequency  \n",
       "Sub-Category             \n",
       "Accessories    3.725528  \n",
       "Appliances     3.626781  \n",
       "Art            3.548843  \n",
       "Binders        3.653609  \n",
       "Bookcases      3.702198  "
      ]
     },
     "execution_count": 116,
     "metadata": {},
     "output_type": "execute_result"
    }
   ],
   "source": [
    "dq = df.groupby('Sub-Category').mean(['Shipping Cost','Discount'])\n",
    "dq.head()"
   ]
  },
  {
   "cell_type": "code",
   "execution_count": 124,
   "metadata": {},
   "outputs": [],
   "source": [
    "d.to_csv('SubCat.csv')"
   ]
  },
  {
   "cell_type": "code",
   "execution_count": 155,
   "metadata": {},
   "outputs": [
    {
     "data": {
      "text/plain": [
       "Sub-Category\n",
       "Phones         216717.00580\n",
       "Copiers        258567.54818\n",
       "Chairs         140396.26750\n",
       "Bookcases      161924.41950\n",
       "Storage        108461.48980\n",
       "Appliances     141680.58940\n",
       "Machines        58867.87300\n",
       "Tables         -64083.38870\n",
       "Accessories    129626.30620\n",
       "Name: Profit, dtype: float64"
      ]
     },
     "execution_count": 155,
     "metadata": {},
     "output_type": "execute_result"
    }
   ],
   "source": [
    "d['Profit'].iloc[0:9]"
   ]
  },
  {
   "cell_type": "code",
   "execution_count": 158,
   "metadata": {},
   "outputs": [
    {
     "data": {
      "text/plain": [
       "Text(0, 0.5, 'Profits')"
      ]
     },
     "execution_count": 158,
     "metadata": {},
     "output_type": "execute_result"
    },
    {
     "data": {
      "image/png": "[encoded data removed]",
      "text/plain": [
       "<Figure size 1080x504 with 1 Axes>"
      ]
     },
     "metadata": {
      "needs_background": "light"
     },
     "output_type": "display_data"
    }
   ],
   "source": [
    "plt.figure(figsize=(15,7))\n",
    "plt.bar(d.index[0:9],d['Profit'].iloc[0:9],color=['g','g','g','g','g','g','g','r','g','g'])\n",
    "plt.title('Profits of top 10 sold items')\n",
    "plt.ylabel('Profits')"
   ]
  },
  {
   "cell_type": "code",
   "execution_count": 159,
   "metadata": {},
   "outputs": [
    {
     "data": {
      "text/plain": [
       "Sub-Category\n",
       "Phones         1706874.0\n",
       "Copiers        1509439.0\n",
       "Chairs         1501682.0\n",
       "Bookcases      1466559.0\n",
       "Storage        1127124.0\n",
       "Appliances     1011081.0\n",
       "Machines        779071.0\n",
       "Tables          757034.0\n",
       "Accessories     749307.0\n",
       "Binders         461952.0\n",
       "Furnishings     385609.0\n",
       "Art             372163.0\n",
       "Paper           244307.0\n",
       "Supplies        243090.0\n",
       "Envelopes       170926.0\n",
       "Fasteners        83254.0\n",
       "Labels           73433.0\n",
       "Name: Sales, dtype: float64"
      ]
     },
     "execution_count": 159,
     "metadata": {},
     "output_type": "execute_result"
    }
   ],
   "source": [
    "d['Sales']"
   ]
  },
  {
   "cell_type": "code",
   "execution_count": 131,
   "metadata": {},
   "outputs": [
    {
     "data": {
      "text/plain": [
       "3.0"
      ]
     },
     "execution_count": 131,
     "metadata": {},
     "output_type": "execute_result"
    },
    {
     "data": {
      "image/png": "[encoded data removed]",
      "text/plain": [
       "<Figure size 432x288 with 1 Axes>"
      ]
     },
     "metadata": {
      "needs_background": "light"
     },
     "output_type": "display_data"
    }
   ],
   "source": [
    "plt.hist(RFM_scores['Overall Score'])"
   ]
  },
  {
   "cell_type": "code",
   "execution_count": 135,
   "metadata": {},
   "outputs": [
    {
     "data": {
      "text/plain": [
       "0.25    2.0\n",
       "0.75    4.0\n",
       "Name: Overall Score, dtype: float64"
      ]
     },
     "execution_count": 135,
     "metadata": {},
     "output_type": "execute_result"
    }
   ],
   "source": [
    "RFM_scores['Overall Score'].quantile([0.25,0.75])"
   ]
  },
  {
   "cell_type": "code",
   "execution_count": 140,
   "metadata": {},
   "outputs": [],
   "source": [
    "new.to_csv('Top_trans.csv')\n",
    "newb.to_csv('bottom.csv')"
   ]
  },
  {
   "cell_type": "code",
   "execution_count": 141,
   "metadata": {},
   "outputs": [
    {
     "data": {
      "text/html": [
       "<div>\n",
       "<style scoped>\n",
       "    .dataframe tbody tr th:only-of-type {\n",
       "        vertical-align: middle;\n",
       "    }\n",
       "\n",
       "    .dataframe tbody tr th {\n",
       "        vertical-align: top;\n",
       "    }\n",
       "\n",
       "    .dataframe thead th {\n",
       "        text-align: right;\n",
       "    }\n",
       "</style>\n",
       "<table border=\"1\" class=\"dataframe\">\n",
       "  <thead>\n",
       "    <tr style=\"text-align: right;\">\n",
       "      <th></th>\n",
       "      <th>Total Sales</th>\n",
       "      <th>Mean Profit</th>\n",
       "      <th>Mean Shipping Cost</th>\n",
       "    </tr>\n",
       "    <tr>\n",
       "      <th>Sub-Category</th>\n",
       "      <th></th>\n",
       "      <th></th>\n",
       "      <th></th>\n",
       "    </tr>\n",
       "  </thead>\n",
       "  <tbody>\n",
       "    <tr>\n",
       "      <th>Labels</th>\n",
       "      <td>33294.0</td>\n",
       "      <td>5.837465</td>\n",
       "      <td>3.233727</td>\n",
       "    </tr>\n",
       "    <tr>\n",
       "      <th>Fasteners</th>\n",
       "      <td>38233.0</td>\n",
       "      <td>4.949099</td>\n",
       "      <td>3.947855</td>\n",
       "    </tr>\n",
       "    <tr>\n",
       "      <th>Envelopes</th>\n",
       "      <td>85135.0</td>\n",
       "      <td>14.521430</td>\n",
       "      <td>8.222533</td>\n",
       "    </tr>\n",
       "    <tr>\n",
       "      <th>Paper</th>\n",
       "      <td>113149.0</td>\n",
       "      <td>17.683376</td>\n",
       "      <td>7.800237</td>\n",
       "    </tr>\n",
       "    <tr>\n",
       "      <th>Supplies</th>\n",
       "      <td>129221.0</td>\n",
       "      <td>11.686698</td>\n",
       "      <td>11.461277</td>\n",
       "    </tr>\n",
       "    <tr>\n",
       "      <th>Art</th>\n",
       "      <td>170165.0</td>\n",
       "      <td>14.998197</td>\n",
       "      <td>9.536927</td>\n",
       "    </tr>\n",
       "    <tr>\n",
       "      <th>Furnishings</th>\n",
       "      <td>188918.0</td>\n",
       "      <td>18.557662</td>\n",
       "      <td>14.666901</td>\n",
       "    </tr>\n",
       "    <tr>\n",
       "      <th>Binders</th>\n",
       "      <td>234268.0</td>\n",
       "      <td>15.447730</td>\n",
       "      <td>9.387587</td>\n",
       "    </tr>\n",
       "    <tr>\n",
       "      <th>Accessories</th>\n",
       "      <td>365338.0</td>\n",
       "      <td>44.820958</td>\n",
       "      <td>27.634349</td>\n",
       "    </tr>\n",
       "    <tr>\n",
       "      <th>Machines</th>\n",
       "      <td>366091.0</td>\n",
       "      <td>68.146128</td>\n",
       "      <td>59.114014</td>\n",
       "    </tr>\n",
       "    <tr>\n",
       "      <th>Tables</th>\n",
       "      <td>422026.0</td>\n",
       "      <td>-89.469764</td>\n",
       "      <td>100.253873</td>\n",
       "    </tr>\n",
       "    <tr>\n",
       "      <th>Storage</th>\n",
       "      <td>537197.0</td>\n",
       "      <td>24.796847</td>\n",
       "      <td>26.656862</td>\n",
       "    </tr>\n",
       "    <tr>\n",
       "      <th>Appliances</th>\n",
       "      <td>545080.0</td>\n",
       "      <td>103.089499</td>\n",
       "      <td>74.323821</td>\n",
       "    </tr>\n",
       "    <tr>\n",
       "      <th>Copiers</th>\n",
       "      <td>790966.0</td>\n",
       "      <td>140.188977</td>\n",
       "      <td>78.022959</td>\n",
       "    </tr>\n",
       "    <tr>\n",
       "      <th>Bookcases</th>\n",
       "      <td>793007.0</td>\n",
       "      <td>89.714318</td>\n",
       "      <td>71.829396</td>\n",
       "    </tr>\n",
       "    <tr>\n",
       "      <th>Chairs</th>\n",
       "      <td>844020.0</td>\n",
       "      <td>58.536732</td>\n",
       "      <td>56.157628</td>\n",
       "    </tr>\n",
       "    <tr>\n",
       "      <th>Phones</th>\n",
       "      <td>927165.0</td>\n",
       "      <td>78.974720</td>\n",
       "      <td>63.413626</td>\n",
       "    </tr>\n",
       "  </tbody>\n",
       "</table>\n",
       "</div>"
      ],
      "text/plain": [
       "              Total Sales  Mean Profit  Mean Shipping Cost\n",
       "Sub-Category                                              \n",
       "Labels            33294.0     5.837465            3.233727\n",
       "Fasteners         38233.0     4.949099            3.947855\n",
       "Envelopes         85135.0    14.521430            8.222533\n",
       "Paper            113149.0    17.683376            7.800237\n",
       "Supplies         129221.0    11.686698           11.461277\n",
       "Art              170165.0    14.998197            9.536927\n",
       "Furnishings      188918.0    18.557662           14.666901\n",
       "Binders          234268.0    15.447730            9.387587\n",
       "Accessories      365338.0    44.820958           27.634349\n",
       "Machines         366091.0    68.146128           59.114014\n",
       "Tables           422026.0   -89.469764          100.253873\n",
       "Storage          537197.0    24.796847           26.656862\n",
       "Appliances       545080.0   103.089499           74.323821\n",
       "Copiers          790966.0   140.188977           78.022959\n",
       "Bookcases        793007.0    89.714318           71.829396\n",
       "Chairs           844020.0    58.536732           56.157628\n",
       "Phones           927165.0    78.974720           63.413626"
      ]
     },
     "execution_count": 141,
     "metadata": {},
     "output_type": "execute_result"
    }
   ],
   "source": [
    "new"
   ]
  },
  {
   "cell_type": "code",
   "execution_count": 142,
   "metadata": {},
   "outputs": [
    {
     "data": {
      "text/html": [
       "<div>\n",
       "<style scoped>\n",
       "    .dataframe tbody tr th:only-of-type {\n",
       "        vertical-align: middle;\n",
       "    }\n",
       "\n",
       "    .dataframe tbody tr th {\n",
       "        vertical-align: top;\n",
       "    }\n",
       "\n",
       "    .dataframe thead th {\n",
       "        text-align: right;\n",
       "    }\n",
       "</style>\n",
       "<table border=\"1\" class=\"dataframe\">\n",
       "  <thead>\n",
       "    <tr style=\"text-align: right;\">\n",
       "      <th></th>\n",
       "      <th>Total Sales</th>\n",
       "      <th>Mean Profit</th>\n",
       "      <th>Mean Shipping Cost</th>\n",
       "    </tr>\n",
       "    <tr>\n",
       "      <th>Sub-Category</th>\n",
       "      <th></th>\n",
       "      <th></th>\n",
       "      <th></th>\n",
       "    </tr>\n",
       "  </thead>\n",
       "  <tbody>\n",
       "    <tr>\n",
       "      <th>Labels</th>\n",
       "      <td>6902.0</td>\n",
       "      <td>4.956873</td>\n",
       "      <td>2.701778</td>\n",
       "    </tr>\n",
       "    <tr>\n",
       "      <th>Fasteners</th>\n",
       "      <td>8564.0</td>\n",
       "      <td>4.745413</td>\n",
       "      <td>3.276487</td>\n",
       "    </tr>\n",
       "    <tr>\n",
       "      <th>Envelopes</th>\n",
       "      <td>12247.0</td>\n",
       "      <td>9.398160</td>\n",
       "      <td>6.200844</td>\n",
       "    </tr>\n",
       "    <tr>\n",
       "      <th>Supplies</th>\n",
       "      <td>17564.0</td>\n",
       "      <td>4.418555</td>\n",
       "      <td>7.731913</td>\n",
       "    </tr>\n",
       "    <tr>\n",
       "      <th>Paper</th>\n",
       "      <td>18095.0</td>\n",
       "      <td>11.293347</td>\n",
       "      <td>6.273490</td>\n",
       "    </tr>\n",
       "    <tr>\n",
       "      <th>Tables</th>\n",
       "      <td>29692.0</td>\n",
       "      <td>4.825986</td>\n",
       "      <td>76.923536</td>\n",
       "    </tr>\n",
       "    <tr>\n",
       "      <th>Furnishings</th>\n",
       "      <td>32338.0</td>\n",
       "      <td>3.702428</td>\n",
       "      <td>10.400003</td>\n",
       "    </tr>\n",
       "    <tr>\n",
       "      <th>Binders</th>\n",
       "      <td>33897.0</td>\n",
       "      <td>4.088856</td>\n",
       "      <td>4.797726</td>\n",
       "    </tr>\n",
       "    <tr>\n",
       "      <th>Art</th>\n",
       "      <td>40881.0</td>\n",
       "      <td>7.825503</td>\n",
       "      <td>7.133128</td>\n",
       "    </tr>\n",
       "    <tr>\n",
       "      <th>Machines</th>\n",
       "      <td>43826.0</td>\n",
       "      <td>-9.283979</td>\n",
       "      <td>28.275591</td>\n",
       "    </tr>\n",
       "    <tr>\n",
       "      <th>Accessories</th>\n",
       "      <td>47340.0</td>\n",
       "      <td>25.898290</td>\n",
       "      <td>18.437050</td>\n",
       "    </tr>\n",
       "    <tr>\n",
       "      <th>Appliances</th>\n",
       "      <td>62153.0</td>\n",
       "      <td>26.170782</td>\n",
       "      <td>36.790860</td>\n",
       "    </tr>\n",
       "    <tr>\n",
       "      <th>Chairs</th>\n",
       "      <td>65853.0</td>\n",
       "      <td>14.421646</td>\n",
       "      <td>31.429296</td>\n",
       "    </tr>\n",
       "    <tr>\n",
       "      <th>Copiers</th>\n",
       "      <td>75865.0</td>\n",
       "      <td>61.427466</td>\n",
       "      <td>52.282908</td>\n",
       "    </tr>\n",
       "    <tr>\n",
       "      <th>Bookcases</th>\n",
       "      <td>80499.0</td>\n",
       "      <td>-11.097360</td>\n",
       "      <td>44.213659</td>\n",
       "    </tr>\n",
       "    <tr>\n",
       "      <th>Phones</th>\n",
       "      <td>84972.0</td>\n",
       "      <td>27.568545</td>\n",
       "      <td>33.786759</td>\n",
       "    </tr>\n",
       "    <tr>\n",
       "      <th>Storage</th>\n",
       "      <td>100386.0</td>\n",
       "      <td>9.952853</td>\n",
       "      <td>16.940141</td>\n",
       "    </tr>\n",
       "  </tbody>\n",
       "</table>\n",
       "</div>"
      ],
      "text/plain": [
       "              Total Sales  Mean Profit  Mean Shipping Cost\n",
       "Sub-Category                                              \n",
       "Labels             6902.0     4.956873            2.701778\n",
       "Fasteners          8564.0     4.745413            3.276487\n",
       "Envelopes         12247.0     9.398160            6.200844\n",
       "Supplies          17564.0     4.418555            7.731913\n",
       "Paper             18095.0    11.293347            6.273490\n",
       "Tables            29692.0     4.825986           76.923536\n",
       "Furnishings       32338.0     3.702428           10.400003\n",
       "Binders           33897.0     4.088856            4.797726\n",
       "Art               40881.0     7.825503            7.133128\n",
       "Machines          43826.0    -9.283979           28.275591\n",
       "Accessories       47340.0    25.898290           18.437050\n",
       "Appliances        62153.0    26.170782           36.790860\n",
       "Chairs            65853.0    14.421646           31.429296\n",
       "Copiers           75865.0    61.427466           52.282908\n",
       "Bookcases         80499.0   -11.097360           44.213659\n",
       "Phones            84972.0    27.568545           33.786759\n",
       "Storage          100386.0     9.952853           16.940141"
      ]
     },
     "execution_count": 142,
     "metadata": {},
     "output_type": "execute_result"
    }
   ],
   "source": [
    "newb"
   ]
  },
  {
   "cell_type": "code",
   "execution_count": 160,
   "metadata": {},
   "outputs": [
    {
     "data": {
      "text/html": [
       "<div>\n",
       "<style scoped>\n",
       "    .dataframe tbody tr th:only-of-type {\n",
       "        vertical-align: middle;\n",
       "    }\n",
       "\n",
       "    .dataframe tbody tr th {\n",
       "        vertical-align: top;\n",
       "    }\n",
       "\n",
       "    .dataframe thead th {\n",
       "        text-align: right;\n",
       "    }\n",
       "</style>\n",
       "<table border=\"1\" class=\"dataframe\">\n",
       "  <thead>\n",
       "    <tr style=\"text-align: right;\">\n",
       "      <th></th>\n",
       "      <th>Total Sales</th>\n",
       "      <th>Mean Profit</th>\n",
       "      <th>Mean Shipping Cost</th>\n",
       "    </tr>\n",
       "    <tr>\n",
       "      <th>Sub-Category</th>\n",
       "      <th></th>\n",
       "      <th></th>\n",
       "      <th></th>\n",
       "    </tr>\n",
       "  </thead>\n",
       "  <tbody>\n",
       "    <tr>\n",
       "      <th>Labels</th>\n",
       "      <td>33294.0</td>\n",
       "      <td>5.837465</td>\n",
       "      <td>3.233727</td>\n",
       "    </tr>\n",
       "    <tr>\n",
       "      <th>Fasteners</th>\n",
       "      <td>38233.0</td>\n",
       "      <td>4.949099</td>\n",
       "      <td>3.947855</td>\n",
       "    </tr>\n",
       "    <tr>\n",
       "      <th>Envelopes</th>\n",
       "      <td>85135.0</td>\n",
       "      <td>14.521430</td>\n",
       "      <td>8.222533</td>\n",
       "    </tr>\n",
       "    <tr>\n",
       "      <th>Paper</th>\n",
       "      <td>113149.0</td>\n",
       "      <td>17.683376</td>\n",
       "      <td>7.800237</td>\n",
       "    </tr>\n",
       "    <tr>\n",
       "      <th>Supplies</th>\n",
       "      <td>129221.0</td>\n",
       "      <td>11.686698</td>\n",
       "      <td>11.461277</td>\n",
       "    </tr>\n",
       "    <tr>\n",
       "      <th>Art</th>\n",
       "      <td>170165.0</td>\n",
       "      <td>14.998197</td>\n",
       "      <td>9.536927</td>\n",
       "    </tr>\n",
       "    <tr>\n",
       "      <th>Furnishings</th>\n",
       "      <td>188918.0</td>\n",
       "      <td>18.557662</td>\n",
       "      <td>14.666901</td>\n",
       "    </tr>\n",
       "    <tr>\n",
       "      <th>Binders</th>\n",
       "      <td>234268.0</td>\n",
       "      <td>15.447730</td>\n",
       "      <td>9.387587</td>\n",
       "    </tr>\n",
       "    <tr>\n",
       "      <th>Accessories</th>\n",
       "      <td>365338.0</td>\n",
       "      <td>44.820958</td>\n",
       "      <td>27.634349</td>\n",
       "    </tr>\n",
       "    <tr>\n",
       "      <th>Machines</th>\n",
       "      <td>366091.0</td>\n",
       "      <td>68.146128</td>\n",
       "      <td>59.114014</td>\n",
       "    </tr>\n",
       "    <tr>\n",
       "      <th>Tables</th>\n",
       "      <td>422026.0</td>\n",
       "      <td>-89.469764</td>\n",
       "      <td>100.253873</td>\n",
       "    </tr>\n",
       "    <tr>\n",
       "      <th>Storage</th>\n",
       "      <td>537197.0</td>\n",
       "      <td>24.796847</td>\n",
       "      <td>26.656862</td>\n",
       "    </tr>\n",
       "    <tr>\n",
       "      <th>Appliances</th>\n",
       "      <td>545080.0</td>\n",
       "      <td>103.089499</td>\n",
       "      <td>74.323821</td>\n",
       "    </tr>\n",
       "    <tr>\n",
       "      <th>Copiers</th>\n",
       "      <td>790966.0</td>\n",
       "      <td>140.188977</td>\n",
       "      <td>78.022959</td>\n",
       "    </tr>\n",
       "    <tr>\n",
       "      <th>Bookcases</th>\n",
       "      <td>793007.0</td>\n",
       "      <td>89.714318</td>\n",
       "      <td>71.829396</td>\n",
       "    </tr>\n",
       "    <tr>\n",
       "      <th>Chairs</th>\n",
       "      <td>844020.0</td>\n",
       "      <td>58.536732</td>\n",
       "      <td>56.157628</td>\n",
       "    </tr>\n",
       "    <tr>\n",
       "      <th>Phones</th>\n",
       "      <td>927165.0</td>\n",
       "      <td>78.974720</td>\n",
       "      <td>63.413626</td>\n",
       "    </tr>\n",
       "  </tbody>\n",
       "</table>\n",
       "</div>"
      ],
      "text/plain": [
       "              Total Sales  Mean Profit  Mean Shipping Cost\n",
       "Sub-Category                                              \n",
       "Labels            33294.0     5.837465            3.233727\n",
       "Fasteners         38233.0     4.949099            3.947855\n",
       "Envelopes         85135.0    14.521430            8.222533\n",
       "Paper            113149.0    17.683376            7.800237\n",
       "Supplies         129221.0    11.686698           11.461277\n",
       "Art              170165.0    14.998197            9.536927\n",
       "Furnishings      188918.0    18.557662           14.666901\n",
       "Binders          234268.0    15.447730            9.387587\n",
       "Accessories      365338.0    44.820958           27.634349\n",
       "Machines         366091.0    68.146128           59.114014\n",
       "Tables           422026.0   -89.469764          100.253873\n",
       "Storage          537197.0    24.796847           26.656862\n",
       "Appliances       545080.0   103.089499           74.323821\n",
       "Copiers          790966.0   140.188977           78.022959\n",
       "Bookcases        793007.0    89.714318           71.829396\n",
       "Chairs           844020.0    58.536732           56.157628\n",
       "Phones           927165.0    78.974720           63.413626"
      ]
     },
     "execution_count": 160,
     "metadata": {},
     "output_type": "execute_result"
    }
   ],
   "source": [
    "new"
   ]
  },
  {
   "cell_type": "code",
   "execution_count": 161,
   "metadata": {},
   "outputs": [
    {
     "data": {
      "text/html": [
       "<div>\n",
       "<style scoped>\n",
       "    .dataframe tbody tr th:only-of-type {\n",
       "        vertical-align: middle;\n",
       "    }\n",
       "\n",
       "    .dataframe tbody tr th {\n",
       "        vertical-align: top;\n",
       "    }\n",
       "\n",
       "    .dataframe thead th {\n",
       "        text-align: right;\n",
       "    }\n",
       "</style>\n",
       "<table border=\"1\" class=\"dataframe\">\n",
       "  <thead>\n",
       "    <tr style=\"text-align: right;\">\n",
       "      <th></th>\n",
       "      <th>Total Sales</th>\n",
       "      <th>Mean Profit</th>\n",
       "      <th>Mean Shipping Cost</th>\n",
       "    </tr>\n",
       "    <tr>\n",
       "      <th>Sub-Category</th>\n",
       "      <th></th>\n",
       "      <th></th>\n",
       "      <th></th>\n",
       "    </tr>\n",
       "  </thead>\n",
       "  <tbody>\n",
       "    <tr>\n",
       "      <th>Labels</th>\n",
       "      <td>6902.0</td>\n",
       "      <td>4.956873</td>\n",
       "      <td>2.701778</td>\n",
       "    </tr>\n",
       "    <tr>\n",
       "      <th>Fasteners</th>\n",
       "      <td>8564.0</td>\n",
       "      <td>4.745413</td>\n",
       "      <td>3.276487</td>\n",
       "    </tr>\n",
       "    <tr>\n",
       "      <th>Envelopes</th>\n",
       "      <td>12247.0</td>\n",
       "      <td>9.398160</td>\n",
       "      <td>6.200844</td>\n",
       "    </tr>\n",
       "    <tr>\n",
       "      <th>Supplies</th>\n",
       "      <td>17564.0</td>\n",
       "      <td>4.418555</td>\n",
       "      <td>7.731913</td>\n",
       "    </tr>\n",
       "    <tr>\n",
       "      <th>Paper</th>\n",
       "      <td>18095.0</td>\n",
       "      <td>11.293347</td>\n",
       "      <td>6.273490</td>\n",
       "    </tr>\n",
       "    <tr>\n",
       "      <th>Tables</th>\n",
       "      <td>29692.0</td>\n",
       "      <td>4.825986</td>\n",
       "      <td>76.923536</td>\n",
       "    </tr>\n",
       "    <tr>\n",
       "      <th>Furnishings</th>\n",
       "      <td>32338.0</td>\n",
       "      <td>3.702428</td>\n",
       "      <td>10.400003</td>\n",
       "    </tr>\n",
       "    <tr>\n",
       "      <th>Binders</th>\n",
       "      <td>33897.0</td>\n",
       "      <td>4.088856</td>\n",
       "      <td>4.797726</td>\n",
       "    </tr>\n",
       "    <tr>\n",
       "      <th>Art</th>\n",
       "      <td>40881.0</td>\n",
       "      <td>7.825503</td>\n",
       "      <td>7.133128</td>\n",
       "    </tr>\n",
       "    <tr>\n",
       "      <th>Machines</th>\n",
       "      <td>43826.0</td>\n",
       "      <td>-9.283979</td>\n",
       "      <td>28.275591</td>\n",
       "    </tr>\n",
       "    <tr>\n",
       "      <th>Accessories</th>\n",
       "      <td>47340.0</td>\n",
       "      <td>25.898290</td>\n",
       "      <td>18.437050</td>\n",
       "    </tr>\n",
       "    <tr>\n",
       "      <th>Appliances</th>\n",
       "      <td>62153.0</td>\n",
       "      <td>26.170782</td>\n",
       "      <td>36.790860</td>\n",
       "    </tr>\n",
       "    <tr>\n",
       "      <th>Chairs</th>\n",
       "      <td>65853.0</td>\n",
       "      <td>14.421646</td>\n",
       "      <td>31.429296</td>\n",
       "    </tr>\n",
       "    <tr>\n",
       "      <th>Copiers</th>\n",
       "      <td>75865.0</td>\n",
       "      <td>61.427466</td>\n",
       "      <td>52.282908</td>\n",
       "    </tr>\n",
       "    <tr>\n",
       "      <th>Bookcases</th>\n",
       "      <td>80499.0</td>\n",
       "      <td>-11.097360</td>\n",
       "      <td>44.213659</td>\n",
       "    </tr>\n",
       "    <tr>\n",
       "      <th>Phones</th>\n",
       "      <td>84972.0</td>\n",
       "      <td>27.568545</td>\n",
       "      <td>33.786759</td>\n",
       "    </tr>\n",
       "    <tr>\n",
       "      <th>Storage</th>\n",
       "      <td>100386.0</td>\n",
       "      <td>9.952853</td>\n",
       "      <td>16.940141</td>\n",
       "    </tr>\n",
       "  </tbody>\n",
       "</table>\n",
       "</div>"
      ],
      "text/plain": [
       "              Total Sales  Mean Profit  Mean Shipping Cost\n",
       "Sub-Category                                              \n",
       "Labels             6902.0     4.956873            2.701778\n",
       "Fasteners          8564.0     4.745413            3.276487\n",
       "Envelopes         12247.0     9.398160            6.200844\n",
       "Supplies          17564.0     4.418555            7.731913\n",
       "Paper             18095.0    11.293347            6.273490\n",
       "Tables            29692.0     4.825986           76.923536\n",
       "Furnishings       32338.0     3.702428           10.400003\n",
       "Binders           33897.0     4.088856            4.797726\n",
       "Art               40881.0     7.825503            7.133128\n",
       "Machines          43826.0    -9.283979           28.275591\n",
       "Accessories       47340.0    25.898290           18.437050\n",
       "Appliances        62153.0    26.170782           36.790860\n",
       "Chairs            65853.0    14.421646           31.429296\n",
       "Copiers           75865.0    61.427466           52.282908\n",
       "Bookcases         80499.0   -11.097360           44.213659\n",
       "Phones            84972.0    27.568545           33.786759\n",
       "Storage          100386.0     9.952853           16.940141"
      ]
     },
     "execution_count": 161,
     "metadata": {},
     "output_type": "execute_result"
    }
   ],
   "source": [
    "newb"
   ]
  },
  {
   "cell_type": "code",
   "execution_count": 4,
   "metadata": {},
   "outputs": [],
   "source": [
    "R = RFM_scores"
   ]
  },
  {
   "cell_type": "code",
   "execution_count": 5,
   "metadata": {},
   "outputs": [
    {
     "data": {
      "text/html": [
       "<div>\n",
       "<style scoped>\n",
       "    .dataframe tbody tr th:only-of-type {\n",
       "        vertical-align: middle;\n",
       "    }\n",
       "\n",
       "    .dataframe tbody tr th {\n",
       "        vertical-align: top;\n",
       "    }\n",
       "\n",
       "    .dataframe thead th {\n",
       "        text-align: right;\n",
       "    }\n",
       "</style>\n",
       "<table border=\"1\" class=\"dataframe\">\n",
       "  <thead>\n",
       "    <tr style=\"text-align: right;\">\n",
       "      <th></th>\n",
       "      <th>R</th>\n",
       "      <th>F</th>\n",
       "      <th>M</th>\n",
       "      <th>T</th>\n",
       "    </tr>\n",
       "    <tr>\n",
       "      <th>Customer ID</th>\n",
       "      <th></th>\n",
       "      <th></th>\n",
       "      <th></th>\n",
       "      <th></th>\n",
       "    </tr>\n",
       "  </thead>\n",
       "  <tbody>\n",
       "    <tr>\n",
       "      <th>PB-192102</th>\n",
       "      <td>5</td>\n",
       "      <td>5</td>\n",
       "      <td>5</td>\n",
       "      <td>5.0</td>\n",
       "    </tr>\n",
       "    <tr>\n",
       "      <th>RA-199154</th>\n",
       "      <td>5</td>\n",
       "      <td>5</td>\n",
       "      <td>5</td>\n",
       "      <td>5.0</td>\n",
       "    </tr>\n",
       "    <tr>\n",
       "      <th>PS-190453</th>\n",
       "      <td>5</td>\n",
       "      <td>5</td>\n",
       "      <td>5</td>\n",
       "      <td>5.0</td>\n",
       "    </tr>\n",
       "    <tr>\n",
       "      <th>AT-107352</th>\n",
       "      <td>5</td>\n",
       "      <td>5</td>\n",
       "      <td>5</td>\n",
       "      <td>5.0</td>\n",
       "    </tr>\n",
       "    <tr>\n",
       "      <th>MM-179203</th>\n",
       "      <td>5</td>\n",
       "      <td>5</td>\n",
       "      <td>5</td>\n",
       "      <td>5.0</td>\n",
       "    </tr>\n",
       "  </tbody>\n",
       "</table>\n",
       "</div>"
      ],
      "text/plain": [
       "             R  F  M    T\n",
       "Customer ID              \n",
       "PB-192102    5  5  5  5.0\n",
       "RA-199154    5  5  5  5.0\n",
       "PS-190453    5  5  5  5.0\n",
       "AT-107352    5  5  5  5.0\n",
       "MM-179203    5  5  5  5.0"
      ]
     },
     "execution_count": 5,
     "metadata": {},
     "output_type": "execute_result"
    }
   ],
   "source": [
    "R.rename(columns={R.columns[0]:'R',R.columns[1]:'F',R.columns[2]:'M',R.columns[3]:'T'},inplace=True)\n",
    "R.head()"
   ]
  },
  {
   "cell_type": "code",
   "execution_count": 178,
   "metadata": {},
   "outputs": [],
   "source": []
  },
  {
   "cell_type": "code",
   "execution_count": 33,
   "metadata": {},
   "outputs": [
    {
     "data": {
      "text/plain": [
       "18.017648265955263"
      ]
     },
     "execution_count": 33,
     "metadata": {},
     "output_type": "execute_result"
    }
   ],
   "source": [
    "Hib_Risk = len(R[np.asarray(R.R<2)& np.asarray(R.F<4)])/4873*100\n",
    "Hib_Risk"
   ]
  },
  {
   "cell_type": "code",
   "execution_count": 34,
   "metadata": {},
   "outputs": [
    {
     "data": {
      "text/plain": [
       "1.9905602298378824"
      ]
     },
     "execution_count": 34,
     "metadata": {},
     "output_type": "execute_result"
    }
   ],
   "source": [
    "Cant_Lose = len(R[np.asarray(R.R<2)& np.asarray(R.F>=4)])/4873*100\n",
    "Cant_Lose"
   ]
  },
  {
   "cell_type": "code",
   "execution_count": 35,
   "metadata": {},
   "outputs": [
    {
     "data": {
      "text/plain": [
       "21.937205007182435"
      ]
     },
     "execution_count": 35,
     "metadata": {},
     "output_type": "execute_result"
    }
   ],
   "source": [
    "Champs = len(R[np.asarray(4<=R.R)& np.asarray(R.F>=4)])/4873*100\n",
    "Champs"
   ]
  },
  {
   "cell_type": "code",
   "execution_count": 36,
   "metadata": {},
   "outputs": [
    {
     "data": {
      "text/plain": [
       "17.627744715780832"
      ]
     },
     "execution_count": 36,
     "metadata": {},
     "output_type": "execute_result"
    }
   ],
   "source": [
    "Need_att = len(R[np.asarray(2<=R.R)& np.asarray(4>R.R) & np.asarray(R.F>=2)& np.asarray(R.F<4)])/4873*100\n",
    "Need_att"
   ]
  },
  {
   "cell_type": "code",
   "execution_count": 37,
   "metadata": {},
   "outputs": [
    {
     "data": {
      "text/plain": [
       "8.680484301251795"
      ]
     },
     "execution_count": 37,
     "metadata": {},
     "output_type": "execute_result"
    }
   ],
   "source": [
    "Loyal = len(R[np.asarray(4<=R.F)& np.asarray(5>R.F) & np.asarray(R.R>=2)& np.asarray(R.R<4)])/4873*100\n",
    "Loyal"
   ]
  },
  {
   "cell_type": "code",
   "execution_count": 38,
   "metadata": {},
   "outputs": [
    {
     "data": {
      "text/plain": [
       "18.058690744920995"
      ]
     },
     "execution_count": 38,
     "metadata": {},
     "output_type": "execute_result"
    }
   ],
   "source": [
    "pot_loyal = len(R[np.asarray(R.R>=4) & np.asarray(R.F>=1)& np.asarray(R.F<=3)])/4873*100\n",
    "pot_loyal"
   ]
  },
  {
   "cell_type": "code",
   "execution_count": 39,
   "metadata": {},
   "outputs": [
    {
     "data": {
      "text/plain": [
       "3.078185922429715"
      ]
     },
     "execution_count": 39,
     "metadata": {},
     "output_type": "execute_result"
    }
   ],
   "source": [
    "new = len(R[np.asarray(R.R>=4) & np.asarray(R.F==1)& np.asarray(R.F<3)])/4873*100\n",
    "new"
   ]
  },
  {
   "cell_type": "code",
   "execution_count": 40,
   "metadata": {},
   "outputs": [
    {
     "data": {
      "text/plain": [
       "6.300020521239483"
      ]
     },
     "execution_count": 40,
     "metadata": {},
     "output_type": "execute_result"
    }
   ],
   "source": [
    "abt_sleep = len(R[np.asarray(2<=R.R)& np.asarray(4>R.R) & np.asarray(R.F<2)])/4873*100\n",
    "abt_sleep"
   ]
  },
  {
   "cell_type": "code",
   "execution_count": 41,
   "metadata": {},
   "outputs": [
    {
     "data": {
      "text/plain": [
       "95.6905397085984"
      ]
     },
     "execution_count": 41,
     "metadata": {},
     "output_type": "execute_result"
    }
   ],
   "source": [
    "Cant_Lose+Hib_Risk+abt_sleep+Loyal+Need_att+Champs+pot_loyal+new"
   ]
  },
  {
   "cell_type": "code",
   "execution_count": 236,
   "metadata": {},
   "outputs": [
    {
     "data": {
      "text/plain": [
       "4873"
      ]
     },
     "execution_count": 236,
     "metadata": {},
     "output_type": "execute_result"
    }
   ],
   "source": [
    "abt_sleep"
   ]
  },
  {
   "cell_type": "code",
   "execution_count": 2,
   "metadata": {},
   "outputs": [
    {
     "data": {
      "text/html": [
       "<div>\n",
       "<style scoped>\n",
       "    .dataframe tbody tr th:only-of-type {\n",
       "        vertical-align: middle;\n",
       "    }\n",
       "\n",
       "    .dataframe tbody tr th {\n",
       "        vertical-align: top;\n",
       "    }\n",
       "\n",
       "    .dataframe thead th {\n",
       "        text-align: right;\n",
       "    }\n",
       "</style>\n",
       "<table border=\"1\" class=\"dataframe\">\n",
       "  <thead>\n",
       "    <tr style=\"text-align: right;\">\n",
       "      <th></th>\n",
       "      <th>Ship Datemin</th>\n",
       "    </tr>\n",
       "    <tr>\n",
       "      <th>Customer ID</th>\n",
       "      <th></th>\n",
       "    </tr>\n",
       "  </thead>\n",
       "  <tbody>\n",
       "    <tr>\n",
       "      <th>AA-103151</th>\n",
       "      <td>2014</td>\n",
       "    </tr>\n",
       "    <tr>\n",
       "      <th>AA-103152</th>\n",
       "      <td>2014</td>\n",
       "    </tr>\n",
       "    <tr>\n",
       "      <th>AA-103153</th>\n",
       "      <td>2013</td>\n",
       "    </tr>\n",
       "    <tr>\n",
       "      <th>AA-103154</th>\n",
       "      <td>2011</td>\n",
       "    </tr>\n",
       "    <tr>\n",
       "      <th>AA-103751</th>\n",
       "      <td>2012</td>\n",
       "    </tr>\n",
       "  </tbody>\n",
       "</table>\n",
       "</div>"
      ],
      "text/plain": [
       "            Ship Datemin\n",
       "Customer ID             \n",
       "AA-103151           2014\n",
       "AA-103152           2014\n",
       "AA-103153           2013\n",
       "AA-103154           2011\n",
       "AA-103751           2012"
      ]
     },
     "execution_count": 2,
     "metadata": {},
     "output_type": "execute_result"
    }
   ],
   "source": [
    "df = pd.read_csv('Dataset.csv')\n",
    "df2 = df.groupby(['Customer ID']).aggregate({'Ship Date': ['min']}) \n",
    "df2.columns = list(map(''.join, df2.columns.values))\n",
    "df2['Ship Datemin'] = pd.to_datetime(df2['Ship Datemin'],dayfirst=True)\n",
    "for i in range(len(df2)):\n",
    "    df2.iloc[i,0] = df2.iloc[i,0].year\n",
    "df2.head()"
   ]
  },
  {
   "cell_type": "code",
   "execution_count": 6,
   "metadata": {},
   "outputs": [],
   "source": [
    "R['YOJ'] = df2.loc[R.index]"
   ]
  },
  {
   "cell_type": "code",
   "execution_count": 7,
   "metadata": {},
   "outputs": [
    {
     "data": {
      "text/html": [
       "<div>\n",
       "<style scoped>\n",
       "    .dataframe tbody tr th:only-of-type {\n",
       "        vertical-align: middle;\n",
       "    }\n",
       "\n",
       "    .dataframe tbody tr th {\n",
       "        vertical-align: top;\n",
       "    }\n",
       "\n",
       "    .dataframe thead th {\n",
       "        text-align: right;\n",
       "    }\n",
       "</style>\n",
       "<table border=\"1\" class=\"dataframe\">\n",
       "  <thead>\n",
       "    <tr style=\"text-align: right;\">\n",
       "      <th></th>\n",
       "      <th>R</th>\n",
       "      <th>F</th>\n",
       "      <th>M</th>\n",
       "      <th>T</th>\n",
       "      <th>YOJ</th>\n",
       "    </tr>\n",
       "    <tr>\n",
       "      <th>Customer ID</th>\n",
       "      <th></th>\n",
       "      <th></th>\n",
       "      <th></th>\n",
       "      <th></th>\n",
       "      <th></th>\n",
       "    </tr>\n",
       "  </thead>\n",
       "  <tbody>\n",
       "    <tr>\n",
       "      <th>PB-192102</th>\n",
       "      <td>5</td>\n",
       "      <td>5</td>\n",
       "      <td>5</td>\n",
       "      <td>5.0</td>\n",
       "      <td>2011</td>\n",
       "    </tr>\n",
       "    <tr>\n",
       "      <th>RA-199154</th>\n",
       "      <td>5</td>\n",
       "      <td>5</td>\n",
       "      <td>5</td>\n",
       "      <td>5.0</td>\n",
       "      <td>2011</td>\n",
       "    </tr>\n",
       "    <tr>\n",
       "      <th>PS-190453</th>\n",
       "      <td>5</td>\n",
       "      <td>5</td>\n",
       "      <td>5</td>\n",
       "      <td>5.0</td>\n",
       "      <td>2014</td>\n",
       "    </tr>\n",
       "    <tr>\n",
       "      <th>AT-107352</th>\n",
       "      <td>5</td>\n",
       "      <td>5</td>\n",
       "      <td>5</td>\n",
       "      <td>5.0</td>\n",
       "      <td>2012</td>\n",
       "    </tr>\n",
       "    <tr>\n",
       "      <th>MM-179203</th>\n",
       "      <td>5</td>\n",
       "      <td>5</td>\n",
       "      <td>5</td>\n",
       "      <td>5.0</td>\n",
       "      <td>2011</td>\n",
       "    </tr>\n",
       "  </tbody>\n",
       "</table>\n",
       "</div>"
      ],
      "text/plain": [
       "             R  F  M    T   YOJ\n",
       "Customer ID                    \n",
       "PB-192102    5  5  5  5.0  2011\n",
       "RA-199154    5  5  5  5.0  2011\n",
       "PS-190453    5  5  5  5.0  2014\n",
       "AT-107352    5  5  5  5.0  2012\n",
       "MM-179203    5  5  5  5.0  2011"
      ]
     },
     "execution_count": 7,
     "metadata": {},
     "output_type": "execute_result"
    }
   ],
   "source": [
    "R.head()"
   ]
  },
  {
   "cell_type": "code",
   "execution_count": 24,
   "metadata": {},
   "outputs": [
    {
     "data": {
      "text/plain": [
       "100"
      ]
     },
     "execution_count": 24,
     "metadata": {},
     "output_type": "execute_result"
    }
   ],
   "source": [
    "Loyal = (R[np.asarray(4<=R.F)& np.asarray(5>R.F) & np.asarray(R.R>=2)& np.asarray(R.R<4)])\n",
    "sum(Loyal.YOJ==2012)"
   ]
  },
  {
   "cell_type": "code",
   "execution_count": 23,
   "metadata": {},
   "outputs": [
    {
     "data": {
      "text/plain": [
       "162"
      ]
     },
     "execution_count": 23,
     "metadata": {},
     "output_type": "execute_result"
    }
   ],
   "source": [
    "Need_att = (R[np.asarray(2<=R.R)& np.asarray(4>R.R) & np.asarray(R.F>=2)& np.asarray(R.F<4)])\n",
    "sum(Need_att.YOJ==2012)"
   ]
  },
  {
   "cell_type": "code",
   "execution_count": 17,
   "metadata": {},
   "outputs": [
    {
     "data": {
      "text/plain": [
       "978"
      ]
     },
     "execution_count": 17,
     "metadata": {},
     "output_type": "execute_result"
    }
   ],
   "source": [
    "sum(R.YOJ==2012)"
   ]
  },
  {
   "cell_type": "code",
   "execution_count": 26,
   "metadata": {},
   "outputs": [
    {
     "data": {
      "text/plain": [
       "269"
      ]
     },
     "execution_count": 26,
     "metadata": {},
     "output_type": "execute_result"
    }
   ],
   "source": [
    "Champs = (R[np.asarray(4<=R.R)& np.asarray(R.F>=3)])\n",
    "sum(Champs.YOJ==2012)"
   ]
  },
  {
   "cell_type": "code",
   "execution_count": 27,
   "metadata": {},
   "outputs": [
    {
     "data": {
      "text/plain": [
       "531"
      ]
     },
     "execution_count": 27,
     "metadata": {},
     "output_type": "execute_result"
    }
   ],
   "source": [
    "100+162+269"
   ]
  },
  {
   "cell_type": "code",
   "execution_count": 30,
   "metadata": {},
   "outputs": [
    {
     "data": {
      "text/plain": [
       "143"
      ]
     },
     "execution_count": 30,
     "metadata": {},
     "output_type": "execute_result"
    }
   ],
   "source": [
    "abt_sleep = (R[np.asarray(2<=R.R)& np.asarray(4>R.R) & np.asarray(R.F<2)])\n",
    "sum(abt_sleep.YOJ==201)"
   ]
  },
  {
   "cell_type": "code",
   "execution_count": 42,
   "metadata": {},
   "outputs": [
    {
     "data": {
      "text/plain": [
       "159"
      ]
     },
     "execution_count": 42,
     "metadata": {},
     "output_type": "execute_result"
    }
   ],
   "source": [
    "pot_loyal = (R[np.asarray(R.R>=4) & np.asarray(R.F>=1)& np.asarray(R.F<=3)])\n",
    "sum(pot_loyal.YOJ==2012)"
   ]
  },
  {
   "cell_type": "code",
   "execution_count": 43,
   "metadata": {},
   "outputs": [
    {
     "data": {
      "text/plain": [
       "590"
      ]
     },
     "execution_count": 43,
     "metadata": {},
     "output_type": "execute_result"
    }
   ],
   "source": [
    "159+162+269"
   ]
  },
  {
   "cell_type": "code",
   "execution_count": 44,
   "metadata": {},
   "outputs": [],
   "source": [
    "new=pd.read_csv('Top_trans.csv')\n",
    "newb=pd.read_csv('bottom.csv')"
   ]
  },
  {
   "cell_type": "code",
   "execution_count": 46,
   "metadata": {},
   "outputs": [],
   "source": [
    "new.sort_values(by='Total Sales',ascending=False,inplace=True)\n",
    "newb.sort_values(by='Total Sales',ascending=False,inplace=True)"
   ]
  },
  {
   "cell_type": "code",
   "execution_count": 47,
   "metadata": {},
   "outputs": [
    {
     "data": {
      "text/html": [
       "<div>\n",
       "<style scoped>\n",
       "    .dataframe tbody tr th:only-of-type {\n",
       "        vertical-align: middle;\n",
       "    }\n",
       "\n",
       "    .dataframe tbody tr th {\n",
       "        vertical-align: top;\n",
       "    }\n",
       "\n",
       "    .dataframe thead th {\n",
       "        text-align: right;\n",
       "    }\n",
       "</style>\n",
       "<table border=\"1\" class=\"dataframe\">\n",
       "  <thead>\n",
       "    <tr style=\"text-align: right;\">\n",
       "      <th></th>\n",
       "      <th>Sub-Category</th>\n",
       "      <th>Total Sales</th>\n",
       "      <th>Mean Profit</th>\n",
       "      <th>Mean Shipping Cost</th>\n",
       "    </tr>\n",
       "  </thead>\n",
       "  <tbody>\n",
       "    <tr>\n",
       "      <th>16</th>\n",
       "      <td>Phones</td>\n",
       "      <td>927165.0</td>\n",
       "      <td>78.974720</td>\n",
       "      <td>63.413626</td>\n",
       "    </tr>\n",
       "    <tr>\n",
       "      <th>15</th>\n",
       "      <td>Chairs</td>\n",
       "      <td>844020.0</td>\n",
       "      <td>58.536732</td>\n",
       "      <td>56.157628</td>\n",
       "    </tr>\n",
       "    <tr>\n",
       "      <th>14</th>\n",
       "      <td>Bookcases</td>\n",
       "      <td>793007.0</td>\n",
       "      <td>89.714318</td>\n",
       "      <td>71.829396</td>\n",
       "    </tr>\n",
       "    <tr>\n",
       "      <th>13</th>\n",
       "      <td>Copiers</td>\n",
       "      <td>790966.0</td>\n",
       "      <td>140.188977</td>\n",
       "      <td>78.022959</td>\n",
       "    </tr>\n",
       "    <tr>\n",
       "      <th>12</th>\n",
       "      <td>Appliances</td>\n",
       "      <td>545080.0</td>\n",
       "      <td>103.089499</td>\n",
       "      <td>74.323821</td>\n",
       "    </tr>\n",
       "  </tbody>\n",
       "</table>\n",
       "</div>"
      ],
      "text/plain": [
       "   Sub-Category  Total Sales  Mean Profit  Mean Shipping Cost\n",
       "16       Phones     927165.0    78.974720           63.413626\n",
       "15       Chairs     844020.0    58.536732           56.157628\n",
       "14    Bookcases     793007.0    89.714318           71.829396\n",
       "13      Copiers     790966.0   140.188977           78.022959\n",
       "12   Appliances     545080.0   103.089499           74.323821"
      ]
     },
     "execution_count": 47,
     "metadata": {},
     "output_type": "execute_result"
    }
   ],
   "source": [
    "new.head()"
   ]
  },
  {
   "cell_type": "code",
   "execution_count": 48,
   "metadata": {},
   "outputs": [
    {
     "data": {
      "text/html": [
       "<div>\n",
       "<style scoped>\n",
       "    .dataframe tbody tr th:only-of-type {\n",
       "        vertical-align: middle;\n",
       "    }\n",
       "\n",
       "    .dataframe tbody tr th {\n",
       "        vertical-align: top;\n",
       "    }\n",
       "\n",
       "    .dataframe thead th {\n",
       "        text-align: right;\n",
       "    }\n",
       "</style>\n",
       "<table border=\"1\" class=\"dataframe\">\n",
       "  <thead>\n",
       "    <tr style=\"text-align: right;\">\n",
       "      <th></th>\n",
       "      <th>Sub-Category</th>\n",
       "      <th>Total Sales</th>\n",
       "      <th>Mean Profit</th>\n",
       "      <th>Mean Shipping Cost</th>\n",
       "    </tr>\n",
       "  </thead>\n",
       "  <tbody>\n",
       "    <tr>\n",
       "      <th>16</th>\n",
       "      <td>Storage</td>\n",
       "      <td>100386.0</td>\n",
       "      <td>9.952853</td>\n",
       "      <td>16.940141</td>\n",
       "    </tr>\n",
       "    <tr>\n",
       "      <th>15</th>\n",
       "      <td>Phones</td>\n",
       "      <td>84972.0</td>\n",
       "      <td>27.568545</td>\n",
       "      <td>33.786759</td>\n",
       "    </tr>\n",
       "    <tr>\n",
       "      <th>14</th>\n",
       "      <td>Bookcases</td>\n",
       "      <td>80499.0</td>\n",
       "      <td>-11.097360</td>\n",
       "      <td>44.213659</td>\n",
       "    </tr>\n",
       "    <tr>\n",
       "      <th>13</th>\n",
       "      <td>Copiers</td>\n",
       "      <td>75865.0</td>\n",
       "      <td>61.427466</td>\n",
       "      <td>52.282908</td>\n",
       "    </tr>\n",
       "    <tr>\n",
       "      <th>12</th>\n",
       "      <td>Chairs</td>\n",
       "      <td>65853.0</td>\n",
       "      <td>14.421646</td>\n",
       "      <td>31.429296</td>\n",
       "    </tr>\n",
       "  </tbody>\n",
       "</table>\n",
       "</div>"
      ],
      "text/plain": [
       "   Sub-Category  Total Sales  Mean Profit  Mean Shipping Cost\n",
       "16      Storage     100386.0     9.952853           16.940141\n",
       "15       Phones      84972.0    27.568545           33.786759\n",
       "14    Bookcases      80499.0   -11.097360           44.213659\n",
       "13      Copiers      75865.0    61.427466           52.282908\n",
       "12       Chairs      65853.0    14.421646           31.429296"
      ]
     },
     "execution_count": 48,
     "metadata": {},
     "output_type": "execute_result"
    }
   ],
   "source": [
    "newb.head()"
   ]
  },
  {
   "cell_type": "code",
   "execution_count": null,
   "metadata": {},
   "outputs": [],
   "source": []
  }
 ],
 "metadata": {
  "kernelspec": {
   "display_name": "Python 3",
   "language": "python",
   "name": "python3"
  },
  "language_info": {
   "codemirror_mode": {
    "name": "ipython",
    "version": 3
   },
   "file_extension": ".py",
   "mimetype": "text/x-python",
   "name": "python",
   "nbconvert_exporter": "python",
   "pygments_lexer": "ipython3",
   "version": "3.7.3"
  }
 },
 "nbformat": 4,
 "nbformat_minor": 4
}
